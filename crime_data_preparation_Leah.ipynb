{
 "cells": [
  {
   "cell_type": "markdown",
   "metadata": {},
   "source": [
    "# Data Preparation"
   ]
  },
  {
   "cell_type": "code",
   "execution_count": 1,
   "metadata": {},
   "outputs": [],
   "source": [
    "#import libraries\n",
    "import pandas as pd\n",
    "import numpy as np\n",
    "import datetime\n",
    "\n",
    "import seaborn as sns\n",
    "import matplotlib.pyplot as plt\n",
    "\n",
    "import copy \n",
    "\n",
    "import warnings\n",
    "warnings.filterwarnings('ignore')"
   ]
  },
  {
   "cell_type": "markdown",
   "metadata": {},
   "source": [
    "##### We will be using the NYPD data to compare pre-covid vs post-covid crime in New York City."
   ]
  },
  {
   "cell_type": "code",
   "execution_count": 2,
   "metadata": {
    "scrolled": true
   },
   "outputs": [
    {
     "data": {
      "text/html": [
       "<div>\n",
       "<style scoped>\n",
       "    .dataframe tbody tr th:only-of-type {\n",
       "        vertical-align: middle;\n",
       "    }\n",
       "\n",
       "    .dataframe tbody tr th {\n",
       "        vertical-align: top;\n",
       "    }\n",
       "\n",
       "    .dataframe thead th {\n",
       "        text-align: right;\n",
       "    }\n",
       "</style>\n",
       "<table border=\"1\" class=\"dataframe\">\n",
       "  <thead>\n",
       "    <tr style=\"text-align: right;\">\n",
       "      <th></th>\n",
       "      <th>ARREST_KEY</th>\n",
       "      <th>ARREST_DATE</th>\n",
       "      <th>PD_CD</th>\n",
       "      <th>PD_DESC</th>\n",
       "      <th>KY_CD</th>\n",
       "      <th>OFNS_DESC</th>\n",
       "      <th>LAW_CODE</th>\n",
       "      <th>LAW_CAT_CD</th>\n",
       "      <th>ARREST_BORO</th>\n",
       "      <th>ARREST_PRECINCT</th>\n",
       "      <th>JURISDICTION_CODE</th>\n",
       "      <th>AGE_GROUP</th>\n",
       "      <th>PERP_SEX</th>\n",
       "      <th>PERP_RACE</th>\n",
       "      <th>X_COORD_CD</th>\n",
       "      <th>Y_COORD_CD</th>\n",
       "      <th>Latitude</th>\n",
       "      <th>Longitude</th>\n",
       "      <th>New Georeferenced Column</th>\n",
       "    </tr>\n",
       "  </thead>\n",
       "  <tbody>\n",
       "    <tr>\n",
       "      <th>0</th>\n",
       "      <td>238013474</td>\n",
       "      <td>12/18/2021</td>\n",
       "      <td>157.0</td>\n",
       "      <td>RAPE 1</td>\n",
       "      <td>104.0</td>\n",
       "      <td>RAPE</td>\n",
       "      <td>PL 1303501</td>\n",
       "      <td>F</td>\n",
       "      <td>Q</td>\n",
       "      <td>105</td>\n",
       "      <td>97</td>\n",
       "      <td>18-24</td>\n",
       "      <td>M</td>\n",
       "      <td>BLACK</td>\n",
       "      <td>1057636</td>\n",
       "      <td>203954</td>\n",
       "      <td>40.726187</td>\n",
       "      <td>-73.735234</td>\n",
       "      <td>POINT (-73.73523390399998 40.72618713000002)</td>\n",
       "    </tr>\n",
       "    <tr>\n",
       "      <th>1</th>\n",
       "      <td>236943583</td>\n",
       "      <td>11/25/2021</td>\n",
       "      <td>263.0</td>\n",
       "      <td>ARSON 2,3,4</td>\n",
       "      <td>114.0</td>\n",
       "      <td>ARSON</td>\n",
       "      <td>PL 1501500</td>\n",
       "      <td>F</td>\n",
       "      <td>K</td>\n",
       "      <td>69</td>\n",
       "      <td>71</td>\n",
       "      <td>25-44</td>\n",
       "      <td>M</td>\n",
       "      <td>BLACK</td>\n",
       "      <td>1014340</td>\n",
       "      <td>171320</td>\n",
       "      <td>40.636868</td>\n",
       "      <td>-73.891586</td>\n",
       "      <td>POINT (-73.89158591899997 40.63686750900007)</td>\n",
       "    </tr>\n",
       "    <tr>\n",
       "      <th>2</th>\n",
       "      <td>234938876</td>\n",
       "      <td>10/14/2021</td>\n",
       "      <td>594.0</td>\n",
       "      <td>OBSCENITY 1</td>\n",
       "      <td>116.0</td>\n",
       "      <td>SEX CRIMES</td>\n",
       "      <td>PL 2631100</td>\n",
       "      <td>F</td>\n",
       "      <td>K</td>\n",
       "      <td>61</td>\n",
       "      <td>0</td>\n",
       "      <td>25-44</td>\n",
       "      <td>M</td>\n",
       "      <td>WHITE</td>\n",
       "      <td>995244</td>\n",
       "      <td>155739</td>\n",
       "      <td>40.594145</td>\n",
       "      <td>-73.960415</td>\n",
       "      <td>POINT (-73.96041495199995 40.59414516900005)</td>\n",
       "    </tr>\n",
       "    <tr>\n",
       "      <th>3</th>\n",
       "      <td>234788259</td>\n",
       "      <td>10/11/2021</td>\n",
       "      <td>263.0</td>\n",
       "      <td>ARSON 2,3,4</td>\n",
       "      <td>114.0</td>\n",
       "      <td>ARSON</td>\n",
       "      <td>PL 1501001</td>\n",
       "      <td>F</td>\n",
       "      <td>B</td>\n",
       "      <td>42</td>\n",
       "      <td>71</td>\n",
       "      <td>18-24</td>\n",
       "      <td>M</td>\n",
       "      <td>BLACK</td>\n",
       "      <td>1009058</td>\n",
       "      <td>239616</td>\n",
       "      <td>40.824340</td>\n",
       "      <td>-73.910365</td>\n",
       "      <td>POINT (-73.91036538099996 40.82433953100008)</td>\n",
       "    </tr>\n",
       "    <tr>\n",
       "      <th>4</th>\n",
       "      <td>234188790</td>\n",
       "      <td>09/28/2021</td>\n",
       "      <td>578.0</td>\n",
       "      <td>NaN</td>\n",
       "      <td>NaN</td>\n",
       "      <td>NaN</td>\n",
       "      <td>PL 2223001</td>\n",
       "      <td>M</td>\n",
       "      <td>B</td>\n",
       "      <td>44</td>\n",
       "      <td>0</td>\n",
       "      <td>25-44</td>\n",
       "      <td>M</td>\n",
       "      <td>BLACK</td>\n",
       "      <td>1005169</td>\n",
       "      <td>246667</td>\n",
       "      <td>40.843703</td>\n",
       "      <td>-73.924395</td>\n",
       "      <td>POINT (-73.92439508899997 40.84370255600004)</td>\n",
       "    </tr>\n",
       "  </tbody>\n",
       "</table>\n",
       "</div>"
      ],
      "text/plain": [
       "   ARREST_KEY ARREST_DATE  PD_CD      PD_DESC  KY_CD   OFNS_DESC    LAW_CODE  \\\n",
       "0   238013474  12/18/2021  157.0       RAPE 1  104.0        RAPE  PL 1303501   \n",
       "1   236943583  11/25/2021  263.0  ARSON 2,3,4  114.0       ARSON  PL 1501500   \n",
       "2   234938876  10/14/2021  594.0  OBSCENITY 1  116.0  SEX CRIMES  PL 2631100   \n",
       "3   234788259  10/11/2021  263.0  ARSON 2,3,4  114.0       ARSON  PL 1501001   \n",
       "4   234188790  09/28/2021  578.0          NaN    NaN         NaN  PL 2223001   \n",
       "\n",
       "  LAW_CAT_CD ARREST_BORO  ARREST_PRECINCT  JURISDICTION_CODE AGE_GROUP  \\\n",
       "0          F           Q              105                 97     18-24   \n",
       "1          F           K               69                 71     25-44   \n",
       "2          F           K               61                  0     25-44   \n",
       "3          F           B               42                 71     18-24   \n",
       "4          M           B               44                  0     25-44   \n",
       "\n",
       "  PERP_SEX PERP_RACE  X_COORD_CD  Y_COORD_CD   Latitude  Longitude  \\\n",
       "0        M     BLACK     1057636      203954  40.726187 -73.735234   \n",
       "1        M     BLACK     1014340      171320  40.636868 -73.891586   \n",
       "2        M     WHITE      995244      155739  40.594145 -73.960415   \n",
       "3        M     BLACK     1009058      239616  40.824340 -73.910365   \n",
       "4        M     BLACK     1005169      246667  40.843703 -73.924395   \n",
       "\n",
       "                       New Georeferenced Column  \n",
       "0  POINT (-73.73523390399998 40.72618713000002)  \n",
       "1  POINT (-73.89158591899997 40.63686750900007)  \n",
       "2  POINT (-73.96041495199995 40.59414516900005)  \n",
       "3  POINT (-73.91036538099996 40.82433953100008)  \n",
       "4  POINT (-73.92439508899997 40.84370255600004)  "
      ]
     },
     "execution_count": 2,
     "metadata": {},
     "output_type": "execute_result"
    }
   ],
   "source": [
    "#import NYPD Arrest Data\n",
    "arrest = pd.read_csv('Data/NYPD_data/NYPD_Arrest_Data.csv')\n",
    "arrest.head()"
   ]
  },
  {
   "cell_type": "code",
   "execution_count": 3,
   "metadata": {},
   "outputs": [
    {
     "name": "stdout",
     "output_type": "stream",
     "text": [
      "<class 'pandas.core.frame.DataFrame'>\n",
      "RangeIndex: 155507 entries, 0 to 155506\n",
      "Data columns (total 19 columns):\n",
      " #   Column                    Non-Null Count   Dtype  \n",
      "---  ------                    --------------   -----  \n",
      " 0   ARREST_KEY                155507 non-null  int64  \n",
      " 1   ARREST_DATE               155507 non-null  object \n",
      " 2   PD_CD                     155478 non-null  float64\n",
      " 3   PD_DESC                   155404 non-null  object \n",
      " 4   KY_CD                     155404 non-null  float64\n",
      " 5   OFNS_DESC                 155404 non-null  object \n",
      " 6   LAW_CODE                  155507 non-null  object \n",
      " 7   LAW_CAT_CD                154114 non-null  object \n",
      " 8   ARREST_BORO               155507 non-null  object \n",
      " 9   ARREST_PRECINCT           155507 non-null  int64  \n",
      " 10  JURISDICTION_CODE         155507 non-null  int64  \n",
      " 11  AGE_GROUP                 155507 non-null  object \n",
      " 12  PERP_SEX                  155507 non-null  object \n",
      " 13  PERP_RACE                 155507 non-null  object \n",
      " 14  X_COORD_CD                155507 non-null  int64  \n",
      " 15  Y_COORD_CD                155507 non-null  int64  \n",
      " 16  Latitude                  155507 non-null  float64\n",
      " 17  Longitude                 155507 non-null  float64\n",
      " 18  New Georeferenced Column  155507 non-null  object \n",
      "dtypes: float64(4), int64(5), object(10)\n",
      "memory usage: 22.5+ MB\n"
     ]
    }
   ],
   "source": [
    "#check arrest info\n",
    "arrest.info()"
   ]
  },
  {
   "cell_type": "markdown",
   "metadata": {},
   "source": [
    "##### First I am going to take the Arrest_Date column and turn it from a object to a datetime. Then I am going to create four new columns: Year, Month, Week Number and Day of week."
   ]
  },
  {
   "cell_type": "code",
   "execution_count": 4,
   "metadata": {},
   "outputs": [
    {
     "data": {
      "text/html": [
       "<div>\n",
       "<style scoped>\n",
       "    .dataframe tbody tr th:only-of-type {\n",
       "        vertical-align: middle;\n",
       "    }\n",
       "\n",
       "    .dataframe tbody tr th {\n",
       "        vertical-align: top;\n",
       "    }\n",
       "\n",
       "    .dataframe thead th {\n",
       "        text-align: right;\n",
       "    }\n",
       "</style>\n",
       "<table border=\"1\" class=\"dataframe\">\n",
       "  <thead>\n",
       "    <tr style=\"text-align: right;\">\n",
       "      <th></th>\n",
       "      <th>ARREST_KEY</th>\n",
       "      <th>ARREST_DATE</th>\n",
       "      <th>PD_CD</th>\n",
       "      <th>PD_DESC</th>\n",
       "      <th>KY_CD</th>\n",
       "      <th>OFNS_DESC</th>\n",
       "      <th>LAW_CODE</th>\n",
       "      <th>LAW_CAT_CD</th>\n",
       "      <th>ARREST_BORO</th>\n",
       "      <th>ARREST_PRECINCT</th>\n",
       "      <th>...</th>\n",
       "      <th>PERP_RACE</th>\n",
       "      <th>X_COORD_CD</th>\n",
       "      <th>Y_COORD_CD</th>\n",
       "      <th>Latitude</th>\n",
       "      <th>Longitude</th>\n",
       "      <th>New Georeferenced Column</th>\n",
       "      <th>Year</th>\n",
       "      <th>Month</th>\n",
       "      <th>WeekDay</th>\n",
       "      <th>Week</th>\n",
       "    </tr>\n",
       "  </thead>\n",
       "  <tbody>\n",
       "    <tr>\n",
       "      <th>0</th>\n",
       "      <td>238013474</td>\n",
       "      <td>2021-12-18</td>\n",
       "      <td>157.0</td>\n",
       "      <td>RAPE 1</td>\n",
       "      <td>104.0</td>\n",
       "      <td>RAPE</td>\n",
       "      <td>PL 1303501</td>\n",
       "      <td>F</td>\n",
       "      <td>Q</td>\n",
       "      <td>105</td>\n",
       "      <td>...</td>\n",
       "      <td>BLACK</td>\n",
       "      <td>1057636</td>\n",
       "      <td>203954</td>\n",
       "      <td>40.726187</td>\n",
       "      <td>-73.735234</td>\n",
       "      <td>POINT (-73.73523390399998 40.72618713000002)</td>\n",
       "      <td>2021</td>\n",
       "      <td>12</td>\n",
       "      <td>5</td>\n",
       "      <td>50</td>\n",
       "    </tr>\n",
       "    <tr>\n",
       "      <th>1</th>\n",
       "      <td>236943583</td>\n",
       "      <td>2021-11-25</td>\n",
       "      <td>263.0</td>\n",
       "      <td>ARSON 2,3,4</td>\n",
       "      <td>114.0</td>\n",
       "      <td>ARSON</td>\n",
       "      <td>PL 1501500</td>\n",
       "      <td>F</td>\n",
       "      <td>K</td>\n",
       "      <td>69</td>\n",
       "      <td>...</td>\n",
       "      <td>BLACK</td>\n",
       "      <td>1014340</td>\n",
       "      <td>171320</td>\n",
       "      <td>40.636868</td>\n",
       "      <td>-73.891586</td>\n",
       "      <td>POINT (-73.89158591899997 40.63686750900007)</td>\n",
       "      <td>2021</td>\n",
       "      <td>11</td>\n",
       "      <td>3</td>\n",
       "      <td>47</td>\n",
       "    </tr>\n",
       "    <tr>\n",
       "      <th>2</th>\n",
       "      <td>234938876</td>\n",
       "      <td>2021-10-14</td>\n",
       "      <td>594.0</td>\n",
       "      <td>OBSCENITY 1</td>\n",
       "      <td>116.0</td>\n",
       "      <td>SEX CRIMES</td>\n",
       "      <td>PL 2631100</td>\n",
       "      <td>F</td>\n",
       "      <td>K</td>\n",
       "      <td>61</td>\n",
       "      <td>...</td>\n",
       "      <td>WHITE</td>\n",
       "      <td>995244</td>\n",
       "      <td>155739</td>\n",
       "      <td>40.594145</td>\n",
       "      <td>-73.960415</td>\n",
       "      <td>POINT (-73.96041495199995 40.59414516900005)</td>\n",
       "      <td>2021</td>\n",
       "      <td>10</td>\n",
       "      <td>3</td>\n",
       "      <td>41</td>\n",
       "    </tr>\n",
       "    <tr>\n",
       "      <th>3</th>\n",
       "      <td>234788259</td>\n",
       "      <td>2021-10-11</td>\n",
       "      <td>263.0</td>\n",
       "      <td>ARSON 2,3,4</td>\n",
       "      <td>114.0</td>\n",
       "      <td>ARSON</td>\n",
       "      <td>PL 1501001</td>\n",
       "      <td>F</td>\n",
       "      <td>B</td>\n",
       "      <td>42</td>\n",
       "      <td>...</td>\n",
       "      <td>BLACK</td>\n",
       "      <td>1009058</td>\n",
       "      <td>239616</td>\n",
       "      <td>40.824340</td>\n",
       "      <td>-73.910365</td>\n",
       "      <td>POINT (-73.91036538099996 40.82433953100008)</td>\n",
       "      <td>2021</td>\n",
       "      <td>10</td>\n",
       "      <td>0</td>\n",
       "      <td>41</td>\n",
       "    </tr>\n",
       "    <tr>\n",
       "      <th>4</th>\n",
       "      <td>234188790</td>\n",
       "      <td>2021-09-28</td>\n",
       "      <td>578.0</td>\n",
       "      <td>NaN</td>\n",
       "      <td>NaN</td>\n",
       "      <td>NaN</td>\n",
       "      <td>PL 2223001</td>\n",
       "      <td>M</td>\n",
       "      <td>B</td>\n",
       "      <td>44</td>\n",
       "      <td>...</td>\n",
       "      <td>BLACK</td>\n",
       "      <td>1005169</td>\n",
       "      <td>246667</td>\n",
       "      <td>40.843703</td>\n",
       "      <td>-73.924395</td>\n",
       "      <td>POINT (-73.92439508899997 40.84370255600004)</td>\n",
       "      <td>2021</td>\n",
       "      <td>9</td>\n",
       "      <td>1</td>\n",
       "      <td>39</td>\n",
       "    </tr>\n",
       "  </tbody>\n",
       "</table>\n",
       "<p>5 rows × 23 columns</p>\n",
       "</div>"
      ],
      "text/plain": [
       "   ARREST_KEY ARREST_DATE  PD_CD      PD_DESC  KY_CD   OFNS_DESC    LAW_CODE  \\\n",
       "0   238013474  2021-12-18  157.0       RAPE 1  104.0        RAPE  PL 1303501   \n",
       "1   236943583  2021-11-25  263.0  ARSON 2,3,4  114.0       ARSON  PL 1501500   \n",
       "2   234938876  2021-10-14  594.0  OBSCENITY 1  116.0  SEX CRIMES  PL 2631100   \n",
       "3   234788259  2021-10-11  263.0  ARSON 2,3,4  114.0       ARSON  PL 1501001   \n",
       "4   234188790  2021-09-28  578.0          NaN    NaN         NaN  PL 2223001   \n",
       "\n",
       "  LAW_CAT_CD ARREST_BORO  ARREST_PRECINCT  ...  PERP_RACE X_COORD_CD  \\\n",
       "0          F           Q              105  ...      BLACK    1057636   \n",
       "1          F           K               69  ...      BLACK    1014340   \n",
       "2          F           K               61  ...      WHITE     995244   \n",
       "3          F           B               42  ...      BLACK    1009058   \n",
       "4          M           B               44  ...      BLACK    1005169   \n",
       "\n",
       "  Y_COORD_CD   Latitude  Longitude  \\\n",
       "0     203954  40.726187 -73.735234   \n",
       "1     171320  40.636868 -73.891586   \n",
       "2     155739  40.594145 -73.960415   \n",
       "3     239616  40.824340 -73.910365   \n",
       "4     246667  40.843703 -73.924395   \n",
       "\n",
       "                       New Georeferenced Column  Year  Month WeekDay  Week  \n",
       "0  POINT (-73.73523390399998 40.72618713000002)  2021     12       5    50  \n",
       "1  POINT (-73.89158591899997 40.63686750900007)  2021     11       3    47  \n",
       "2  POINT (-73.96041495199995 40.59414516900005)  2021     10       3    41  \n",
       "3  POINT (-73.91036538099996 40.82433953100008)  2021     10       0    41  \n",
       "4  POINT (-73.92439508899997 40.84370255600004)  2021      9       1    39  \n",
       "\n",
       "[5 rows x 23 columns]"
      ]
     },
     "execution_count": 4,
     "metadata": {},
     "output_type": "execute_result"
    }
   ],
   "source": [
    "#Step one convert into datetime\n",
    "arrest['ARREST_DATE'] = pd.to_datetime(arrest['ARREST_DATE']) #turn into datetime64[ns] object\n",
    "\n",
    "#extract year, month, week and weekday (Monday = 0, Sunday = 6)\n",
    "arrest['Year'] = arrest['ARREST_DATE'].dt.year\n",
    "arrest['Month'] = arrest['ARREST_DATE'].dt.month\n",
    "arrest['WeekDay'] = arrest['ARREST_DATE'].dt.weekday\n",
    "arrest['Week'] = arrest['ARREST_DATE'].dt.isocalendar().week\n",
    "\n",
    "#View dataframe\n",
    "arrest.head()"
   ]
  },
  {
   "cell_type": "code",
   "execution_count": 5,
   "metadata": {},
   "outputs": [
    {
     "data": {
      "text/plain": [
       "2021    155507\n",
       "Name: Year, dtype: int64"
      ]
     },
     "execution_count": 5,
     "metadata": {},
     "output_type": "execute_result"
    }
   ],
   "source": [
    "#count number of arrests per year\n",
    "arrest.Year.value_counts()"
   ]
  },
  {
   "cell_type": "markdown",
   "metadata": {},
   "source": [
    "##### We only have 2021 data! Will need to get historical data as well then merge the dataframes"
   ]
  },
  {
   "cell_type": "code",
   "execution_count": 6,
   "metadata": {
    "scrolled": true
   },
   "outputs": [
    {
     "data": {
      "text/html": [
       "<div>\n",
       "<style scoped>\n",
       "    .dataframe tbody tr th:only-of-type {\n",
       "        vertical-align: middle;\n",
       "    }\n",
       "\n",
       "    .dataframe tbody tr th {\n",
       "        vertical-align: top;\n",
       "    }\n",
       "\n",
       "    .dataframe thead th {\n",
       "        text-align: right;\n",
       "    }\n",
       "</style>\n",
       "<table border=\"1\" class=\"dataframe\">\n",
       "  <thead>\n",
       "    <tr style=\"text-align: right;\">\n",
       "      <th></th>\n",
       "      <th>ARREST_KEY</th>\n",
       "      <th>ARREST_DATE</th>\n",
       "      <th>PD_CD</th>\n",
       "      <th>PD_DESC</th>\n",
       "      <th>KY_CD</th>\n",
       "      <th>OFNS_DESC</th>\n",
       "      <th>LAW_CODE</th>\n",
       "      <th>LAW_CAT_CD</th>\n",
       "      <th>ARREST_BORO</th>\n",
       "      <th>ARREST_PRECINCT</th>\n",
       "      <th>...</th>\n",
       "      <th>X_COORD_CD</th>\n",
       "      <th>Y_COORD_CD</th>\n",
       "      <th>Latitude</th>\n",
       "      <th>Longitude</th>\n",
       "      <th>Lon_Lat</th>\n",
       "      <th>Zip Codes</th>\n",
       "      <th>Community Districts</th>\n",
       "      <th>Borough Boundaries</th>\n",
       "      <th>City Council Districts</th>\n",
       "      <th>Police Precincts</th>\n",
       "    </tr>\n",
       "  </thead>\n",
       "  <tbody>\n",
       "    <tr>\n",
       "      <th>0</th>\n",
       "      <td>32311380</td>\n",
       "      <td>06/18/2007</td>\n",
       "      <td>511.0</td>\n",
       "      <td>CONTROLLED SUBSTANCE, POSSESSION 7</td>\n",
       "      <td>235.0</td>\n",
       "      <td>DANGEROUS DRUGS</td>\n",
       "      <td>PL 2200300</td>\n",
       "      <td>M</td>\n",
       "      <td>Q</td>\n",
       "      <td>27</td>\n",
       "      <td>...</td>\n",
       "      <td>NaN</td>\n",
       "      <td>NaN</td>\n",
       "      <td>NaN</td>\n",
       "      <td>NaN</td>\n",
       "      <td>NaN</td>\n",
       "      <td>NaN</td>\n",
       "      <td>NaN</td>\n",
       "      <td>NaN</td>\n",
       "      <td>NaN</td>\n",
       "      <td>NaN</td>\n",
       "    </tr>\n",
       "    <tr>\n",
       "      <th>1</th>\n",
       "      <td>192799737</td>\n",
       "      <td>01/26/2019</td>\n",
       "      <td>177.0</td>\n",
       "      <td>SEXUAL ABUSE</td>\n",
       "      <td>116.0</td>\n",
       "      <td>SEX CRIMES</td>\n",
       "      <td>PL 1306503</td>\n",
       "      <td>F</td>\n",
       "      <td>M</td>\n",
       "      <td>25</td>\n",
       "      <td>...</td>\n",
       "      <td>1000555.0</td>\n",
       "      <td>230994.0</td>\n",
       "      <td>40.800694</td>\n",
       "      <td>-73.941109</td>\n",
       "      <td>POINT (-73.94110928599997 40.800694331000045)</td>\n",
       "      <td>13093.0</td>\n",
       "      <td>7.0</td>\n",
       "      <td>4.0</td>\n",
       "      <td>36.0</td>\n",
       "      <td>16.0</td>\n",
       "    </tr>\n",
       "    <tr>\n",
       "      <th>2</th>\n",
       "      <td>193260691</td>\n",
       "      <td>02/06/2019</td>\n",
       "      <td>NaN</td>\n",
       "      <td>NaN</td>\n",
       "      <td>NaN</td>\n",
       "      <td>NaN</td>\n",
       "      <td>PL 2203400</td>\n",
       "      <td>F</td>\n",
       "      <td>M</td>\n",
       "      <td>14</td>\n",
       "      <td>...</td>\n",
       "      <td>986685.0</td>\n",
       "      <td>215375.0</td>\n",
       "      <td>40.757839</td>\n",
       "      <td>-73.991212</td>\n",
       "      <td>POINT (-73.99121211099998 40.75783900300007)</td>\n",
       "      <td>13094.0</td>\n",
       "      <td>12.0</td>\n",
       "      <td>4.0</td>\n",
       "      <td>10.0</td>\n",
       "      <td>8.0</td>\n",
       "    </tr>\n",
       "    <tr>\n",
       "      <th>3</th>\n",
       "      <td>149117452</td>\n",
       "      <td>01/06/2016</td>\n",
       "      <td>153.0</td>\n",
       "      <td>RAPE 3</td>\n",
       "      <td>104.0</td>\n",
       "      <td>RAPE</td>\n",
       "      <td>PL 1302503</td>\n",
       "      <td>F</td>\n",
       "      <td>K</td>\n",
       "      <td>67</td>\n",
       "      <td>...</td>\n",
       "      <td>998032.0</td>\n",
       "      <td>175598.0</td>\n",
       "      <td>40.648650</td>\n",
       "      <td>-73.950336</td>\n",
       "      <td>POINT (-73.95033556299995 40.648650085000035)</td>\n",
       "      <td>13510.0</td>\n",
       "      <td>61.0</td>\n",
       "      <td>2.0</td>\n",
       "      <td>11.0</td>\n",
       "      <td>40.0</td>\n",
       "    </tr>\n",
       "    <tr>\n",
       "      <th>4</th>\n",
       "      <td>190049060</td>\n",
       "      <td>11/15/2018</td>\n",
       "      <td>157.0</td>\n",
       "      <td>RAPE 1</td>\n",
       "      <td>104.0</td>\n",
       "      <td>RAPE</td>\n",
       "      <td>PL 1303501</td>\n",
       "      <td>F</td>\n",
       "      <td>K</td>\n",
       "      <td>77</td>\n",
       "      <td>...</td>\n",
       "      <td>1003606.0</td>\n",
       "      <td>185050.0</td>\n",
       "      <td>40.674583</td>\n",
       "      <td>-73.930222</td>\n",
       "      <td>POINT (-73.93022154099998 40.67458330800008)</td>\n",
       "      <td>17615.0</td>\n",
       "      <td>16.0</td>\n",
       "      <td>2.0</td>\n",
       "      <td>49.0</td>\n",
       "      <td>49.0</td>\n",
       "    </tr>\n",
       "  </tbody>\n",
       "</table>\n",
       "<p>5 rows × 24 columns</p>\n",
       "</div>"
      ],
      "text/plain": [
       "   ARREST_KEY ARREST_DATE  PD_CD                             PD_DESC  KY_CD  \\\n",
       "0    32311380  06/18/2007  511.0  CONTROLLED SUBSTANCE, POSSESSION 7  235.0   \n",
       "1   192799737  01/26/2019  177.0                        SEXUAL ABUSE  116.0   \n",
       "2   193260691  02/06/2019    NaN                                 NaN    NaN   \n",
       "3   149117452  01/06/2016  153.0                              RAPE 3  104.0   \n",
       "4   190049060  11/15/2018  157.0                              RAPE 1  104.0   \n",
       "\n",
       "         OFNS_DESC    LAW_CODE LAW_CAT_CD ARREST_BORO  ARREST_PRECINCT  ...  \\\n",
       "0  DANGEROUS DRUGS  PL 2200300          M           Q               27  ...   \n",
       "1       SEX CRIMES  PL 1306503          F           M               25  ...   \n",
       "2              NaN  PL 2203400          F           M               14  ...   \n",
       "3             RAPE  PL 1302503          F           K               67  ...   \n",
       "4             RAPE  PL 1303501          F           K               77  ...   \n",
       "\n",
       "   X_COORD_CD Y_COORD_CD   Latitude  Longitude  \\\n",
       "0         NaN        NaN        NaN        NaN   \n",
       "1   1000555.0   230994.0  40.800694 -73.941109   \n",
       "2    986685.0   215375.0  40.757839 -73.991212   \n",
       "3    998032.0   175598.0  40.648650 -73.950336   \n",
       "4   1003606.0   185050.0  40.674583 -73.930222   \n",
       "\n",
       "                                         Lon_Lat  Zip Codes  \\\n",
       "0                                            NaN        NaN   \n",
       "1  POINT (-73.94110928599997 40.800694331000045)    13093.0   \n",
       "2   POINT (-73.99121211099998 40.75783900300007)    13094.0   \n",
       "3  POINT (-73.95033556299995 40.648650085000035)    13510.0   \n",
       "4   POINT (-73.93022154099998 40.67458330800008)    17615.0   \n",
       "\n",
       "   Community Districts  Borough Boundaries City Council Districts  \\\n",
       "0                  NaN                 NaN                    NaN   \n",
       "1                  7.0                 4.0                   36.0   \n",
       "2                 12.0                 4.0                   10.0   \n",
       "3                 61.0                 2.0                   11.0   \n",
       "4                 16.0                 2.0                   49.0   \n",
       "\n",
       "   Police Precincts  \n",
       "0               NaN  \n",
       "1              16.0  \n",
       "2               8.0  \n",
       "3              40.0  \n",
       "4              49.0  \n",
       "\n",
       "[5 rows x 24 columns]"
      ]
     },
     "execution_count": 6,
     "metadata": {},
     "output_type": "execute_result"
    }
   ],
   "source": [
    "arrest_historic = pd.read_csv('Data/NYPD_data/NYPD_Arrests_Data_Historic.csv')\n",
    "arrest_historic.head()"
   ]
  },
  {
   "cell_type": "code",
   "execution_count": 7,
   "metadata": {},
   "outputs": [
    {
     "data": {
      "text/plain": [
       "2010    422322\n",
       "2009    421316\n",
       "2011    412859\n",
       "2007    403231\n",
       "2008    401529\n",
       "2012    396280\n",
       "2013    393809\n",
       "2014    387727\n",
       "2006    371934\n",
       "2015    339470\n",
       "2016    314864\n",
       "2017    286225\n",
       "2018    246773\n",
       "2019    214617\n",
       "2020    140413\n",
       "Name: Year, dtype: int64"
      ]
     },
     "execution_count": 7,
     "metadata": {},
     "output_type": "execute_result"
    }
   ],
   "source": [
    "#convert arrest date to datetime\n",
    "arrest_historic['ARREST_DATE'] = pd.to_datetime(arrest_historic['ARREST_DATE'])\n",
    "\n",
    "#extract year, month, week and weekday (Monday = 0, Sunday = 6)\n",
    "arrest_historic['Year'] = arrest_historic['ARREST_DATE'].dt.year\n",
    "arrest_historic['Month'] = arrest_historic['ARREST_DATE'].dt.month\n",
    "arrest_historic['WeekDay'] = arrest_historic['ARREST_DATE'].dt.weekday\n",
    "arrest_historic['Week'] = arrest_historic['ARREST_DATE'].dt.isocalendar().week\n",
    "\n",
    "#count number of arrests per year\n",
    "arrest_historic.Year.value_counts()"
   ]
  },
  {
   "cell_type": "markdown",
   "metadata": {},
   "source": [
    "##### I only want to focus on years 2018, 2019, 2020 and 2021. So Select for those years then merge both dataframes"
   ]
  },
  {
   "cell_type": "code",
   "execution_count": 8,
   "metadata": {},
   "outputs": [
    {
     "data": {
      "text/html": [
       "<div>\n",
       "<style scoped>\n",
       "    .dataframe tbody tr th:only-of-type {\n",
       "        vertical-align: middle;\n",
       "    }\n",
       "\n",
       "    .dataframe tbody tr th {\n",
       "        vertical-align: top;\n",
       "    }\n",
       "\n",
       "    .dataframe thead th {\n",
       "        text-align: right;\n",
       "    }\n",
       "</style>\n",
       "<table border=\"1\" class=\"dataframe\">\n",
       "  <thead>\n",
       "    <tr style=\"text-align: right;\">\n",
       "      <th></th>\n",
       "      <th>ARREST_KEY</th>\n",
       "      <th>ARREST_DATE</th>\n",
       "      <th>PD_CD</th>\n",
       "      <th>PD_DESC</th>\n",
       "      <th>KY_CD</th>\n",
       "      <th>OFNS_DESC</th>\n",
       "      <th>LAW_CODE</th>\n",
       "      <th>LAW_CAT_CD</th>\n",
       "      <th>ARREST_BORO</th>\n",
       "      <th>ARREST_PRECINCT</th>\n",
       "      <th>...</th>\n",
       "      <th>New Georeferenced Column</th>\n",
       "      <th>Year</th>\n",
       "      <th>Month</th>\n",
       "      <th>WeekDay</th>\n",
       "      <th>Week</th>\n",
       "      <th>Zip Codes</th>\n",
       "      <th>Community Districts</th>\n",
       "      <th>Borough Boundaries</th>\n",
       "      <th>City Council Districts</th>\n",
       "      <th>Police Precincts</th>\n",
       "    </tr>\n",
       "  </thead>\n",
       "  <tbody>\n",
       "    <tr>\n",
       "      <th>0</th>\n",
       "      <td>238013474</td>\n",
       "      <td>2021-12-18</td>\n",
       "      <td>157.0</td>\n",
       "      <td>RAPE 1</td>\n",
       "      <td>104.0</td>\n",
       "      <td>RAPE</td>\n",
       "      <td>PL 1303501</td>\n",
       "      <td>F</td>\n",
       "      <td>Q</td>\n",
       "      <td>105</td>\n",
       "      <td>...</td>\n",
       "      <td>POINT (-73.73523390399998 40.72618713000002)</td>\n",
       "      <td>2021</td>\n",
       "      <td>12</td>\n",
       "      <td>5</td>\n",
       "      <td>50</td>\n",
       "      <td>NaN</td>\n",
       "      <td>NaN</td>\n",
       "      <td>NaN</td>\n",
       "      <td>NaN</td>\n",
       "      <td>NaN</td>\n",
       "    </tr>\n",
       "    <tr>\n",
       "      <th>1</th>\n",
       "      <td>236943583</td>\n",
       "      <td>2021-11-25</td>\n",
       "      <td>263.0</td>\n",
       "      <td>ARSON 2,3,4</td>\n",
       "      <td>114.0</td>\n",
       "      <td>ARSON</td>\n",
       "      <td>PL 1501500</td>\n",
       "      <td>F</td>\n",
       "      <td>K</td>\n",
       "      <td>69</td>\n",
       "      <td>...</td>\n",
       "      <td>POINT (-73.89158591899997 40.63686750900007)</td>\n",
       "      <td>2021</td>\n",
       "      <td>11</td>\n",
       "      <td>3</td>\n",
       "      <td>47</td>\n",
       "      <td>NaN</td>\n",
       "      <td>NaN</td>\n",
       "      <td>NaN</td>\n",
       "      <td>NaN</td>\n",
       "      <td>NaN</td>\n",
       "    </tr>\n",
       "    <tr>\n",
       "      <th>2</th>\n",
       "      <td>234938876</td>\n",
       "      <td>2021-10-14</td>\n",
       "      <td>594.0</td>\n",
       "      <td>OBSCENITY 1</td>\n",
       "      <td>116.0</td>\n",
       "      <td>SEX CRIMES</td>\n",
       "      <td>PL 2631100</td>\n",
       "      <td>F</td>\n",
       "      <td>K</td>\n",
       "      <td>61</td>\n",
       "      <td>...</td>\n",
       "      <td>POINT (-73.96041495199995 40.59414516900005)</td>\n",
       "      <td>2021</td>\n",
       "      <td>10</td>\n",
       "      <td>3</td>\n",
       "      <td>41</td>\n",
       "      <td>NaN</td>\n",
       "      <td>NaN</td>\n",
       "      <td>NaN</td>\n",
       "      <td>NaN</td>\n",
       "      <td>NaN</td>\n",
       "    </tr>\n",
       "    <tr>\n",
       "      <th>3</th>\n",
       "      <td>234788259</td>\n",
       "      <td>2021-10-11</td>\n",
       "      <td>263.0</td>\n",
       "      <td>ARSON 2,3,4</td>\n",
       "      <td>114.0</td>\n",
       "      <td>ARSON</td>\n",
       "      <td>PL 1501001</td>\n",
       "      <td>F</td>\n",
       "      <td>B</td>\n",
       "      <td>42</td>\n",
       "      <td>...</td>\n",
       "      <td>POINT (-73.91036538099996 40.82433953100008)</td>\n",
       "      <td>2021</td>\n",
       "      <td>10</td>\n",
       "      <td>0</td>\n",
       "      <td>41</td>\n",
       "      <td>NaN</td>\n",
       "      <td>NaN</td>\n",
       "      <td>NaN</td>\n",
       "      <td>NaN</td>\n",
       "      <td>NaN</td>\n",
       "    </tr>\n",
       "    <tr>\n",
       "      <th>4</th>\n",
       "      <td>234188790</td>\n",
       "      <td>2021-09-28</td>\n",
       "      <td>578.0</td>\n",
       "      <td>NaN</td>\n",
       "      <td>NaN</td>\n",
       "      <td>NaN</td>\n",
       "      <td>PL 2223001</td>\n",
       "      <td>M</td>\n",
       "      <td>B</td>\n",
       "      <td>44</td>\n",
       "      <td>...</td>\n",
       "      <td>POINT (-73.92439508899997 40.84370255600004)</td>\n",
       "      <td>2021</td>\n",
       "      <td>9</td>\n",
       "      <td>1</td>\n",
       "      <td>39</td>\n",
       "      <td>NaN</td>\n",
       "      <td>NaN</td>\n",
       "      <td>NaN</td>\n",
       "      <td>NaN</td>\n",
       "      <td>NaN</td>\n",
       "    </tr>\n",
       "  </tbody>\n",
       "</table>\n",
       "<p>5 rows × 28 columns</p>\n",
       "</div>"
      ],
      "text/plain": [
       "   ARREST_KEY ARREST_DATE  PD_CD      PD_DESC  KY_CD   OFNS_DESC    LAW_CODE  \\\n",
       "0   238013474  2021-12-18  157.0       RAPE 1  104.0        RAPE  PL 1303501   \n",
       "1   236943583  2021-11-25  263.0  ARSON 2,3,4  114.0       ARSON  PL 1501500   \n",
       "2   234938876  2021-10-14  594.0  OBSCENITY 1  116.0  SEX CRIMES  PL 2631100   \n",
       "3   234788259  2021-10-11  263.0  ARSON 2,3,4  114.0       ARSON  PL 1501001   \n",
       "4   234188790  2021-09-28  578.0          NaN    NaN         NaN  PL 2223001   \n",
       "\n",
       "  LAW_CAT_CD ARREST_BORO  ARREST_PRECINCT  ...  \\\n",
       "0          F           Q              105  ...   \n",
       "1          F           K               69  ...   \n",
       "2          F           K               61  ...   \n",
       "3          F           B               42  ...   \n",
       "4          M           B               44  ...   \n",
       "\n",
       "                       New Georeferenced Column  Year Month WeekDay  Week  \\\n",
       "0  POINT (-73.73523390399998 40.72618713000002)  2021    12       5    50   \n",
       "1  POINT (-73.89158591899997 40.63686750900007)  2021    11       3    47   \n",
       "2  POINT (-73.96041495199995 40.59414516900005)  2021    10       3    41   \n",
       "3  POINT (-73.91036538099996 40.82433953100008)  2021    10       0    41   \n",
       "4  POINT (-73.92439508899997 40.84370255600004)  2021     9       1    39   \n",
       "\n",
       "   Zip Codes  Community Districts  Borough Boundaries City Council Districts  \\\n",
       "0        NaN                  NaN                 NaN                    NaN   \n",
       "1        NaN                  NaN                 NaN                    NaN   \n",
       "2        NaN                  NaN                 NaN                    NaN   \n",
       "3        NaN                  NaN                 NaN                    NaN   \n",
       "4        NaN                  NaN                 NaN                    NaN   \n",
       "\n",
       "   Police Precincts  \n",
       "0               NaN  \n",
       "1               NaN  \n",
       "2               NaN  \n",
       "3               NaN  \n",
       "4               NaN  \n",
       "\n",
       "[5 rows x 28 columns]"
      ]
     },
     "execution_count": 8,
     "metadata": {},
     "output_type": "execute_result"
    }
   ],
   "source": [
    "#Select only years 2018 and above\n",
    "arrest_historic = arrest_historic.loc[arrest_historic['Year'] >= 2018]\n",
    "\n",
    "#before combining rename the Lon_Lat column to New Georeferenced Column in order to match arrest DF\n",
    "arrest_historic.rename(columns = {'Lon_Lat':'New Georeferenced Column'}, inplace = True)\n",
    "\n",
    "#Combine both arrest arrest_historic dataframes\n",
    "crime = pd.concat([arrest, arrest_historic], axis = 0)\n",
    "crime.head()"
   ]
  },
  {
   "cell_type": "code",
   "execution_count": 9,
   "metadata": {},
   "outputs": [
    {
     "name": "stdout",
     "output_type": "stream",
     "text": [
      "(757310, 15)\n",
      "<class 'pandas.core.frame.DataFrame'>\n",
      "Int64Index: 757310 entries, 0 to 5153368\n",
      "Data columns (total 15 columns):\n",
      " #   Column                    Non-Null Count   Dtype         \n",
      "---  ------                    --------------   -----         \n",
      " 0   ARREST_DATE               757310 non-null  datetime64[ns]\n",
      " 1   OFNS_DESC                 756086 non-null  object        \n",
      " 2   LAW_CAT_CD                751464 non-null  object        \n",
      " 3   ARREST_BORO               757310 non-null  object        \n",
      " 4   ARREST_PRECINCT           757310 non-null  int64         \n",
      " 5   AGE_GROUP                 757310 non-null  object        \n",
      " 6   PERP_SEX                  757310 non-null  object        \n",
      " 7   PERP_RACE                 757310 non-null  object        \n",
      " 8   Latitude                  757310 non-null  float64       \n",
      " 9   Longitude                 757310 non-null  float64       \n",
      " 10  New Georeferenced Column  757310 non-null  object        \n",
      " 11  Year                      757310 non-null  int64         \n",
      " 12  Month                     757310 non-null  int64         \n",
      " 13  WeekDay                   757310 non-null  int64         \n",
      " 14  Week                      757310 non-null  UInt32        \n",
      "dtypes: UInt32(1), datetime64[ns](1), float64(2), int64(4), object(7)\n",
      "memory usage: 90.3+ MB\n",
      "None\n"
     ]
    }
   ],
   "source": [
    "#Drop columns that were not overlapped (ie. not in arrest dataframe but in historic)\n",
    "crime = crime.drop(['Zip Codes', 'Community Districts', 'Borough Boundaries', \n",
    "                    'City Council Districts', 'Police Precincts'], axis=1)\n",
    "\n",
    "#Some of these columns are no longer nescessary, as they may be unique and distrupt clustering and grouping\n",
    "crime = crime.drop(['ARREST_KEY', 'PD_CD', 'PD_DESC', 'KY_CD', 'LAW_CODE', 'JURISDICTION_CODE',\n",
    "                   'X_COORD_CD','Y_COORD_CD'], axis=1)\n",
    "\n",
    "#check info and print shape\n",
    "print(crime.shape)\n",
    "print(crime.info())"
   ]
  },
  {
   "cell_type": "markdown",
   "metadata": {},
   "source": [
    "##### We have a huge dataframe and not a huge percentage of data is missing, so we can afford to drop all data with missing values"
   ]
  },
  {
   "cell_type": "code",
   "execution_count": 10,
   "metadata": {},
   "outputs": [
    {
     "data": {
      "text/plain": [
       "(750285, 15)"
      ]
     },
     "execution_count": 10,
     "metadata": {},
     "output_type": "execute_result"
    }
   ],
   "source": [
    "crime = crime.dropna()\n",
    "\n",
    "#check shape\n",
    "crime.shape"
   ]
  },
  {
   "cell_type": "code",
   "execution_count": 11,
   "metadata": {
    "scrolled": true
   },
   "outputs": [
    {
     "data": {
      "text/plain": [
       "ASSAULT 3 & RELATED OFFENSES                   116892\n",
       "DANGEROUS DRUGS                                 75404\n",
       "PETIT LARCENY                                   69629\n",
       "FELONY ASSAULT                                  59455\n",
       "MISCELLANEOUS PENAL LAW                         43846\n",
       "VEHICLE AND TRAFFIC LAWS                        43259\n",
       "ROBBERY                                         34079\n",
       "GRAND LARCENY                                   33545\n",
       "DANGEROUS WEAPONS                               31473\n",
       "CRIMINAL MISCHIEF & RELATED OF                  27502\n",
       "BURGLARY                                        19968\n",
       "OFFENSES AGAINST PUBLIC ADMINI                  17406\n",
       "FORGERY                                         15074\n",
       "INTOXICATED & IMPAIRED DRIVING                  14760\n",
       "SEX CRIMES                                      13780\n",
       "OFF. AGNST PUB ORD SENSBLTY &                   12560\n",
       "CRIMINAL TRESPASS                               10248\n",
       "CRIMINAL MISCHIEF & RELATED OFFENSES            10219\n",
       "OTHER TRAFFIC INFRACTION                         9470\n",
       "OFFENSES INVOLVING FRAUD                         7842\n",
       "OFFENSES AGAINST PUBLIC ADMINISTRATION           7739\n",
       "OTHER OFFENSES RELATED TO THEFT                  7359\n",
       "POSSESSION OF STOLEN PROPERTY                    7284\n",
       "OTHER OFFENSES RELATED TO THEF                   6444\n",
       "GRAND LARCENY OF MOTOR VEHICLE                   4541\n",
       "MURDER & NON-NEGL. MANSLAUGHTE                   3739\n",
       "OFFENSES AGAINST THE PERSON                      3734\n",
       "PROSTITUTION & RELATED OFFENSES                  3625\n",
       "OTHER STATE LAWS                                 3220\n",
       "RAPE                                             2882\n",
       "OFF. AGNST PUB ORD SENSBLTY & RGHTS TO PRIV      2868\n",
       "NYS LAWS-UNCLASSIFIED FELONY                     2685\n",
       "OTHER STATE LAWS (NON PENAL LA                   2663\n",
       "FRAUDS                                           2630\n",
       "BURGLAR'S TOOLS                                  2476\n",
       "INTOXICATED/IMPAIRED DRIVING                     2058\n",
       "ADMINISTRATIVE CODE                              1940\n",
       "GAMBLING                                         1732\n",
       "UNAUTHORIZED USE OF A VEHICLE                    1644\n",
       "ALCOHOLIC BEVERAGE CONTROL LAW                   1516\n",
       "Name: OFNS_DESC, dtype: int64"
      ]
     },
     "execution_count": 11,
     "metadata": {},
     "output_type": "execute_result"
    }
   ],
   "source": [
    "#check descriptions of crimes\n",
    "crime.OFNS_DESC.value_counts().head(40)\n",
    "#many repeated descriptions. Will only use top 40 descriptions for our severity column then drop NaN rows"
   ]
  },
  {
   "cell_type": "markdown",
   "metadata": {},
   "source": [
    "Define categories of crime severity and create for loop to create new column\n",
    "\n",
    "Used this link as reference: https://elearning.teex.com/teex/PS/LSLET320/Severity%20of%20Offense%20Scale.pdf"
   ]
  },
  {
   "cell_type": "code",
   "execution_count": 12,
   "metadata": {},
   "outputs": [
    {
     "data": {
      "text/plain": [
       "Minor     295785\n",
       "Mild      226990\n",
       "Severe    208573\n",
       "Drop       18937\n",
       "Name: Crime Severity, dtype: int64"
      ]
     },
     "execution_count": 12,
     "metadata": {},
     "output_type": "execute_result"
    }
   ],
   "source": [
    "#new crime severity categories\n",
    "minor = ['PETIT LARCENY','MISCELLANEOUS PENAL LAW','VEHICLE AND TRAFFIC LAWS','ROBBERY','FORGERY',\n",
    "        'INTOXICATED & IMPAIRED DRIVING','OFF. AGNST PUB ORD SENSBLTY &','CRIMINAL TRESPASS',\n",
    "        'OTHER TRAFFIC INFRACTION','OTHER OFFENSES RELATED TO THEFT','OTHER OFFENSES RELATED TO THEF',\n",
    "        'PROSTITUTION & RELATED OFFENSES','OTHER STATE LAWS','OFF. AGNST PUB ORD SENSBLTY & RGHTS TO PRIV',\n",
    "        'NYS LAWS-UNCLASSIFIED FELONY','OTHER STATE LAWS (NON PENAL LA','FRAUDS',\"BURGLAR'S TOOLS\",\n",
    "        'INTOXICATED/IMPAIRED DRIVING','ADMINISTRATIVE CODE','GAMBLING', 'UNAUTHORIZED USE OF A VEHICLE',\n",
    "        'ALCOHOLIC BEVERAGE CONTROL LAW']\n",
    "\n",
    "mild = ['DANGEROUS DRUGS','GRAND LARCENY','DANGEROUS WEAPONS','CRIMINAL MISCHIEF & RELATED OF',\n",
    "       'BURGLARY','OFFENSES AGAINST PUBLIC ADMINI','CRIMINAL MISCHIEF & RELATED OFFENSES', \n",
    "        'OFFENSES AGAINST PUBLIC ADMINISTRATION','OFFENSES AGAINST THE PERSON']\n",
    "\n",
    "severe = ['ASSAULT 3 & RELATED OFFENSES','FELONY ASSAULT','SEX CRIMES','POSSESSION OF STOLEN PROPERTY',\n",
    "         'GRAND LARCENY OF MOTOR VEHICLE','MURDER & NON-NEGL. MANSLAUGHTE','RAPE']\n",
    "\n",
    "\n",
    "#create empty list\n",
    "crime_severity = []\n",
    "\n",
    "#create for loop and append to list\n",
    "for c in crime.OFNS_DESC:\n",
    "    if (c in severe) == True:\n",
    "        crime_severity.append('Severe')\n",
    "    elif (c in mild) == True:\n",
    "        crime_severity.append('Mild')\n",
    "    elif (c in minor) == True:\n",
    "        crime_severity.append('Minor')\n",
    "    else:\n",
    "        crime_severity.append('Drop')\n",
    "        \n",
    "#define new column\n",
    "crime['Crime Severity'] = crime_severity\n",
    "\n",
    "#check values for severity categories\n",
    "crime['Crime Severity'].value_counts()"
   ]
  },
  {
   "cell_type": "code",
   "execution_count": 13,
   "metadata": {},
   "outputs": [],
   "source": [
    "#new crime type categories\n",
    "\n",
    "violent = ['ASSAULT 3 & RELATED OFFENSES','FELONY ASSAULT','SEX CRIMES',\n",
    "         'MURDER & NON-NEGL. MANSLAUGHTE','RAPE','OFFENSES AGAINST THE PERSON']\n",
    "\n",
    "non_violent = ['MISCELLANEOUS PENAL LAW','FORGERY','OFF. AGNST PUB ORD SENSBLTY &','CRIMINAL TRESPASS','PROSTITUTION & RELATED OFFENSES',\n",
    "               'OTHER STATE LAWS','OFF. AGNST PUB ORD SENSBLTY & RGHTS TO PRIV','NYS LAWS-UNCLASSIFIED FELONY','OTHER STATE LAWS (NON PENAL LA',\n",
    "               'FRAUDS',\"BURGLAR'S TOOLS\",'ADMINISTRATIVE CODE','GAMBLING','ALCOHOLIC BEVERAGE CONTROL LAW', 'DANGEROUS DRUGS','DANGEROUS WEAPONS',\n",
    "               'CRIMINAL MISCHIEF & RELATED OF','OFFENSES AGAINST PUBLIC ADMINI','CRIMINAL MISCHIEF & RELATED OFFENSES', \n",
    "               'OFFENSES AGAINST PUBLIC ADMINISTRATION']\n",
    "\n",
    "traffic = ['VEHICLE AND TRAFFIC LAWS', 'INTOXICATED & IMPAIRED DRIVING','OTHER TRAFFIC INFRACTION',\n",
    "          'INTOXICATED/IMPAIRED DRIVING','UNAUTHORIZED USE OF A VEHICLE']\n",
    "\n",
    "theft = ['PETIT LARCENY','ROBBERY','OTHER OFFENSES RELATED TO THEFT','OTHER OFFENSES RELATED TO THEF',\n",
    "        'GRAND LARCENY','BURGLARY','GRAND LARCENY OF MOTOR VEHICLE', 'POSSESSION OF STOLEN PROPERTY']\n",
    "\n",
    "\n",
    "#create empty list\n",
    "crime_type = []\n",
    "\n",
    "#create for loop and append to list\n",
    "for c in crime.OFNS_DESC:\n",
    "    if (c in violent) == True:\n",
    "        crime_type.append('Violent')\n",
    "    elif (c in non_violent) == True:\n",
    "        crime_type.append('Non-Violent')\n",
    "    elif (c in traffic) == True:\n",
    "        crime_type.append('Traffic')\n",
    "    elif (c in theft) == True:\n",
    "        crime_type.append('Theft')\n",
    "    else:\n",
    "        crime_type.append('Drop')\n",
    "        \n",
    "#define new column\n",
    "crime['Crime Type'] = crime_type\n",
    "\n",
    "#now drop old desc col, since we are now done with it\n",
    "crime = crime.drop('OFNS_DESC', axis = 1)"
   ]
  },
  {
   "cell_type": "code",
   "execution_count": 14,
   "metadata": {},
   "outputs": [
    {
     "name": "stdout",
     "output_type": "stream",
     "text": [
      "(731348, 16)\n",
      "Non-Violent    276826\n",
      "Violent        200482\n",
      "Theft          182849\n",
      "Traffic         71191\n",
      "Name: Crime Type, dtype: int64\n",
      "Minor     295785\n",
      "Mild      226990\n",
      "Severe    208573\n",
      "Name: Crime Severity, dtype: int64\n"
     ]
    }
   ],
   "source": [
    "#Drop all rows that contain 'Drop' in Crime Type\n",
    "crime = crime[crime['Crime Type'] != 'Drop']\n",
    "print(crime.shape)\n",
    "\n",
    "#check values for type categories\n",
    "print(crime['Crime Type'].value_counts())\n",
    "\n",
    "#check values for severity categories\n",
    "print(crime['Crime Severity'].value_counts())"
   ]
  },
  {
   "cell_type": "code",
   "execution_count": 15,
   "metadata": {},
   "outputs": [
    {
     "name": "stdout",
     "output_type": "stream",
     "text": [
      "(731348, 16)\n"
     ]
    },
    {
     "data": {
      "text/html": [
       "<div>\n",
       "<style scoped>\n",
       "    .dataframe tbody tr th:only-of-type {\n",
       "        vertical-align: middle;\n",
       "    }\n",
       "\n",
       "    .dataframe tbody tr th {\n",
       "        vertical-align: top;\n",
       "    }\n",
       "\n",
       "    .dataframe thead th {\n",
       "        text-align: right;\n",
       "    }\n",
       "</style>\n",
       "<table border=\"1\" class=\"dataframe\">\n",
       "  <thead>\n",
       "    <tr style=\"text-align: right;\">\n",
       "      <th></th>\n",
       "      <th>ARREST_DATE</th>\n",
       "      <th>WeekDay</th>\n",
       "      <th>Month</th>\n",
       "      <th>Week</th>\n",
       "      <th>Year</th>\n",
       "      <th>LAW_CAT_CD</th>\n",
       "      <th>Crime Severity</th>\n",
       "      <th>Crime Type</th>\n",
       "      <th>ARREST_BORO</th>\n",
       "      <th>ARREST_PRECINCT</th>\n",
       "      <th>AGE_GROUP</th>\n",
       "      <th>PERP_SEX</th>\n",
       "      <th>PERP_RACE</th>\n",
       "      <th>Latitude</th>\n",
       "      <th>Longitude</th>\n",
       "      <th>New Georeferenced Column</th>\n",
       "    </tr>\n",
       "  </thead>\n",
       "  <tbody>\n",
       "    <tr>\n",
       "      <th>0</th>\n",
       "      <td>2021-12-18</td>\n",
       "      <td>5</td>\n",
       "      <td>12</td>\n",
       "      <td>50</td>\n",
       "      <td>2021</td>\n",
       "      <td>Felony</td>\n",
       "      <td>Severe</td>\n",
       "      <td>Violent</td>\n",
       "      <td>Queens</td>\n",
       "      <td>105</td>\n",
       "      <td>18-24</td>\n",
       "      <td>M</td>\n",
       "      <td>BLACK</td>\n",
       "      <td>40.726187</td>\n",
       "      <td>-73.735234</td>\n",
       "      <td>POINT (-73.73523390399998 40.72618713000002)</td>\n",
       "    </tr>\n",
       "    <tr>\n",
       "      <th>2</th>\n",
       "      <td>2021-10-14</td>\n",
       "      <td>3</td>\n",
       "      <td>10</td>\n",
       "      <td>41</td>\n",
       "      <td>2021</td>\n",
       "      <td>Felony</td>\n",
       "      <td>Severe</td>\n",
       "      <td>Violent</td>\n",
       "      <td>Brooklyn</td>\n",
       "      <td>61</td>\n",
       "      <td>25-44</td>\n",
       "      <td>M</td>\n",
       "      <td>WHITE</td>\n",
       "      <td>40.594145</td>\n",
       "      <td>-73.960415</td>\n",
       "      <td>POINT (-73.96041495199995 40.59414516900005)</td>\n",
       "    </tr>\n",
       "    <tr>\n",
       "      <th>5</th>\n",
       "      <td>2021-09-27</td>\n",
       "      <td>0</td>\n",
       "      <td>9</td>\n",
       "      <td>39</td>\n",
       "      <td>2021</td>\n",
       "      <td>Felony</td>\n",
       "      <td>Severe</td>\n",
       "      <td>Violent</td>\n",
       "      <td>Brooklyn</td>\n",
       "      <td>84</td>\n",
       "      <td>25-44</td>\n",
       "      <td>M</td>\n",
       "      <td>BLACK</td>\n",
       "      <td>40.695469</td>\n",
       "      <td>-73.982825</td>\n",
       "      <td>POINT (-73.98282507899995 40.69546894100006)</td>\n",
       "    </tr>\n",
       "    <tr>\n",
       "      <th>7</th>\n",
       "      <td>2021-09-18</td>\n",
       "      <td>5</td>\n",
       "      <td>9</td>\n",
       "      <td>37</td>\n",
       "      <td>2021</td>\n",
       "      <td>Felony</td>\n",
       "      <td>Severe</td>\n",
       "      <td>Violent</td>\n",
       "      <td>Bronx</td>\n",
       "      <td>41</td>\n",
       "      <td>25-44</td>\n",
       "      <td>M</td>\n",
       "      <td>WHITE HISPANIC</td>\n",
       "      <td>40.816392</td>\n",
       "      <td>-73.895296</td>\n",
       "      <td>POINT (-73.89529641399997 40.816391847000034)</td>\n",
       "    </tr>\n",
       "    <tr>\n",
       "      <th>8</th>\n",
       "      <td>2021-09-17</td>\n",
       "      <td>4</td>\n",
       "      <td>9</td>\n",
       "      <td>37</td>\n",
       "      <td>2021</td>\n",
       "      <td>Felony</td>\n",
       "      <td>Severe</td>\n",
       "      <td>Violent</td>\n",
       "      <td>Queens</td>\n",
       "      <td>105</td>\n",
       "      <td>25-44</td>\n",
       "      <td>M</td>\n",
       "      <td>BLACK</td>\n",
       "      <td>40.726187</td>\n",
       "      <td>-73.735234</td>\n",
       "      <td>POINT (-73.73523390399998 40.72618713000002)</td>\n",
       "    </tr>\n",
       "  </tbody>\n",
       "</table>\n",
       "</div>"
      ],
      "text/plain": [
       "  ARREST_DATE  WeekDay  Month  Week  Year LAW_CAT_CD Crime Severity  \\\n",
       "0  2021-12-18        5     12    50  2021     Felony         Severe   \n",
       "2  2021-10-14        3     10    41  2021     Felony         Severe   \n",
       "5  2021-09-27        0      9    39  2021     Felony         Severe   \n",
       "7  2021-09-18        5      9    37  2021     Felony         Severe   \n",
       "8  2021-09-17        4      9    37  2021     Felony         Severe   \n",
       "\n",
       "  Crime Type ARREST_BORO  ARREST_PRECINCT AGE_GROUP PERP_SEX       PERP_RACE  \\\n",
       "0    Violent      Queens              105     18-24        M           BLACK   \n",
       "2    Violent    Brooklyn               61     25-44        M           WHITE   \n",
       "5    Violent    Brooklyn               84     25-44        M           BLACK   \n",
       "7    Violent       Bronx               41     25-44        M  WHITE HISPANIC   \n",
       "8    Violent      Queens              105     25-44        M           BLACK   \n",
       "\n",
       "    Latitude  Longitude                       New Georeferenced Column  \n",
       "0  40.726187 -73.735234   POINT (-73.73523390399998 40.72618713000002)  \n",
       "2  40.594145 -73.960415   POINT (-73.96041495199995 40.59414516900005)  \n",
       "5  40.695469 -73.982825   POINT (-73.98282507899995 40.69546894100006)  \n",
       "7  40.816392 -73.895296  POINT (-73.89529641399997 40.816391847000034)  \n",
       "8  40.726187 -73.735234   POINT (-73.73523390399998 40.72618713000002)  "
      ]
     },
     "execution_count": 15,
     "metadata": {},
     "output_type": "execute_result"
    }
   ],
   "source": [
    "#replace values in Arrest_Boro column\n",
    "crime['ARREST_BORO'] = crime['ARREST_BORO'].str.replace('B', 'Bronx')\n",
    "crime['ARREST_BORO'] = crime['ARREST_BORO'].str.replace('S', 'Staten Island')\n",
    "crime['ARREST_BORO'] = crime['ARREST_BORO'].str.replace('K', 'Brooklyn')\n",
    "crime['ARREST_BORO'] = crime['ARREST_BORO'].str.replace('M', 'Manhatten')\n",
    "crime['ARREST_BORO'] = crime['ARREST_BORO'].str.replace('Q', 'Queens')\n",
    "\n",
    "#replce values in Law category column\n",
    "crime['LAW_CAT_CD'] = crime['LAW_CAT_CD'].str.replace('M', 'Misdemeanor')\n",
    "crime['LAW_CAT_CD'] = crime['LAW_CAT_CD'].str.replace('F', 'Felony')\n",
    "crime['LAW_CAT_CD'] = crime['LAW_CAT_CD'].str.replace('V', 'Violation')\n",
    "crime['LAW_CAT_CD'] = crime['LAW_CAT_CD'].str.replace('I', 'Infraction')\n",
    "\n",
    "#reorder columns\n",
    "crime = crime[['ARREST_DATE','WeekDay','Month','Week','Year','LAW_CAT_CD','Crime Severity','Crime Type',\n",
    "              'ARREST_BORO', 'ARREST_PRECINCT','AGE_GROUP', 'PERP_SEX','PERP_RACE', 'Latitude', \n",
    "               'Longitude', 'New Georeferenced Column']]\n",
    "\n",
    "#print shape and new dataframe\n",
    "print(crime.shape)\n",
    "crime.head()"
   ]
  },
  {
   "cell_type": "markdown",
   "metadata": {},
   "source": [
    "## Beginning EDA"
   ]
  },
  {
   "cell_type": "markdown",
   "metadata": {},
   "source": [
    "##### Let us try to see what the data looks like, first lets try mapping with the longitutde and latitude"
   ]
  },
  {
   "cell_type": "code",
   "execution_count": 16,
   "metadata": {},
   "outputs": [
    {
     "data": {
      "image/png": "[encoded data removed]",
      "text/plain": [
       "<Figure size 864x720 with 1 Axes>"
      ]
     },
     "metadata": {
      "needs_background": "light"
     },
     "output_type": "display_data"
    }
   ],
   "source": [
    "#try a basic figure \n",
    "plt.figure(figsize=(12,10))\n",
    "plt.scatter(crime.Latitude, crime.Longitude)\n",
    "plt.show()"
   ]
  },
  {
   "cell_type": "code",
   "execution_count": 17,
   "metadata": {},
   "outputs": [
    {
     "data": {
      "image/png": "[encoded data removed]",
      "text/plain": [
       "<Figure size 432x288 with 1 Axes>"
      ]
     },
     "metadata": {
      "needs_background": "light"
     },
     "output_type": "display_data"
    }
   ],
   "source": [
    "#try a bubble scatter plot\n",
    "area = (30 * np.random.rand(731348))**2\n",
    "plt.scatter(crime.Latitude, crime.Longitude, s=area, alpha=0.5)\n",
    "plt.show()"
   ]
  },
  {
   "cell_type": "code",
   "execution_count": 18,
   "metadata": {},
   "outputs": [
    {
     "data": {
      "text/plain": [
       "<matplotlib.axes._subplots.AxesSubplot at 0x1a1e80b2b0>"
      ]
     },
     "execution_count": 18,
     "metadata": {},
     "output_type": "execute_result"
    },
    {
     "data": {
      "image/png": "[encoded data removed]",
      "text/plain": [
       "<Figure size 432x288 with 1 Axes>"
      ]
     },
     "metadata": {
      "needs_background": "light"
     },
     "output_type": "display_data"
    }
   ],
   "source": [
    "#let us try labeling\n",
    "sns.scatterplot(data=crime, x=crime.Latitude, y=crime.Longitude, hue =crime['Crime Severity'])"
   ]
  },
  {
   "cell_type": "markdown",
   "metadata": {},
   "source": [
    "Too many data points, so let us try one year."
   ]
  },
  {
   "cell_type": "code",
   "execution_count": 19,
   "metadata": {},
   "outputs": [
    {
     "name": "stdout",
     "output_type": "stream",
     "text": [
      "(82617, 16)\n"
     ]
    },
    {
     "data": {
      "text/plain": [
       "<matplotlib.axes._subplots.AxesSubplot at 0x1a4263ac88>"
      ]
     },
     "execution_count": 19,
     "metadata": {},
     "output_type": "execute_result"
    },
    {
     "data": {
      "image/png": "[encoded data removed]",
      "text/plain": [
       "<Figure size 432x288 with 1 Axes>"
      ]
     },
     "metadata": {
      "needs_background": "light"
     },
     "output_type": "display_data"
    }
   ],
   "source": [
    "#Two requirements - year and law category\n",
    "year_2019 = crime.loc[((crime['Year'] == 2019) & (crime['LAW_CAT_CD'] =='Felony'))]\n",
    "print(year_2019.shape)\n",
    "\n",
    "sns.scatterplot(data=year_2019, x=year_2019.Latitude, y=year_2019.Longitude, hue =year_2019.ARREST_BORO)"
   ]
  },
  {
   "cell_type": "code",
   "execution_count": 20,
   "metadata": {},
   "outputs": [
    {
     "name": "stdout",
     "output_type": "stream",
     "text": [
      "(17422, 16)\n"
     ]
    },
    {
     "data": {
      "text/plain": [
       "<matplotlib.axes._subplots.AxesSubplot at 0x1a350130f0>"
      ]
     },
     "execution_count": 20,
     "metadata": {},
     "output_type": "execute_result"
    },
    {
     "data": {
      "image/png": "[encoded data removed]",
      "text/plain": [
       "<Figure size 432x288 with 1 Axes>"
      ]
     },
     "metadata": {
      "needs_background": "light"
     },
     "output_type": "display_data"
    }
   ],
   "source": [
    "#Let us try 3 requirements - year, law category and borough\n",
    "year_2019 = crime.loc[((crime['Year'] == 2019) & (crime['LAW_CAT_CD'] =='Felony') & (crime['ARREST_BORO'] =='Bronx'))]\n",
    "print(year_2019.shape)\n",
    "                       \n",
    "sns.scatterplot(data=year_2019, x=year_2019.Latitude, y=year_2019.Longitude, hue =year_2019.ARREST_PRECINCT)"
   ]
  },
  {
   "cell_type": "markdown",
   "metadata": {},
   "source": [
    "##### Other basic figures"
   ]
  },
  {
   "cell_type": "code",
   "execution_count": 21,
   "metadata": {},
   "outputs": [
    {
     "data": {
      "text/plain": [
       "<BarContainer object of 5 artists>"
      ]
     },
     "execution_count": 21,
     "metadata": {},
     "output_type": "execute_result"
    },
    {
     "data": {
      "image/png": "[encoded data removed]",
      "text/plain": [
       "<Figure size 576x432 with 1 Axes>"
      ]
     },
     "metadata": {
      "needs_background": "light"
     },
     "output_type": "display_data"
    }
   ],
   "source": [
    "#Bar plot of number of offenses in each borrow\n",
    "plt.figure(figsize=[8,6])\n",
    "plt.bar(crime['ARREST_BORO'].value_counts().index.tolist(), crime['ARREST_BORO'].value_counts().values)"
   ]
  },
  {
   "cell_type": "code",
   "execution_count": 22,
   "metadata": {},
   "outputs": [
    {
     "data": {
      "text/plain": [
       "<BarContainer object of 4 artists>"
      ]
     },
     "execution_count": 22,
     "metadata": {},
     "output_type": "execute_result"
    },
    {
     "data": {
      "image/png": "[encoded data removed]",
      "text/plain": [
       "<Figure size 576x432 with 1 Axes>"
      ]
     },
     "metadata": {
      "needs_background": "light"
     },
     "output_type": "display_data"
    }
   ],
   "source": [
    "#Bar plot of differnt offense categories, maybe only focus on misdemeanors and felonies?\n",
    "plt.figure(figsize=[8,6])\n",
    "plt.bar(crime['LAW_CAT_CD'].value_counts().index.tolist(), crime['LAW_CAT_CD'].value_counts().values)"
   ]
  },
  {
   "cell_type": "code",
   "execution_count": 23,
   "metadata": {},
   "outputs": [
    {
     "data": {
      "text/plain": [
       "<BarContainer object of 12 artists>"
      ]
     },
     "execution_count": 23,
     "metadata": {},
     "output_type": "execute_result"
    },
    {
     "data": {
      "image/png": "[encoded data removed]",
      "text/plain": [
       "<Figure size 576x432 with 1 Axes>"
      ]
     },
     "metadata": {
      "needs_background": "light"
     },
     "output_type": "display_data"
    }
   ],
   "source": [
    "#Bar plot of the number of offenses in each month\n",
    "plt.figure(figsize=[8,6])\n",
    "plt.bar(crime['Month'].value_counts().index.tolist(), crime['Month'].value_counts().values)"
   ]
  },
  {
   "cell_type": "code",
   "execution_count": 24,
   "metadata": {},
   "outputs": [
    {
     "data": {
      "image/png": "[encoded data removed]",
      "text/plain": [
       "<Figure size 576x432 with 1 Axes>"
      ]
     },
     "metadata": {
      "needs_background": "light"
     },
     "output_type": "display_data"
    }
   ],
   "source": [
    "#Bar plot of number of offenses each year --- We have something\n",
    "labs =['2018','2019','2020','2021']\n",
    "plt.figure(figsize=[8,6])\n",
    "plt.plot(crime['Year'].value_counts().values, color = 'red', lw = 2)\n",
    "plt.xlabel('Year')\n",
    "#plt.xticks(labels=labs)\n",
    "plt.show()"
   ]
  },
  {
   "cell_type": "code",
   "execution_count": 25,
   "metadata": {},
   "outputs": [
    {
     "data": {
      "text/plain": [
       "<matplotlib.axes._subplots.AxesSubplot at 0x1a226f2588>"
      ]
     },
     "execution_count": 25,
     "metadata": {},
     "output_type": "execute_result"
    },
    {
     "data": {
      "image/png": "[encoded data removed]",
      "text/plain": [
       "<Figure size 432x288 with 1 Axes>"
      ]
     },
     "metadata": {
      "needs_background": "light"
     },
     "output_type": "display_data"
    }
   ],
   "source": [
    "#Bar plot showing proportion of crimes committed per age group at each boro\n",
    "pd.crosstab(crime['ARREST_BORO'],crime['AGE_GROUP']).plot(kind=\"barh\",stacked=True)"
   ]
  },
  {
   "cell_type": "code",
   "execution_count": 26,
   "metadata": {},
   "outputs": [
    {
     "data": {
      "text/plain": [
       "<matplotlib.axes._subplots.AxesSubplot at 0x1a2e000c88>"
      ]
     },
     "execution_count": 26,
     "metadata": {},
     "output_type": "execute_result"
    },
    {
     "data": {
      "image/png": "[encoded data removed]",
      "text/plain": [
       "<Figure size 432x288 with 1 Axes>"
      ]
     },
     "metadata": {
      "needs_background": "light"
     },
     "output_type": "display_data"
    }
   ],
   "source": [
    "#Bar plot showing proportion of crimes committed per age group for each Crime Type\n",
    "pd.crosstab(crime['Crime Type'],crime['AGE_GROUP']).plot(kind=\"barh\",stacked=True)"
   ]
  },
  {
   "cell_type": "code",
   "execution_count": 27,
   "metadata": {},
   "outputs": [
    {
     "data": {
      "text/plain": [
       "<matplotlib.axes._subplots.AxesSubplot at 0x1a2e0defd0>"
      ]
     },
     "execution_count": 27,
     "metadata": {},
     "output_type": "execute_result"
    },
    {
     "data": {
      "image/png": "[encoded data removed]",
      "text/plain": [
       "<Figure size 432x288 with 1 Axes>"
      ]
     },
     "metadata": {
      "needs_background": "light"
     },
     "output_type": "display_data"
    }
   ],
   "source": [
    "#Bar plot showing proportion of crimes committed per age group for crime severity\n",
    "pd.crosstab(crime['Crime Severity'],crime['AGE_GROUP']).plot(kind=\"barh\",stacked=True)"
   ]
  },
  {
   "cell_type": "code",
   "execution_count": 28,
   "metadata": {},
   "outputs": [
    {
     "data": {
      "text/plain": [
       "<matplotlib.axes._subplots.AxesSubplot at 0x1a2e2265f8>"
      ]
     },
     "execution_count": 28,
     "metadata": {},
     "output_type": "execute_result"
    },
    {
     "data": {
      "image/png": "[encoded data removed]",
      "text/plain": [
       "<Figure size 432x288 with 1 Axes>"
      ]
     },
     "metadata": {
      "needs_background": "light"
     },
     "output_type": "display_data"
    }
   ],
   "source": [
    "#Bar plot showing proportion of crimes committed per age group for each Crime Type\n",
    "pd.crosstab(crime['Crime Type'],crime['PERP_RACE']).plot(kind=\"barh\",stacked=True)"
   ]
  },
  {
   "cell_type": "code",
   "execution_count": 29,
   "metadata": {},
   "outputs": [
    {
     "data": {
      "text/plain": [
       "<matplotlib.axes._subplots.AxesSubplot at 0x1a2e3e7fd0>"
      ]
     },
     "execution_count": 29,
     "metadata": {},
     "output_type": "execute_result"
    },
    {
     "data": {
      "image/png": "[encoded data removed]",
      "text/plain": [
       "<Figure size 432x288 with 1 Axes>"
      ]
     },
     "metadata": {
      "needs_background": "light"
     },
     "output_type": "display_data"
    }
   ],
   "source": [
    "#Bar plot showing proportion of crimes committed per year for crime severity\n",
    "pd.crosstab(crime['Year'],crime['Crime Severity']).plot(kind=\"barh\",stacked=True)"
   ]
  },
  {
   "cell_type": "code",
   "execution_count": 30,
   "metadata": {},
   "outputs": [
    {
     "data": {
      "text/plain": [
       "<matplotlib.axes._subplots.AxesSubplot at 0x1a2e1de898>"
      ]
     },
     "execution_count": 30,
     "metadata": {},
     "output_type": "execute_result"
    },
    {
     "data": {
      "image/png": "[encoded data removed]",
      "text/plain": [
       "<Figure size 432x288 with 1 Axes>"
      ]
     },
     "metadata": {
      "needs_background": "light"
     },
     "output_type": "display_data"
    }
   ],
   "source": [
    "#Bar plot showing proportion of crimes committed per year per Crime type\n",
    "pd.crosstab(crime['Year'],crime['Crime Type']).plot(kind=\"barh\",stacked=True)"
   ]
  },
  {
   "cell_type": "code",
   "execution_count": 31,
   "metadata": {},
   "outputs": [
    {
     "data": {
      "text/plain": [
       "<matplotlib.axes._subplots.AxesSubplot at 0x1a1eaf64e0>"
      ]
     },
     "execution_count": 31,
     "metadata": {},
     "output_type": "execute_result"
    },
    {
     "data": {
      "image/png": "[encoded data removed]",
      "text/plain": [
       "<Figure size 432x288 with 1 Axes>"
      ]
     },
     "metadata": {
      "needs_background": "light"
     },
     "output_type": "display_data"
    }
   ],
   "source": [
    "#Bar plot showing proportion of serious crimes committed in each boro\n",
    "pd.crosstab(crime['ARREST_BORO'],crime['Crime Severity']).plot(kind=\"barh\",stacked=True)"
   ]
  },
  {
   "cell_type": "code",
   "execution_count": 32,
   "metadata": {},
   "outputs": [
    {
     "data": {
      "text/plain": [
       "<matplotlib.axes._subplots.AxesSubplot at 0x1a2ef47e10>"
      ]
     },
     "execution_count": 32,
     "metadata": {},
     "output_type": "execute_result"
    },
    {
     "data": {
      "image/png": "[encoded data removed]",
      "text/plain": [
       "<Figure size 432x288 with 1 Axes>"
      ]
     },
     "metadata": {
      "needs_background": "light"
     },
     "output_type": "display_data"
    }
   ],
   "source": [
    "#Bar plot showing proportion of crimes committed per year per Crime type\n",
    "pd.crosstab(crime['WeekDay'],crime['Crime Type']).plot(kind=\"barh\",stacked=True)"
   ]
  },
  {
   "cell_type": "markdown",
   "metadata": {},
   "source": [
    "### Note\n",
    "\n",
    "There is something important to consider with years!\n",
    "\n",
    "This quick EDA illustrated what we can start dropping and subsampling:\n",
    "\n",
    "Drop: \n",
    "     \n",
    "     1. the LAW_CAT_CD column adds no value\n",
    "     2. remove unknown race\n",
    "     3. remove age groups that have committed little crime (<18 and 65+)\n",
    "\n",
    "Possible Subsamplings:\n",
    "\n",
    "    1. Covid Waves (can be clusters?)\n",
    "    2. By Borough\n",
    "    3. By Precinct\n",
    "    4. Crime Severity\n",
    "    5. Crime Type\n",
    "    6. Age Group\n",
    "    7. Year or time period"
   ]
  },
  {
   "cell_type": "code",
   "execution_count": 33,
   "metadata": {},
   "outputs": [
    {
     "data": {
      "text/plain": [
       "(685440, 15)"
      ]
     },
     "execution_count": 33,
     "metadata": {},
     "output_type": "execute_result"
    }
   ],
   "source": [
    "#Frist drop the LAW_CAT_CD column\n",
    "crime = crime.drop('LAW_CAT_CD', axis = 1)\n",
    "\n",
    "#Drop all rows that have unknown Perp Race\n",
    "crime = crime[crime['PERP_RACE'] != 'UNKNOWN']\n",
    "\n",
    "#Drop ages <18 and 65+ - did not consitute large proportion of crimes\n",
    "crime = crime[((crime['AGE_GROUP'] != '<18') & (crime['AGE_GROUP'] != '65+'))]\n",
    "\n",
    "#check shape\n",
    "crime.shape"
   ]
  },
  {
   "cell_type": "markdown",
   "metadata": {},
   "source": [
    "Further feature engineering:\n",
    "    \n",
    "    Will focus on periods\n",
    "\n",
    "We will be defining two time periods:\n",
    "    \n",
    "    1. Pre-Covid -> March 2019 - end of Feb 2020\n",
    "    2. Covid -> March 2020 - end of Feb 2021\n",
    "\n",
    "Drop: Weekday, Month, Week, Year, precinct and crime type (similar to severity).\n",
    "\n",
    "Change Crime Severity and Age Group into ordinals\n",
    "\n",
    "Change Perp sex, race Boro and race into dummies"
   ]
  },
  {
   "cell_type": "code",
   "execution_count": 34,
   "metadata": {},
   "outputs": [
    {
     "data": {
      "text/html": [
       "<div>\n",
       "<style scoped>\n",
       "    .dataframe tbody tr th:only-of-type {\n",
       "        vertical-align: middle;\n",
       "    }\n",
       "\n",
       "    .dataframe tbody tr th {\n",
       "        vertical-align: top;\n",
       "    }\n",
       "\n",
       "    .dataframe thead th {\n",
       "        text-align: right;\n",
       "    }\n",
       "</style>\n",
       "<table border=\"1\" class=\"dataframe\">\n",
       "  <thead>\n",
       "    <tr style=\"text-align: right;\">\n",
       "      <th></th>\n",
       "      <th>ARREST_DATE</th>\n",
       "      <th>WeekDay</th>\n",
       "      <th>Month</th>\n",
       "      <th>Week</th>\n",
       "      <th>Year</th>\n",
       "      <th>Crime Severity</th>\n",
       "      <th>Crime Type</th>\n",
       "      <th>ARREST_BORO</th>\n",
       "      <th>ARREST_PRECINCT</th>\n",
       "      <th>AGE_GROUP</th>\n",
       "      <th>PERP_SEX</th>\n",
       "      <th>PERP_RACE</th>\n",
       "      <th>Latitude</th>\n",
       "      <th>Longitude</th>\n",
       "      <th>New Georeferenced Column</th>\n",
       "    </tr>\n",
       "  </thead>\n",
       "  <tbody>\n",
       "    <tr>\n",
       "      <th>0</th>\n",
       "      <td>2021-12-18</td>\n",
       "      <td>5</td>\n",
       "      <td>12</td>\n",
       "      <td>50</td>\n",
       "      <td>2021</td>\n",
       "      <td>Severe</td>\n",
       "      <td>Violent</td>\n",
       "      <td>Queens</td>\n",
       "      <td>105</td>\n",
       "      <td>18-24</td>\n",
       "      <td>M</td>\n",
       "      <td>BLACK</td>\n",
       "      <td>40.726187</td>\n",
       "      <td>-73.735234</td>\n",
       "      <td>POINT (-73.73523390399998 40.72618713000002)</td>\n",
       "    </tr>\n",
       "    <tr>\n",
       "      <th>2</th>\n",
       "      <td>2021-10-14</td>\n",
       "      <td>3</td>\n",
       "      <td>10</td>\n",
       "      <td>41</td>\n",
       "      <td>2021</td>\n",
       "      <td>Severe</td>\n",
       "      <td>Violent</td>\n",
       "      <td>Brooklyn</td>\n",
       "      <td>61</td>\n",
       "      <td>25-44</td>\n",
       "      <td>M</td>\n",
       "      <td>WHITE</td>\n",
       "      <td>40.594145</td>\n",
       "      <td>-73.960415</td>\n",
       "      <td>POINT (-73.96041495199995 40.59414516900005)</td>\n",
       "    </tr>\n",
       "    <tr>\n",
       "      <th>5</th>\n",
       "      <td>2021-09-27</td>\n",
       "      <td>0</td>\n",
       "      <td>9</td>\n",
       "      <td>39</td>\n",
       "      <td>2021</td>\n",
       "      <td>Severe</td>\n",
       "      <td>Violent</td>\n",
       "      <td>Brooklyn</td>\n",
       "      <td>84</td>\n",
       "      <td>25-44</td>\n",
       "      <td>M</td>\n",
       "      <td>BLACK</td>\n",
       "      <td>40.695469</td>\n",
       "      <td>-73.982825</td>\n",
       "      <td>POINT (-73.98282507899995 40.69546894100006)</td>\n",
       "    </tr>\n",
       "    <tr>\n",
       "      <th>7</th>\n",
       "      <td>2021-09-18</td>\n",
       "      <td>5</td>\n",
       "      <td>9</td>\n",
       "      <td>37</td>\n",
       "      <td>2021</td>\n",
       "      <td>Severe</td>\n",
       "      <td>Violent</td>\n",
       "      <td>Bronx</td>\n",
       "      <td>41</td>\n",
       "      <td>25-44</td>\n",
       "      <td>M</td>\n",
       "      <td>WHITE HISPANIC</td>\n",
       "      <td>40.816392</td>\n",
       "      <td>-73.895296</td>\n",
       "      <td>POINT (-73.89529641399997 40.816391847000034)</td>\n",
       "    </tr>\n",
       "    <tr>\n",
       "      <th>8</th>\n",
       "      <td>2021-09-17</td>\n",
       "      <td>4</td>\n",
       "      <td>9</td>\n",
       "      <td>37</td>\n",
       "      <td>2021</td>\n",
       "      <td>Severe</td>\n",
       "      <td>Violent</td>\n",
       "      <td>Queens</td>\n",
       "      <td>105</td>\n",
       "      <td>25-44</td>\n",
       "      <td>M</td>\n",
       "      <td>BLACK</td>\n",
       "      <td>40.726187</td>\n",
       "      <td>-73.735234</td>\n",
       "      <td>POINT (-73.73523390399998 40.72618713000002)</td>\n",
       "    </tr>\n",
       "  </tbody>\n",
       "</table>\n",
       "</div>"
      ],
      "text/plain": [
       "  ARREST_DATE  WeekDay  Month  Week  Year Crime Severity Crime Type  \\\n",
       "0  2021-12-18        5     12    50  2021         Severe    Violent   \n",
       "2  2021-10-14        3     10    41  2021         Severe    Violent   \n",
       "5  2021-09-27        0      9    39  2021         Severe    Violent   \n",
       "7  2021-09-18        5      9    37  2021         Severe    Violent   \n",
       "8  2021-09-17        4      9    37  2021         Severe    Violent   \n",
       "\n",
       "  ARREST_BORO  ARREST_PRECINCT AGE_GROUP PERP_SEX       PERP_RACE   Latitude  \\\n",
       "0      Queens              105     18-24        M           BLACK  40.726187   \n",
       "2    Brooklyn               61     25-44        M           WHITE  40.594145   \n",
       "5    Brooklyn               84     25-44        M           BLACK  40.695469   \n",
       "7       Bronx               41     25-44        M  WHITE HISPANIC  40.816392   \n",
       "8      Queens              105     25-44        M           BLACK  40.726187   \n",
       "\n",
       "   Longitude                       New Georeferenced Column  \n",
       "0 -73.735234   POINT (-73.73523390399998 40.72618713000002)  \n",
       "2 -73.960415   POINT (-73.96041495199995 40.59414516900005)  \n",
       "5 -73.982825   POINT (-73.98282507899995 40.69546894100006)  \n",
       "7 -73.895296  POINT (-73.89529641399997 40.816391847000034)  \n",
       "8 -73.735234   POINT (-73.73523390399998 40.72618713000002)  "
      ]
     },
     "execution_count": 34,
     "metadata": {},
     "output_type": "execute_result"
    }
   ],
   "source": [
    "crime.head()"
   ]
  },
  {
   "cell_type": "markdown",
   "metadata": {},
   "source": [
    "First I am going to make a deep copy.\n",
    "\n",
    "    One copy will only be ordinal variables\n",
    "    \n",
    "    The other will include dummy variables\n",
    "    \n",
    "3 dataframes of each, one master, one covid and one pre-covid"
   ]
  },
  {
   "cell_type": "code",
   "execution_count": null,
   "metadata": {},
   "outputs": [],
   "source": [
    "crime.head()"
   ]
  },
  {
   "cell_type": "markdown",
   "metadata": {},
   "source": [
    "#### master dataframe - No changes"
   ]
  },
  {
   "cell_type": "code",
   "execution_count": 35,
   "metadata": {},
   "outputs": [],
   "source": [
    "data = copy.deepcopy(crime)"
   ]
  },
  {
   "cell_type": "code",
   "execution_count": 36,
   "metadata": {},
   "outputs": [],
   "source": [
    "#Drop Weekday, month, week, year, precinct and crime type, arrest_precinct\n",
    "data = data.drop(['Week', 'Year', 'Crime Type'], axis=1)"
   ]
  },
  {
   "cell_type": "code",
   "execution_count": 37,
   "metadata": {},
   "outputs": [
    {
     "name": "stdout",
     "output_type": "stream",
     "text": [
      "Shape of new_crime: (312181, 12)\n",
      "Shape of covid: (122873, 12)\n",
      "Shape of pre_covid (189308, 12)\n"
     ]
    }
   ],
   "source": [
    "#Change arrest data order to month/day/year\n",
    "data['ARREST_DATE'] = data['ARREST_DATE'].dt.strftime('%m/%d/%Y')\n",
    "\n",
    "#The above turned it into an onject, turn back to datetime object\n",
    "data['ARREST_DATE'] = pd.to_datetime(data['ARREST_DATE'])\n",
    "\n",
    "#Use ARREST DATE to create 2 DFs and merge for correct periods\n",
    "pre_data = data.loc[(data['ARREST_DATE'] >= '03/01/2019') & (data['ARREST_DATE'] <= '02/29/2020')]\n",
    "covid_data = data.loc[(data['ARREST_DATE'] >= '03/01/2020') & (data['ARREST_DATE'] <= '02/28/2021')]\n",
    "\n",
    "#Merge\n",
    "new_data = pd.concat([pre_data, covid_data], axis = 0)\n",
    "\n",
    "#check shape and view\n",
    "print(\"Shape of new_crime:\", new_data.shape)\n",
    "print(\"Shape of covid:\", covid_data.shape)\n",
    "print(\"Shape of pre_covid\",pre_data.shape)"
   ]
  },
  {
   "cell_type": "code",
   "execution_count": 38,
   "metadata": {},
   "outputs": [],
   "source": [
    "#chronilogical order for arrest date\n",
    "new_data = new_data.sort_values('ARREST_DATE').reset_index(drop=True)\n",
    "covid_data = covid_data.sort_values('ARREST_DATE').reset_index(drop=True)\n",
    "pre_data = pre_data.sort_values('ARREST_DATE').reset_index(drop=True)\n",
    "\n",
    "#Save new crime dataframe to csv file in Data folder\n",
    "new_data.to_csv('Data/EDA_data/crime_master.csv', index=False)\n",
    "\n",
    "#Save covid and pre_covid as their own csv files\n",
    "covid_data.to_csv('Data/EDA_data/covid_crime.csv', index=False)\n",
    "pre_data.to_csv('Data/EDA_data/pre_covid_crime.csv', index=False)"
   ]
  },
  {
   "cell_type": "markdown",
   "metadata": {},
   "source": [
    "#### dataframes using dummy features"
   ]
  },
  {
   "cell_type": "code",
   "execution_count": 46,
   "metadata": {},
   "outputs": [
    {
     "data": {
      "text/html": [
       "<div>\n",
       "<style scoped>\n",
       "    .dataframe tbody tr th:only-of-type {\n",
       "        vertical-align: middle;\n",
       "    }\n",
       "\n",
       "    .dataframe tbody tr th {\n",
       "        vertical-align: top;\n",
       "    }\n",
       "\n",
       "    .dataframe thead th {\n",
       "        text-align: right;\n",
       "    }\n",
       "</style>\n",
       "<table border=\"1\" class=\"dataframe\">\n",
       "  <thead>\n",
       "    <tr style=\"text-align: right;\">\n",
       "      <th></th>\n",
       "      <th>ARREST_DATE</th>\n",
       "      <th>WeekDay</th>\n",
       "      <th>Month</th>\n",
       "      <th>Crime Severity</th>\n",
       "      <th>AGE_GROUP</th>\n",
       "      <th>PERP_SEX</th>\n",
       "      <th>Latitude</th>\n",
       "      <th>Longitude</th>\n",
       "      <th>New Georeferenced Column</th>\n",
       "      <th>ARREST_BORO_Brooklyn</th>\n",
       "      <th>ARREST_BORO_Manhatten</th>\n",
       "      <th>ARREST_BORO_Queens</th>\n",
       "      <th>ARREST_BORO_Staten Island</th>\n",
       "      <th>PERP_RACE_ASIAN / PACIFIC ISLANDER</th>\n",
       "      <th>PERP_RACE_BLACK</th>\n",
       "      <th>PERP_RACE_BLACK HISPANIC</th>\n",
       "      <th>PERP_RACE_WHITE</th>\n",
       "      <th>PERP_RACE_WHITE HISPANIC</th>\n",
       "    </tr>\n",
       "  </thead>\n",
       "  <tbody>\n",
       "    <tr>\n",
       "      <th>0</th>\n",
       "      <td>2021-12-18</td>\n",
       "      <td>5</td>\n",
       "      <td>12</td>\n",
       "      <td>2</td>\n",
       "      <td>0</td>\n",
       "      <td>1</td>\n",
       "      <td>40.726187</td>\n",
       "      <td>-73.735234</td>\n",
       "      <td>POINT (-73.73523390399998 40.72618713000002)</td>\n",
       "      <td>0</td>\n",
       "      <td>0</td>\n",
       "      <td>1</td>\n",
       "      <td>0</td>\n",
       "      <td>0</td>\n",
       "      <td>1</td>\n",
       "      <td>0</td>\n",
       "      <td>0</td>\n",
       "      <td>0</td>\n",
       "    </tr>\n",
       "    <tr>\n",
       "      <th>2</th>\n",
       "      <td>2021-10-14</td>\n",
       "      <td>3</td>\n",
       "      <td>10</td>\n",
       "      <td>2</td>\n",
       "      <td>1</td>\n",
       "      <td>1</td>\n",
       "      <td>40.594145</td>\n",
       "      <td>-73.960415</td>\n",
       "      <td>POINT (-73.96041495199995 40.59414516900005)</td>\n",
       "      <td>1</td>\n",
       "      <td>0</td>\n",
       "      <td>0</td>\n",
       "      <td>0</td>\n",
       "      <td>0</td>\n",
       "      <td>0</td>\n",
       "      <td>0</td>\n",
       "      <td>1</td>\n",
       "      <td>0</td>\n",
       "    </tr>\n",
       "    <tr>\n",
       "      <th>5</th>\n",
       "      <td>2021-09-27</td>\n",
       "      <td>0</td>\n",
       "      <td>9</td>\n",
       "      <td>2</td>\n",
       "      <td>1</td>\n",
       "      <td>1</td>\n",
       "      <td>40.695469</td>\n",
       "      <td>-73.982825</td>\n",
       "      <td>POINT (-73.98282507899995 40.69546894100006)</td>\n",
       "      <td>1</td>\n",
       "      <td>0</td>\n",
       "      <td>0</td>\n",
       "      <td>0</td>\n",
       "      <td>0</td>\n",
       "      <td>1</td>\n",
       "      <td>0</td>\n",
       "      <td>0</td>\n",
       "      <td>0</td>\n",
       "    </tr>\n",
       "    <tr>\n",
       "      <th>7</th>\n",
       "      <td>2021-09-18</td>\n",
       "      <td>5</td>\n",
       "      <td>9</td>\n",
       "      <td>2</td>\n",
       "      <td>1</td>\n",
       "      <td>1</td>\n",
       "      <td>40.816392</td>\n",
       "      <td>-73.895296</td>\n",
       "      <td>POINT (-73.89529641399997 40.816391847000034)</td>\n",
       "      <td>0</td>\n",
       "      <td>0</td>\n",
       "      <td>0</td>\n",
       "      <td>0</td>\n",
       "      <td>0</td>\n",
       "      <td>0</td>\n",
       "      <td>0</td>\n",
       "      <td>0</td>\n",
       "      <td>1</td>\n",
       "    </tr>\n",
       "    <tr>\n",
       "      <th>8</th>\n",
       "      <td>2021-09-17</td>\n",
       "      <td>4</td>\n",
       "      <td>9</td>\n",
       "      <td>2</td>\n",
       "      <td>1</td>\n",
       "      <td>1</td>\n",
       "      <td>40.726187</td>\n",
       "      <td>-73.735234</td>\n",
       "      <td>POINT (-73.73523390399998 40.72618713000002)</td>\n",
       "      <td>0</td>\n",
       "      <td>0</td>\n",
       "      <td>1</td>\n",
       "      <td>0</td>\n",
       "      <td>0</td>\n",
       "      <td>1</td>\n",
       "      <td>0</td>\n",
       "      <td>0</td>\n",
       "      <td>0</td>\n",
       "    </tr>\n",
       "  </tbody>\n",
       "</table>\n",
       "</div>"
      ],
      "text/plain": [
       "  ARREST_DATE  WeekDay  Month  Crime Severity  AGE_GROUP  PERP_SEX   Latitude  \\\n",
       "0  2021-12-18        5     12               2          0         1  40.726187   \n",
       "2  2021-10-14        3     10               2          1         1  40.594145   \n",
       "5  2021-09-27        0      9               2          1         1  40.695469   \n",
       "7  2021-09-18        5      9               2          1         1  40.816392   \n",
       "8  2021-09-17        4      9               2          1         1  40.726187   \n",
       "\n",
       "   Longitude                       New Georeferenced Column  \\\n",
       "0 -73.735234   POINT (-73.73523390399998 40.72618713000002)   \n",
       "2 -73.960415   POINT (-73.96041495199995 40.59414516900005)   \n",
       "5 -73.982825   POINT (-73.98282507899995 40.69546894100006)   \n",
       "7 -73.895296  POINT (-73.89529641399997 40.816391847000034)   \n",
       "8 -73.735234   POINT (-73.73523390399998 40.72618713000002)   \n",
       "\n",
       "   ARREST_BORO_Brooklyn  ARREST_BORO_Manhatten  ARREST_BORO_Queens  \\\n",
       "0                     0                      0                   1   \n",
       "2                     1                      0                   0   \n",
       "5                     1                      0                   0   \n",
       "7                     0                      0                   0   \n",
       "8                     0                      0                   1   \n",
       "\n",
       "   ARREST_BORO_Staten Island  PERP_RACE_ASIAN / PACIFIC ISLANDER  \\\n",
       "0                          0                                   0   \n",
       "2                          0                                   0   \n",
       "5                          0                                   0   \n",
       "7                          0                                   0   \n",
       "8                          0                                   0   \n",
       "\n",
       "   PERP_RACE_BLACK  PERP_RACE_BLACK HISPANIC  PERP_RACE_WHITE  \\\n",
       "0                1                         0                0   \n",
       "2                0                         0                1   \n",
       "5                1                         0                0   \n",
       "7                0                         0                0   \n",
       "8                1                         0                0   \n",
       "\n",
       "   PERP_RACE_WHITE HISPANIC  \n",
       "0                         0  \n",
       "2                         0  \n",
       "5                         0  \n",
       "7                         1  \n",
       "8                         0  "
      ]
     },
     "execution_count": 46,
     "metadata": {},
     "output_type": "execute_result"
    }
   ],
   "source": [
    "#First deepcopy and start prepping for dummy and ordinal variables\n",
    "crime_db = copy.deepcopy(crime)\n",
    "\n",
    "#Drop Weekday, month, week, year, precinct and crime type\n",
    "crime_db = crime_db.drop(['Week', 'Year', 'ARREST_PRECINCT', 'Crime Type'], axis=1)\n",
    "\n",
    "\n",
    "#First change crime severity and age group into ordinals\n",
    "crime_db = crime_db.replace({\"Crime Severity\" : {\"Minor\" : 0, \"Mild\" : 1, \"Severe\": 2},\n",
    "                             \"PERP_SEX\" : {\"F\":0, \"M\":1},\n",
    "                       \"AGE_GROUP\" : {\"18-24\" : 0, \"25-44\" : 1, \"45-64\":2} #youngest, middle, oldest ranking\n",
    "                        })\n",
    "\n",
    "#Get dummy variables for boro, sex, and race\n",
    "crime_db = pd.get_dummies(crime_db, columns=['ARREST_BORO', 'PERP_RACE'], drop_first=True)\n",
    "\n",
    "#See new table\n",
    "crime_db.head()"
   ]
  },
  {
   "cell_type": "code",
   "execution_count": 47,
   "metadata": {},
   "outputs": [
    {
     "name": "stdout",
     "output_type": "stream",
     "text": [
      "Shape of new_crime: (312181, 18)\n",
      "Shape of covid: (122873, 18)\n",
      "Shape of pre_covid (189308, 18)\n"
     ]
    },
    {
     "data": {
      "text/html": [
       "<div>\n",
       "<style scoped>\n",
       "    .dataframe tbody tr th:only-of-type {\n",
       "        vertical-align: middle;\n",
       "    }\n",
       "\n",
       "    .dataframe tbody tr th {\n",
       "        vertical-align: top;\n",
       "    }\n",
       "\n",
       "    .dataframe thead th {\n",
       "        text-align: right;\n",
       "    }\n",
       "</style>\n",
       "<table border=\"1\" class=\"dataframe\">\n",
       "  <thead>\n",
       "    <tr style=\"text-align: right;\">\n",
       "      <th></th>\n",
       "      <th>ARREST_DATE</th>\n",
       "      <th>WeekDay</th>\n",
       "      <th>Month</th>\n",
       "      <th>Crime Severity</th>\n",
       "      <th>AGE_GROUP</th>\n",
       "      <th>PERP_SEX</th>\n",
       "      <th>Latitude</th>\n",
       "      <th>Longitude</th>\n",
       "      <th>New Georeferenced Column</th>\n",
       "      <th>ARREST_BORO_Brooklyn</th>\n",
       "      <th>ARREST_BORO_Manhatten</th>\n",
       "      <th>ARREST_BORO_Queens</th>\n",
       "      <th>ARREST_BORO_Staten Island</th>\n",
       "      <th>PERP_RACE_ASIAN / PACIFIC ISLANDER</th>\n",
       "      <th>PERP_RACE_BLACK</th>\n",
       "      <th>PERP_RACE_BLACK HISPANIC</th>\n",
       "      <th>PERP_RACE_WHITE</th>\n",
       "      <th>PERP_RACE_WHITE HISPANIC</th>\n",
       "    </tr>\n",
       "  </thead>\n",
       "  <tbody>\n",
       "    <tr>\n",
       "      <th>7</th>\n",
       "      <td>2019-04-23</td>\n",
       "      <td>1</td>\n",
       "      <td>4</td>\n",
       "      <td>2</td>\n",
       "      <td>2</td>\n",
       "      <td>1</td>\n",
       "      <td>40.674583</td>\n",
       "      <td>-73.930222</td>\n",
       "      <td>POINT (-73.93022154099998 40.67458330800008)</td>\n",
       "      <td>1</td>\n",
       "      <td>0</td>\n",
       "      <td>0</td>\n",
       "      <td>0</td>\n",
       "      <td>0</td>\n",
       "      <td>0</td>\n",
       "      <td>1</td>\n",
       "      <td>0</td>\n",
       "      <td>0</td>\n",
       "    </tr>\n",
       "    <tr>\n",
       "      <th>8</th>\n",
       "      <td>2019-05-04</td>\n",
       "      <td>5</td>\n",
       "      <td>5</td>\n",
       "      <td>2</td>\n",
       "      <td>1</td>\n",
       "      <td>1</td>\n",
       "      <td>40.883383</td>\n",
       "      <td>-73.902333</td>\n",
       "      <td>POINT (-73.90233330899997 40.88338257900006)</td>\n",
       "      <td>0</td>\n",
       "      <td>0</td>\n",
       "      <td>0</td>\n",
       "      <td>0</td>\n",
       "      <td>0</td>\n",
       "      <td>1</td>\n",
       "      <td>0</td>\n",
       "      <td>0</td>\n",
       "      <td>0</td>\n",
       "    </tr>\n",
       "    <tr>\n",
       "      <th>9</th>\n",
       "      <td>2019-05-23</td>\n",
       "      <td>3</td>\n",
       "      <td>5</td>\n",
       "      <td>2</td>\n",
       "      <td>2</td>\n",
       "      <td>0</td>\n",
       "      <td>40.814850</td>\n",
       "      <td>-73.956682</td>\n",
       "      <td>POINT (-73.95668184799996 40.81485028900005)</td>\n",
       "      <td>0</td>\n",
       "      <td>1</td>\n",
       "      <td>0</td>\n",
       "      <td>0</td>\n",
       "      <td>0</td>\n",
       "      <td>1</td>\n",
       "      <td>0</td>\n",
       "      <td>0</td>\n",
       "      <td>0</td>\n",
       "    </tr>\n",
       "    <tr>\n",
       "      <th>13</th>\n",
       "      <td>2019-07-16</td>\n",
       "      <td>1</td>\n",
       "      <td>7</td>\n",
       "      <td>2</td>\n",
       "      <td>2</td>\n",
       "      <td>1</td>\n",
       "      <td>40.675492</td>\n",
       "      <td>-73.800926</td>\n",
       "      <td>POINT (-73.80092613699998 40.67549172900004)</td>\n",
       "      <td>0</td>\n",
       "      <td>0</td>\n",
       "      <td>1</td>\n",
       "      <td>0</td>\n",
       "      <td>0</td>\n",
       "      <td>1</td>\n",
       "      <td>0</td>\n",
       "      <td>0</td>\n",
       "      <td>0</td>\n",
       "    </tr>\n",
       "    <tr>\n",
       "      <th>18</th>\n",
       "      <td>2019-08-14</td>\n",
       "      <td>2</td>\n",
       "      <td>8</td>\n",
       "      <td>2</td>\n",
       "      <td>1</td>\n",
       "      <td>1</td>\n",
       "      <td>40.789348</td>\n",
       "      <td>-73.947352</td>\n",
       "      <td>POINT (-73.94735241299998 40.78934789300007)</td>\n",
       "      <td>0</td>\n",
       "      <td>1</td>\n",
       "      <td>0</td>\n",
       "      <td>0</td>\n",
       "      <td>0</td>\n",
       "      <td>1</td>\n",
       "      <td>0</td>\n",
       "      <td>0</td>\n",
       "      <td>0</td>\n",
       "    </tr>\n",
       "  </tbody>\n",
       "</table>\n",
       "</div>"
      ],
      "text/plain": [
       "   ARREST_DATE  WeekDay  Month  Crime Severity  AGE_GROUP  PERP_SEX  \\\n",
       "7   2019-04-23        1      4               2          2         1   \n",
       "8   2019-05-04        5      5               2          1         1   \n",
       "9   2019-05-23        3      5               2          2         0   \n",
       "13  2019-07-16        1      7               2          2         1   \n",
       "18  2019-08-14        2      8               2          1         1   \n",
       "\n",
       "     Latitude  Longitude                      New Georeferenced Column  \\\n",
       "7   40.674583 -73.930222  POINT (-73.93022154099998 40.67458330800008)   \n",
       "8   40.883383 -73.902333  POINT (-73.90233330899997 40.88338257900006)   \n",
       "9   40.814850 -73.956682  POINT (-73.95668184799996 40.81485028900005)   \n",
       "13  40.675492 -73.800926  POINT (-73.80092613699998 40.67549172900004)   \n",
       "18  40.789348 -73.947352  POINT (-73.94735241299998 40.78934789300007)   \n",
       "\n",
       "    ARREST_BORO_Brooklyn  ARREST_BORO_Manhatten  ARREST_BORO_Queens  \\\n",
       "7                      1                      0                   0   \n",
       "8                      0                      0                   0   \n",
       "9                      0                      1                   0   \n",
       "13                     0                      0                   1   \n",
       "18                     0                      1                   0   \n",
       "\n",
       "    ARREST_BORO_Staten Island  PERP_RACE_ASIAN / PACIFIC ISLANDER  \\\n",
       "7                           0                                   0   \n",
       "8                           0                                   0   \n",
       "9                           0                                   0   \n",
       "13                          0                                   0   \n",
       "18                          0                                   0   \n",
       "\n",
       "    PERP_RACE_BLACK  PERP_RACE_BLACK HISPANIC  PERP_RACE_WHITE  \\\n",
       "7                 0                         1                0   \n",
       "8                 1                         0                0   \n",
       "9                 1                         0                0   \n",
       "13                1                         0                0   \n",
       "18                1                         0                0   \n",
       "\n",
       "    PERP_RACE_WHITE HISPANIC  \n",
       "7                          0  \n",
       "8                          0  \n",
       "9                          0  \n",
       "13                         0  \n",
       "18                         0  "
      ]
     },
     "execution_count": 47,
     "metadata": {},
     "output_type": "execute_result"
    }
   ],
   "source": [
    "#Change arrest data order to month/day/year\n",
    "crime_db['ARREST_DATE'] = crime_db['ARREST_DATE'].dt.strftime('%m/%d/%Y')\n",
    "\n",
    "#The above turned it into an onject, turn back to datetime object\n",
    "crime_db['ARREST_DATE'] = pd.to_datetime(crime_db['ARREST_DATE'])\n",
    "\n",
    "#Use ARREST DATE to create 2 DFs and merge for correct periods\n",
    "pre_covid_db = crime_db.loc[(crime_db['ARREST_DATE'] >= '03/01/2019') & (crime_db['ARREST_DATE'] <= '02/29/2020')]\n",
    "covid_db = crime_db.loc[(crime_db['ARREST_DATE'] >= '03/01/2020') & (crime_db['ARREST_DATE'] <= '02/28/2021')]\n",
    "\n",
    "#Merge\n",
    "new_crime_db = pd.concat([pre_covid_db, covid_db], axis = 0)\n",
    "\n",
    "#check shape and view\n",
    "print(\"Shape of new_crime:\", new_crime_db.shape)\n",
    "print(\"Shape of covid:\", covid_db.shape)\n",
    "print(\"Shape of pre_covid\",pre_covid_db.shape)\n",
    "\n",
    "new_crime_db.head()"
   ]
  },
  {
   "cell_type": "code",
   "execution_count": 48,
   "metadata": {},
   "outputs": [],
   "source": [
    "#chronilogical order for arrest date\n",
    "new_crime_db = new_crime_db.sort_values('ARREST_DATE').reset_index(drop=True)\n",
    "covid_db = covid_db.sort_values('ARREST_DATE').reset_index(drop=True)\n",
    "pre_covid_db = pre_covid_db.sort_values('ARREST_DATE').reset_index(drop=True)\n",
    "\n",
    "#Save new crime dataframe to csv file in Data folder\n",
    "new_crime_db.to_csv('Data/Crime_data/crime_master.csv', index = False)\n",
    "\n",
    "#Save covid and pre_covid as their own csv files\n",
    "covid_db.to_csv('Data/Crime_data/covid_crime.csv', index = False)\n",
    "pre_covid_db.to_csv('Data/Crime_data/pre_covid_crime.csv', index = False)"
   ]
  },
  {
   "cell_type": "markdown",
   "metadata": {},
   "source": [
    "#### Dataframe with only ordinals"
   ]
  },
  {
   "cell_type": "code",
   "execution_count": 42,
   "metadata": {
    "scrolled": true
   },
   "outputs": [
    {
     "data": {
      "text/html": [
       "<div>\n",
       "<style scoped>\n",
       "    .dataframe tbody tr th:only-of-type {\n",
       "        vertical-align: middle;\n",
       "    }\n",
       "\n",
       "    .dataframe tbody tr th {\n",
       "        vertical-align: top;\n",
       "    }\n",
       "\n",
       "    .dataframe thead th {\n",
       "        text-align: right;\n",
       "    }\n",
       "</style>\n",
       "<table border=\"1\" class=\"dataframe\">\n",
       "  <thead>\n",
       "    <tr style=\"text-align: right;\">\n",
       "      <th></th>\n",
       "      <th>ARREST_DATE</th>\n",
       "      <th>Week</th>\n",
       "      <th>Year</th>\n",
       "      <th>Crime Severity</th>\n",
       "      <th>ARREST_BORO</th>\n",
       "      <th>ARREST_PRECINCT</th>\n",
       "      <th>AGE_GROUP</th>\n",
       "      <th>PERP_SEX</th>\n",
       "      <th>PERP_RACE</th>\n",
       "      <th>Latitude</th>\n",
       "      <th>Longitude</th>\n",
       "      <th>New Georeferenced Column</th>\n",
       "    </tr>\n",
       "  </thead>\n",
       "  <tbody>\n",
       "    <tr>\n",
       "      <th>0</th>\n",
       "      <td>2021-12-18</td>\n",
       "      <td>50</td>\n",
       "      <td>2021</td>\n",
       "      <td>2</td>\n",
       "      <td>3</td>\n",
       "      <td>105</td>\n",
       "      <td>0</td>\n",
       "      <td>1</td>\n",
       "      <td>2</td>\n",
       "      <td>40.726187</td>\n",
       "      <td>-73.735234</td>\n",
       "      <td>POINT (-73.73523390399998 40.72618713000002)</td>\n",
       "    </tr>\n",
       "    <tr>\n",
       "      <th>2</th>\n",
       "      <td>2021-10-14</td>\n",
       "      <td>41</td>\n",
       "      <td>2021</td>\n",
       "      <td>2</td>\n",
       "      <td>1</td>\n",
       "      <td>61</td>\n",
       "      <td>1</td>\n",
       "      <td>1</td>\n",
       "      <td>4</td>\n",
       "      <td>40.594145</td>\n",
       "      <td>-73.960415</td>\n",
       "      <td>POINT (-73.96041495199995 40.59414516900005)</td>\n",
       "    </tr>\n",
       "    <tr>\n",
       "      <th>5</th>\n",
       "      <td>2021-09-27</td>\n",
       "      <td>39</td>\n",
       "      <td>2021</td>\n",
       "      <td>2</td>\n",
       "      <td>1</td>\n",
       "      <td>84</td>\n",
       "      <td>1</td>\n",
       "      <td>1</td>\n",
       "      <td>2</td>\n",
       "      <td>40.695469</td>\n",
       "      <td>-73.982825</td>\n",
       "      <td>POINT (-73.98282507899995 40.69546894100006)</td>\n",
       "    </tr>\n",
       "    <tr>\n",
       "      <th>7</th>\n",
       "      <td>2021-09-18</td>\n",
       "      <td>37</td>\n",
       "      <td>2021</td>\n",
       "      <td>2</td>\n",
       "      <td>0</td>\n",
       "      <td>41</td>\n",
       "      <td>1</td>\n",
       "      <td>1</td>\n",
       "      <td>5</td>\n",
       "      <td>40.816392</td>\n",
       "      <td>-73.895296</td>\n",
       "      <td>POINT (-73.89529641399997 40.816391847000034)</td>\n",
       "    </tr>\n",
       "    <tr>\n",
       "      <th>8</th>\n",
       "      <td>2021-09-17</td>\n",
       "      <td>37</td>\n",
       "      <td>2021</td>\n",
       "      <td>2</td>\n",
       "      <td>3</td>\n",
       "      <td>105</td>\n",
       "      <td>1</td>\n",
       "      <td>1</td>\n",
       "      <td>2</td>\n",
       "      <td>40.726187</td>\n",
       "      <td>-73.735234</td>\n",
       "      <td>POINT (-73.73523390399998 40.72618713000002)</td>\n",
       "    </tr>\n",
       "  </tbody>\n",
       "</table>\n",
       "</div>"
      ],
      "text/plain": [
       "  ARREST_DATE  Week  Year  Crime Severity  ARREST_BORO  ARREST_PRECINCT  \\\n",
       "0  2021-12-18    50  2021               2            3              105   \n",
       "2  2021-10-14    41  2021               2            1               61   \n",
       "5  2021-09-27    39  2021               2            1               84   \n",
       "7  2021-09-18    37  2021               2            0               41   \n",
       "8  2021-09-17    37  2021               2            3              105   \n",
       "\n",
       "   AGE_GROUP  PERP_SEX  PERP_RACE   Latitude  Longitude  \\\n",
       "0          0         1          2  40.726187 -73.735234   \n",
       "2          1         1          4  40.594145 -73.960415   \n",
       "5          1         1          2  40.695469 -73.982825   \n",
       "7          1         1          5  40.816392 -73.895296   \n",
       "8          1         1          2  40.726187 -73.735234   \n",
       "\n",
       "                        New Georeferenced Column  \n",
       "0   POINT (-73.73523390399998 40.72618713000002)  \n",
       "2   POINT (-73.96041495199995 40.59414516900005)  \n",
       "5   POINT (-73.98282507899995 40.69546894100006)  \n",
       "7  POINT (-73.89529641399997 40.816391847000034)  \n",
       "8   POINT (-73.73523390399998 40.72618713000002)  "
      ]
     },
     "execution_count": 42,
     "metadata": {},
     "output_type": "execute_result"
    }
   ],
   "source": [
    "#First deepcopy and start prepping for dummy and ordinal variables\n",
    "crime_2 = copy.deepcopy(crime)\n",
    "\n",
    "#Drop Weekday, month, week, year, precinct and crime type\n",
    "crime_2 = crime_2.drop(['WeekDay', 'Month', 'Crime Type'], axis=1)\n",
    "\n",
    "\n",
    "#First change crime severity and age group into ordinals\n",
    "crime_2 = crime_2.replace({\"Crime Severity\" : {\"Minor\" : 0, \"Mild\" : 1, \"Severe\": 2},\n",
    "                             \"AGE_GROUP\" : {\"18-24\" : 0, \"25-44\" : 1, \"45-64\":2}, #youngest, middle, oldest ranking\n",
    "                            \"ARREST_BORO\" : {\"Bronx\":0, \"Brooklyn\":1, \"Manhatten\":2, \"Queens\":3, \"Staten Island\":4},\n",
    "                            \"PERP_SEX\" : {\"F\":0, \"M\":1},\n",
    "                            \"PERP_RACE\" : {\"AMERICAN INDIAN/ALASKAN NATIVE\":0, \"ASIAN / PACIFIC ISLANDER\":1,\n",
    "                                          \"BLACK\":2, \"BLACK HISPANIC\":3, \"WHITE\":4, \"WHITE HISPANIC\":5}\n",
    "                          })\n",
    "#See new table\n",
    "crime_2.head()"
   ]
  },
  {
   "cell_type": "code",
   "execution_count": 43,
   "metadata": {},
   "outputs": [
    {
     "name": "stdout",
     "output_type": "stream",
     "text": [
      "Shape of new_crime: (312181, 12)\n",
      "Shape of covid: (122873, 12)\n",
      "Shape of pre_covid (189308, 12)\n"
     ]
    },
    {
     "data": {
      "text/html": [
       "<div>\n",
       "<style scoped>\n",
       "    .dataframe tbody tr th:only-of-type {\n",
       "        vertical-align: middle;\n",
       "    }\n",
       "\n",
       "    .dataframe tbody tr th {\n",
       "        vertical-align: top;\n",
       "    }\n",
       "\n",
       "    .dataframe thead th {\n",
       "        text-align: right;\n",
       "    }\n",
       "</style>\n",
       "<table border=\"1\" class=\"dataframe\">\n",
       "  <thead>\n",
       "    <tr style=\"text-align: right;\">\n",
       "      <th></th>\n",
       "      <th>ARREST_DATE</th>\n",
       "      <th>Week</th>\n",
       "      <th>Year</th>\n",
       "      <th>Crime Severity</th>\n",
       "      <th>ARREST_BORO</th>\n",
       "      <th>ARREST_PRECINCT</th>\n",
       "      <th>AGE_GROUP</th>\n",
       "      <th>PERP_SEX</th>\n",
       "      <th>PERP_RACE</th>\n",
       "      <th>Latitude</th>\n",
       "      <th>Longitude</th>\n",
       "      <th>New Georeferenced Column</th>\n",
       "    </tr>\n",
       "  </thead>\n",
       "  <tbody>\n",
       "    <tr>\n",
       "      <th>7</th>\n",
       "      <td>2019-04-23</td>\n",
       "      <td>17</td>\n",
       "      <td>2019</td>\n",
       "      <td>2</td>\n",
       "      <td>1</td>\n",
       "      <td>77</td>\n",
       "      <td>2</td>\n",
       "      <td>1</td>\n",
       "      <td>3</td>\n",
       "      <td>40.674583</td>\n",
       "      <td>-73.930222</td>\n",
       "      <td>POINT (-73.93022154099998 40.67458330800008)</td>\n",
       "    </tr>\n",
       "    <tr>\n",
       "      <th>8</th>\n",
       "      <td>2019-05-04</td>\n",
       "      <td>18</td>\n",
       "      <td>2019</td>\n",
       "      <td>2</td>\n",
       "      <td>0</td>\n",
       "      <td>50</td>\n",
       "      <td>1</td>\n",
       "      <td>1</td>\n",
       "      <td>2</td>\n",
       "      <td>40.883383</td>\n",
       "      <td>-73.902333</td>\n",
       "      <td>POINT (-73.90233330899997 40.88338257900006)</td>\n",
       "    </tr>\n",
       "    <tr>\n",
       "      <th>9</th>\n",
       "      <td>2019-05-23</td>\n",
       "      <td>21</td>\n",
       "      <td>2019</td>\n",
       "      <td>2</td>\n",
       "      <td>2</td>\n",
       "      <td>26</td>\n",
       "      <td>2</td>\n",
       "      <td>0</td>\n",
       "      <td>2</td>\n",
       "      <td>40.814850</td>\n",
       "      <td>-73.956682</td>\n",
       "      <td>POINT (-73.95668184799996 40.81485028900005)</td>\n",
       "    </tr>\n",
       "    <tr>\n",
       "      <th>13</th>\n",
       "      <td>2019-07-16</td>\n",
       "      <td>29</td>\n",
       "      <td>2019</td>\n",
       "      <td>2</td>\n",
       "      <td>3</td>\n",
       "      <td>113</td>\n",
       "      <td>2</td>\n",
       "      <td>1</td>\n",
       "      <td>2</td>\n",
       "      <td>40.675492</td>\n",
       "      <td>-73.800926</td>\n",
       "      <td>POINT (-73.80092613699998 40.67549172900004)</td>\n",
       "    </tr>\n",
       "    <tr>\n",
       "      <th>18</th>\n",
       "      <td>2019-08-14</td>\n",
       "      <td>33</td>\n",
       "      <td>2019</td>\n",
       "      <td>2</td>\n",
       "      <td>2</td>\n",
       "      <td>23</td>\n",
       "      <td>1</td>\n",
       "      <td>1</td>\n",
       "      <td>2</td>\n",
       "      <td>40.789348</td>\n",
       "      <td>-73.947352</td>\n",
       "      <td>POINT (-73.94735241299998 40.78934789300007)</td>\n",
       "    </tr>\n",
       "  </tbody>\n",
       "</table>\n",
       "</div>"
      ],
      "text/plain": [
       "   ARREST_DATE  Week  Year  Crime Severity  ARREST_BORO  ARREST_PRECINCT  \\\n",
       "7   2019-04-23    17  2019               2            1               77   \n",
       "8   2019-05-04    18  2019               2            0               50   \n",
       "9   2019-05-23    21  2019               2            2               26   \n",
       "13  2019-07-16    29  2019               2            3              113   \n",
       "18  2019-08-14    33  2019               2            2               23   \n",
       "\n",
       "    AGE_GROUP  PERP_SEX  PERP_RACE   Latitude  Longitude  \\\n",
       "7           2         1          3  40.674583 -73.930222   \n",
       "8           1         1          2  40.883383 -73.902333   \n",
       "9           2         0          2  40.814850 -73.956682   \n",
       "13          2         1          2  40.675492 -73.800926   \n",
       "18          1         1          2  40.789348 -73.947352   \n",
       "\n",
       "                        New Georeferenced Column  \n",
       "7   POINT (-73.93022154099998 40.67458330800008)  \n",
       "8   POINT (-73.90233330899997 40.88338257900006)  \n",
       "9   POINT (-73.95668184799996 40.81485028900005)  \n",
       "13  POINT (-73.80092613699998 40.67549172900004)  \n",
       "18  POINT (-73.94735241299998 40.78934789300007)  "
      ]
     },
     "execution_count": 43,
     "metadata": {},
     "output_type": "execute_result"
    }
   ],
   "source": [
    "#Change arrest data order to month/day/year\n",
    "crime_2['ARREST_DATE'] = crime_2['ARREST_DATE'].dt.strftime('%m/%d/%Y')\n",
    "\n",
    "#The above turned it into an onject, turn back to datetime object\n",
    "crime_2['ARREST_DATE'] = pd.to_datetime(crime_2['ARREST_DATE'])\n",
    "\n",
    "#Use ARREST DATE to create 2 DFs and merge for correct periods\n",
    "pre_covid_2 = crime_2.loc[(crime_2['ARREST_DATE'] >= '03/01/2019') & (crime_2['ARREST_DATE'] <= '02/29/2020')]\n",
    "covid_2 = crime_2.loc[(crime_2['ARREST_DATE'] >= '03/01/2020') & (crime_2['ARREST_DATE'] <= '02/28/2021')]\n",
    "\n",
    "#Merge\n",
    "new_crime_2 = pd.concat([pre_covid_2, covid_2], axis = 0)\n",
    "\n",
    "#check shape and view\n",
    "print(\"Shape of new_crime:\", new_crime_2.shape)\n",
    "print(\"Shape of covid:\", covid_2.shape)\n",
    "print(\"Shape of pre_covid\",pre_covid_2.shape)\n",
    "\n",
    "new_crime_2.head()"
   ]
  },
  {
   "cell_type": "code",
   "execution_count": 44,
   "metadata": {},
   "outputs": [],
   "source": [
    "#chronilogical order for arrest date\n",
    "new_crime_2 = new_crime_2.sort_values('ARREST_DATE').reset_index(drop=True)\n",
    "covid_2 = covid_2.sort_values('ARREST_DATE').reset_index(drop=True)\n",
    "pre_covid_2 = pre_covid_2.sort_values('ARREST_DATE').reset_index(drop=True)\n",
    "\n",
    "#Save new crime dataframe to csv file in Data folder\n",
    "new_crime_2.to_csv('Data/Crime_data/Other/crime_master_2.csv', index=False)\n",
    "\n",
    "#Save covid and pre_covid as their own csv files\n",
    "covid_2.to_csv('Data/Crime_data/Other/c_crime_2.csv', index=False)\n",
    "pre_covid_2.to_csv('Data/Crime_data/Other/pre_c_crime_2.csv', index=False)"
   ]
  },
  {
   "cell_type": "markdown",
   "metadata": {},
   "source": [
    "### Trying some mapping"
   ]
  },
  {
   "cell_type": "code",
   "execution_count": null,
   "metadata": {},
   "outputs": [],
   "source": [
    "import geopandas as gpd\n",
    "import matplotlib.pyplot as plt\n",
    "import pandas as pd\n",
    "import plotly.express as px"
   ]
  },
  {
   "cell_type": "code",
   "execution_count": null,
   "metadata": {},
   "outputs": [],
   "source": [
    "year_2019 = crime.loc[(crime['ARREST_DATE'] <= '2020-02-28') & (crime['ARREST_DATE'] >= '2020-01-01')]\n",
    "print(year_2019.shape)\n",
    "\n",
    "#change the  geo column to geo series\n",
    "year_2019['geometry'] = gpd.GeoSeries.from_wkt(year_2019['New Georeferenced Column'])\n",
    "test = gpd.GeoDataFrame(year_2019, geometry='geometry')"
   ]
  },
  {
   "cell_type": "code",
   "execution_count": null,
   "metadata": {},
   "outputs": [],
   "source": [
    "# create figure and axes\n",
    "fig, ax = plt.subplots(figsize = (15,12))\n",
    "\n",
    "\n",
    "# create map from world_filtered data-frame\n",
    "test.plot(column = \"Crime Type\", categorical = True, ax =ax, legend = True)\n",
    "\n",
    "\n",
    "plt.show()"
   ]
  },
  {
   "cell_type": "code",
   "execution_count": null,
   "metadata": {},
   "outputs": [],
   "source": []
  }
 ],
 "metadata": {
  "kernelspec": {
   "display_name": "LHLBootcamp",
   "language": "python",
   "name": "lhlbootcamp"
  },
  "language_info": {
   "codemirror_mode": {
    "name": "ipython",
    "version": 3
   },
   "file_extension": ".py",
   "mimetype": "text/x-python",
   "name": "python",
   "nbconvert_exporter": "python",
   "pygments_lexer": "ipython3",
   "version": "3.6.10"
  }
 },
 "nbformat": 4,
 "nbformat_minor": 4
}
