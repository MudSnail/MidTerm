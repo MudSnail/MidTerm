{
 "cells": [
  {
   "cell_type": "code",
   "execution_count": 3,
   "id": "f5a72b99-21df-4b32-b421-d7254d1f2020",
   "metadata": {},
   "outputs": [
    {
     "name": "stderr",
     "output_type": "stream",
     "text": [
      "/opt/anaconda3/envs/bootcampEnv/lib/python3.9/site-packages/statsmodels/compat/pandas.py:65: FutureWarning: pandas.Int64Index is deprecated and will be removed from pandas in a future version. Use pandas.Index with the appropriate dtype instead.\n",
      "  from pandas import Int64Index as NumericIndex\n"
     ]
    }
   ],
   "source": [
    "#import libraries\n",
    "import pandas as pd\n",
    "import numpy as np\n",
    "import datetime\n",
    "\n",
    "from sklearn.preprocessing import StandardScaler\n",
    "\n",
    "from scipy import stats\n",
    "from scipy.stats import f_oneway\n",
    "import statsmodels.api as sm\n",
    "from statsmodels.formula.api import ols\n",
    "\n",
    "import seaborn as sns\n",
    "import matplotlib.pyplot as plt\n",
    "\n",
    "import copy \n",
    "\n",
    "import warnings\n",
    "warnings.filterwarnings('ignore')"
   ]
  },
  {
   "cell_type": "markdown",
   "id": "8940856f-feeb-4ce8-b7b8-52483d71b1d5",
   "metadata": {},
   "source": [
    "##### I will use the ordinal dataframe to make a heat map just to get an idea of potential EDA  ##TODO.... check if this is the case"
   ]
  },
  {
   "cell_type": "code",
   "execution_count": 4,
   "id": "06786ece-6272-46f0-9c4e-72e4cac26071",
   "metadata": {},
   "outputs": [
    {
     "data": {
      "text/html": [
       "<div>\n",
       "<style scoped>\n",
       "    .dataframe tbody tr th:only-of-type {\n",
       "        vertical-align: middle;\n",
       "    }\n",
       "\n",
       "    .dataframe tbody tr th {\n",
       "        vertical-align: top;\n",
       "    }\n",
       "\n",
       "    .dataframe thead th {\n",
       "        text-align: right;\n",
       "    }\n",
       "</style>\n",
       "<table border=\"1\" class=\"dataframe\">\n",
       "  <thead>\n",
       "    <tr style=\"text-align: right;\">\n",
       "      <th></th>\n",
       "      <th>ARREST_DATE</th>\n",
       "      <th>Crime Severity</th>\n",
       "      <th>ARREST_BORO</th>\n",
       "      <th>ARREST_PRECINCT</th>\n",
       "      <th>AGE_GROUP</th>\n",
       "      <th>PERP_SEX</th>\n",
       "      <th>PERP_RACE</th>\n",
       "      <th>Latitude</th>\n",
       "      <th>Longitude</th>\n",
       "    </tr>\n",
       "  </thead>\n",
       "  <tbody>\n",
       "    <tr>\n",
       "      <th>0</th>\n",
       "      <td>2020-03-01</td>\n",
       "      <td>2</td>\n",
       "      <td>1</td>\n",
       "      <td>70</td>\n",
       "      <td>0</td>\n",
       "      <td>1</td>\n",
       "      <td>2</td>\n",
       "      <td>40.647951</td>\n",
       "      <td>-73.960606</td>\n",
       "    </tr>\n",
       "    <tr>\n",
       "      <th>1</th>\n",
       "      <td>2020-03-01</td>\n",
       "      <td>0</td>\n",
       "      <td>4</td>\n",
       "      <td>120</td>\n",
       "      <td>2</td>\n",
       "      <td>1</td>\n",
       "      <td>5</td>\n",
       "      <td>40.645023</td>\n",
       "      <td>-74.077217</td>\n",
       "    </tr>\n",
       "    <tr>\n",
       "      <th>2</th>\n",
       "      <td>2020-03-01</td>\n",
       "      <td>2</td>\n",
       "      <td>0</td>\n",
       "      <td>42</td>\n",
       "      <td>1</td>\n",
       "      <td>1</td>\n",
       "      <td>2</td>\n",
       "      <td>40.829510</td>\n",
       "      <td>-73.888056</td>\n",
       "    </tr>\n",
       "    <tr>\n",
       "      <th>3</th>\n",
       "      <td>2020-03-01</td>\n",
       "      <td>2</td>\n",
       "      <td>1</td>\n",
       "      <td>73</td>\n",
       "      <td>2</td>\n",
       "      <td>0</td>\n",
       "      <td>2</td>\n",
       "      <td>40.672574</td>\n",
       "      <td>-73.910176</td>\n",
       "    </tr>\n",
       "    <tr>\n",
       "      <th>4</th>\n",
       "      <td>2020-03-01</td>\n",
       "      <td>0</td>\n",
       "      <td>3</td>\n",
       "      <td>113</td>\n",
       "      <td>1</td>\n",
       "      <td>1</td>\n",
       "      <td>2</td>\n",
       "      <td>40.677514</td>\n",
       "      <td>-73.789838</td>\n",
       "    </tr>\n",
       "  </tbody>\n",
       "</table>\n",
       "</div>"
      ],
      "text/plain": [
       "  ARREST_DATE  Crime Severity  ARREST_BORO  ARREST_PRECINCT  AGE_GROUP  \\\n",
       "0  2020-03-01               2            1               70          0   \n",
       "1  2020-03-01               0            4              120          2   \n",
       "2  2020-03-01               2            0               42          1   \n",
       "3  2020-03-01               2            1               73          2   \n",
       "4  2020-03-01               0            3              113          1   \n",
       "\n",
       "   PERP_SEX  PERP_RACE   Latitude  Longitude  \n",
       "0         1          2  40.647951 -73.960606  \n",
       "1         1          5  40.645023 -74.077217  \n",
       "2         1          2  40.829510 -73.888056  \n",
       "3         0          2  40.672574 -73.910176  \n",
       "4         1          2  40.677514 -73.789838  "
      ]
     },
     "execution_count": 4,
     "metadata": {},
     "output_type": "execute_result"
    }
   ],
   "source": [
    "#oridinal dataframe\n",
    "df = pd.read_csv('Data/Crime_data/Other/c_crime_2.csv')\n",
    "df = df.drop('New Georeferenced Column', axis = 1)\n",
    "df.head()"
   ]
  },
  {
   "cell_type": "code",
   "execution_count": 5,
   "id": "da02d5d1-7f66-4d65-9da0-07079f21f0b5",
   "metadata": {},
   "outputs": [
    {
     "data": {
      "text/html": [
       "<div>\n",
       "<style scoped>\n",
       "    .dataframe tbody tr th:only-of-type {\n",
       "        vertical-align: middle;\n",
       "    }\n",
       "\n",
       "    .dataframe tbody tr th {\n",
       "        vertical-align: top;\n",
       "    }\n",
       "\n",
       "    .dataframe thead th {\n",
       "        text-align: right;\n",
       "    }\n",
       "</style>\n",
       "<table border=\"1\" class=\"dataframe\">\n",
       "  <thead>\n",
       "    <tr style=\"text-align: right;\">\n",
       "      <th></th>\n",
       "      <th>ARREST_DATE</th>\n",
       "      <th>Crime Severity</th>\n",
       "      <th>ARREST_BORO</th>\n",
       "      <th>ARREST_PRECINCT</th>\n",
       "      <th>AGE_GROUP</th>\n",
       "      <th>PERP_SEX</th>\n",
       "      <th>PERP_RACE</th>\n",
       "      <th>Latitude</th>\n",
       "      <th>Longitude</th>\n",
       "      <th>COVID_WAVE</th>\n",
       "    </tr>\n",
       "  </thead>\n",
       "  <tbody>\n",
       "    <tr>\n",
       "      <th>0</th>\n",
       "      <td>2020-03-01</td>\n",
       "      <td>2</td>\n",
       "      <td>1</td>\n",
       "      <td>70</td>\n",
       "      <td>0</td>\n",
       "      <td>1</td>\n",
       "      <td>2</td>\n",
       "      <td>40.647951</td>\n",
       "      <td>-73.960606</td>\n",
       "      <td>0</td>\n",
       "    </tr>\n",
       "    <tr>\n",
       "      <th>1</th>\n",
       "      <td>2020-03-01</td>\n",
       "      <td>0</td>\n",
       "      <td>4</td>\n",
       "      <td>120</td>\n",
       "      <td>2</td>\n",
       "      <td>1</td>\n",
       "      <td>5</td>\n",
       "      <td>40.645023</td>\n",
       "      <td>-74.077217</td>\n",
       "      <td>0</td>\n",
       "    </tr>\n",
       "    <tr>\n",
       "      <th>2</th>\n",
       "      <td>2020-03-01</td>\n",
       "      <td>2</td>\n",
       "      <td>0</td>\n",
       "      <td>42</td>\n",
       "      <td>1</td>\n",
       "      <td>1</td>\n",
       "      <td>2</td>\n",
       "      <td>40.829510</td>\n",
       "      <td>-73.888056</td>\n",
       "      <td>0</td>\n",
       "    </tr>\n",
       "    <tr>\n",
       "      <th>3</th>\n",
       "      <td>2020-03-01</td>\n",
       "      <td>2</td>\n",
       "      <td>1</td>\n",
       "      <td>73</td>\n",
       "      <td>2</td>\n",
       "      <td>0</td>\n",
       "      <td>2</td>\n",
       "      <td>40.672574</td>\n",
       "      <td>-73.910176</td>\n",
       "      <td>0</td>\n",
       "    </tr>\n",
       "    <tr>\n",
       "      <th>4</th>\n",
       "      <td>2020-03-01</td>\n",
       "      <td>0</td>\n",
       "      <td>3</td>\n",
       "      <td>113</td>\n",
       "      <td>1</td>\n",
       "      <td>1</td>\n",
       "      <td>2</td>\n",
       "      <td>40.677514</td>\n",
       "      <td>-73.789838</td>\n",
       "      <td>0</td>\n",
       "    </tr>\n",
       "    <tr>\n",
       "      <th>...</th>\n",
       "      <td>...</td>\n",
       "      <td>...</td>\n",
       "      <td>...</td>\n",
       "      <td>...</td>\n",
       "      <td>...</td>\n",
       "      <td>...</td>\n",
       "      <td>...</td>\n",
       "      <td>...</td>\n",
       "      <td>...</td>\n",
       "      <td>...</td>\n",
       "    </tr>\n",
       "    <tr>\n",
       "      <th>122868</th>\n",
       "      <td>2021-02-28</td>\n",
       "      <td>2</td>\n",
       "      <td>2</td>\n",
       "      <td>13</td>\n",
       "      <td>2</td>\n",
       "      <td>1</td>\n",
       "      <td>1</td>\n",
       "      <td>40.736698</td>\n",
       "      <td>-73.983316</td>\n",
       "      <td>1</td>\n",
       "    </tr>\n",
       "    <tr>\n",
       "      <th>122869</th>\n",
       "      <td>2021-02-28</td>\n",
       "      <td>1</td>\n",
       "      <td>0</td>\n",
       "      <td>44</td>\n",
       "      <td>0</td>\n",
       "      <td>1</td>\n",
       "      <td>2</td>\n",
       "      <td>40.836950</td>\n",
       "      <td>-73.927117</td>\n",
       "      <td>1</td>\n",
       "    </tr>\n",
       "    <tr>\n",
       "      <th>122870</th>\n",
       "      <td>2021-02-28</td>\n",
       "      <td>0</td>\n",
       "      <td>2</td>\n",
       "      <td>14</td>\n",
       "      <td>1</td>\n",
       "      <td>1</td>\n",
       "      <td>2</td>\n",
       "      <td>40.753875</td>\n",
       "      <td>-73.984820</td>\n",
       "      <td>1</td>\n",
       "    </tr>\n",
       "    <tr>\n",
       "      <th>122871</th>\n",
       "      <td>2021-02-28</td>\n",
       "      <td>2</td>\n",
       "      <td>0</td>\n",
       "      <td>43</td>\n",
       "      <td>1</td>\n",
       "      <td>1</td>\n",
       "      <td>3</td>\n",
       "      <td>40.823387</td>\n",
       "      <td>-73.870170</td>\n",
       "      <td>1</td>\n",
       "    </tr>\n",
       "    <tr>\n",
       "      <th>122872</th>\n",
       "      <td>2021-02-28</td>\n",
       "      <td>0</td>\n",
       "      <td>2</td>\n",
       "      <td>7</td>\n",
       "      <td>1</td>\n",
       "      <td>1</td>\n",
       "      <td>5</td>\n",
       "      <td>40.715671</td>\n",
       "      <td>-73.983942</td>\n",
       "      <td>1</td>\n",
       "    </tr>\n",
       "  </tbody>\n",
       "</table>\n",
       "<p>122873 rows × 10 columns</p>\n",
       "</div>"
      ],
      "text/plain": [
       "       ARREST_DATE  Crime Severity  ARREST_BORO  ARREST_PRECINCT  AGE_GROUP  \\\n",
       "0       2020-03-01               2            1               70          0   \n",
       "1       2020-03-01               0            4              120          2   \n",
       "2       2020-03-01               2            0               42          1   \n",
       "3       2020-03-01               2            1               73          2   \n",
       "4       2020-03-01               0            3              113          1   \n",
       "...            ...             ...          ...              ...        ...   \n",
       "122868  2021-02-28               2            2               13          2   \n",
       "122869  2021-02-28               1            0               44          0   \n",
       "122870  2021-02-28               0            2               14          1   \n",
       "122871  2021-02-28               2            0               43          1   \n",
       "122872  2021-02-28               0            2                7          1   \n",
       "\n",
       "        PERP_SEX  PERP_RACE   Latitude  Longitude  COVID_WAVE  \n",
       "0              1          2  40.647951 -73.960606           0  \n",
       "1              1          5  40.645023 -74.077217           0  \n",
       "2              1          2  40.829510 -73.888056           0  \n",
       "3              0          2  40.672574 -73.910176           0  \n",
       "4              1          2  40.677514 -73.789838           0  \n",
       "...          ...        ...        ...        ...         ...  \n",
       "122868         1          1  40.736698 -73.983316           1  \n",
       "122869         1          2  40.836950 -73.927117           1  \n",
       "122870         1          2  40.753875 -73.984820           1  \n",
       "122871         1          3  40.823387 -73.870170           1  \n",
       "122872         1          5  40.715671 -73.983942           1  \n",
       "\n",
       "[122873 rows x 10 columns]"
      ]
     },
     "execution_count": 5,
     "metadata": {},
     "output_type": "execute_result"
    }
   ],
   "source": [
    "#adding covid_wave column to the dataframe\n",
    "df_covid_wave = pd.read_csv('Data/Covid_data/covid_wave.csv')\n",
    "df['COVID_WAVE'] = df_covid_wave['COVID_WAVE']\n",
    "df"
   ]
  },
  {
   "cell_type": "code",
   "execution_count": null,
   "id": "cc659382-c5d1-4cc6-a802-a3015fc24e51",
   "metadata": {},
   "outputs": [],
   "source": []
  },
  {
   "cell_type": "code",
   "execution_count": 6,
   "id": "3f299ddd-1a83-41ca-8c31-3134b3f5be92",
   "metadata": {},
   "outputs": [
    {
     "data": {
      "text/html": [
       "<div>\n",
       "<style scoped>\n",
       "    .dataframe tbody tr th:only-of-type {\n",
       "        vertical-align: middle;\n",
       "    }\n",
       "\n",
       "    .dataframe tbody tr th {\n",
       "        vertical-align: top;\n",
       "    }\n",
       "\n",
       "    .dataframe thead th {\n",
       "        text-align: right;\n",
       "    }\n",
       "</style>\n",
       "<table border=\"1\" class=\"dataframe\">\n",
       "  <thead>\n",
       "    <tr style=\"text-align: right;\">\n",
       "      <th></th>\n",
       "      <th>ARREST_DATE</th>\n",
       "      <th>Crime Severity</th>\n",
       "      <th>ARREST_BORO</th>\n",
       "      <th>AGE_GROUP</th>\n",
       "      <th>PERP_SEX</th>\n",
       "      <th>PERP_RACE</th>\n",
       "      <th>Latitude</th>\n",
       "      <th>Longitude</th>\n",
       "      <th>New Georeferenced Column</th>\n",
       "    </tr>\n",
       "  </thead>\n",
       "  <tbody>\n",
       "    <tr>\n",
       "      <th>0</th>\n",
       "      <td>2020-03-01</td>\n",
       "      <td>Severe</td>\n",
       "      <td>Brooklyn</td>\n",
       "      <td>18-24</td>\n",
       "      <td>M</td>\n",
       "      <td>BLACK</td>\n",
       "      <td>40.647951</td>\n",
       "      <td>-73.960606</td>\n",
       "      <td>POINT (-73.96060645599994 40.64795139700004)</td>\n",
       "    </tr>\n",
       "    <tr>\n",
       "      <th>1</th>\n",
       "      <td>2020-03-01</td>\n",
       "      <td>Minor</td>\n",
       "      <td>Staten Island</td>\n",
       "      <td>45-64</td>\n",
       "      <td>M</td>\n",
       "      <td>WHITE HISPANIC</td>\n",
       "      <td>40.645023</td>\n",
       "      <td>-74.077217</td>\n",
       "      <td>POINT (-74.077216847 40.645022746000045)</td>\n",
       "    </tr>\n",
       "    <tr>\n",
       "      <th>2</th>\n",
       "      <td>2020-03-01</td>\n",
       "      <td>Severe</td>\n",
       "      <td>Bronx</td>\n",
       "      <td>25-44</td>\n",
       "      <td>M</td>\n",
       "      <td>BLACK</td>\n",
       "      <td>40.829510</td>\n",
       "      <td>-73.888056</td>\n",
       "      <td>POINT (-73.88805604799995 40.829510293000055)</td>\n",
       "    </tr>\n",
       "    <tr>\n",
       "      <th>3</th>\n",
       "      <td>2020-03-01</td>\n",
       "      <td>Severe</td>\n",
       "      <td>Brooklyn</td>\n",
       "      <td>45-64</td>\n",
       "      <td>F</td>\n",
       "      <td>BLACK</td>\n",
       "      <td>40.672574</td>\n",
       "      <td>-73.910176</td>\n",
       "      <td>POINT (-73.91017639799998 40.67257395100007)</td>\n",
       "    </tr>\n",
       "    <tr>\n",
       "      <th>4</th>\n",
       "      <td>2020-03-01</td>\n",
       "      <td>Minor</td>\n",
       "      <td>Queens</td>\n",
       "      <td>25-44</td>\n",
       "      <td>M</td>\n",
       "      <td>BLACK</td>\n",
       "      <td>40.677514</td>\n",
       "      <td>-73.789838</td>\n",
       "      <td>POINT (-73.78983757299993 40.67751412800004)</td>\n",
       "    </tr>\n",
       "  </tbody>\n",
       "</table>\n",
       "</div>"
      ],
      "text/plain": [
       "  ARREST_DATE Crime Severity    ARREST_BORO AGE_GROUP PERP_SEX  \\\n",
       "0  2020-03-01         Severe       Brooklyn     18-24        M   \n",
       "1  2020-03-01          Minor  Staten Island     45-64        M   \n",
       "2  2020-03-01         Severe          Bronx     25-44        M   \n",
       "3  2020-03-01         Severe       Brooklyn     45-64        F   \n",
       "4  2020-03-01          Minor         Queens     25-44        M   \n",
       "\n",
       "        PERP_RACE   Latitude  Longitude  \\\n",
       "0           BLACK  40.647951 -73.960606   \n",
       "1  WHITE HISPANIC  40.645023 -74.077217   \n",
       "2           BLACK  40.829510 -73.888056   \n",
       "3           BLACK  40.672574 -73.910176   \n",
       "4           BLACK  40.677514 -73.789838   \n",
       "\n",
       "                        New Georeferenced Column  \n",
       "0   POINT (-73.96060645599994 40.64795139700004)  \n",
       "1       POINT (-74.077216847 40.645022746000045)  \n",
       "2  POINT (-73.88805604799995 40.829510293000055)  \n",
       "3   POINT (-73.91017639799998 40.67257395100007)  \n",
       "4   POINT (-73.78983757299993 40.67751412800004)  "
      ]
     },
     "execution_count": 6,
     "metadata": {},
     "output_type": "execute_result"
    }
   ],
   "source": [
    "#I will also upload the dataframe without ordinals for some plots (master dataframe with both pre_covid and covid crimes )\n",
    "data = pd.read_csv('Data/EDA_data/covid_crime.csv')\n",
    "data.head()"
   ]
  },
  {
   "cell_type": "code",
   "execution_count": 7,
   "id": "45965fbf-513c-4b3e-a961-cf55ca51ced9",
   "metadata": {},
   "outputs": [
    {
     "data": {
      "text/html": [
       "<div>\n",
       "<style scoped>\n",
       "    .dataframe tbody tr th:only-of-type {\n",
       "        vertical-align: middle;\n",
       "    }\n",
       "\n",
       "    .dataframe tbody tr th {\n",
       "        vertical-align: top;\n",
       "    }\n",
       "\n",
       "    .dataframe thead th {\n",
       "        text-align: right;\n",
       "    }\n",
       "</style>\n",
       "<table border=\"1\" class=\"dataframe\">\n",
       "  <thead>\n",
       "    <tr style=\"text-align: right;\">\n",
       "      <th></th>\n",
       "      <th>ARREST_DATE</th>\n",
       "      <th>Crime Severity</th>\n",
       "      <th>ARREST_BORO</th>\n",
       "      <th>AGE_GROUP</th>\n",
       "      <th>PERP_SEX</th>\n",
       "      <th>PERP_RACE</th>\n",
       "      <th>Latitude</th>\n",
       "      <th>Longitude</th>\n",
       "      <th>New Georeferenced Column</th>\n",
       "      <th>COVID_WAVE</th>\n",
       "    </tr>\n",
       "  </thead>\n",
       "  <tbody>\n",
       "    <tr>\n",
       "      <th>0</th>\n",
       "      <td>2020-03-01</td>\n",
       "      <td>Severe</td>\n",
       "      <td>Brooklyn</td>\n",
       "      <td>18-24</td>\n",
       "      <td>M</td>\n",
       "      <td>BLACK</td>\n",
       "      <td>40.647951</td>\n",
       "      <td>-73.960606</td>\n",
       "      <td>POINT (-73.96060645599994 40.64795139700004)</td>\n",
       "      <td>0</td>\n",
       "    </tr>\n",
       "    <tr>\n",
       "      <th>1</th>\n",
       "      <td>2020-03-01</td>\n",
       "      <td>Minor</td>\n",
       "      <td>Staten Island</td>\n",
       "      <td>45-64</td>\n",
       "      <td>M</td>\n",
       "      <td>WHITE HISPANIC</td>\n",
       "      <td>40.645023</td>\n",
       "      <td>-74.077217</td>\n",
       "      <td>POINT (-74.077216847 40.645022746000045)</td>\n",
       "      <td>0</td>\n",
       "    </tr>\n",
       "    <tr>\n",
       "      <th>2</th>\n",
       "      <td>2020-03-01</td>\n",
       "      <td>Severe</td>\n",
       "      <td>Bronx</td>\n",
       "      <td>25-44</td>\n",
       "      <td>M</td>\n",
       "      <td>BLACK</td>\n",
       "      <td>40.829510</td>\n",
       "      <td>-73.888056</td>\n",
       "      <td>POINT (-73.88805604799995 40.829510293000055)</td>\n",
       "      <td>0</td>\n",
       "    </tr>\n",
       "    <tr>\n",
       "      <th>3</th>\n",
       "      <td>2020-03-01</td>\n",
       "      <td>Severe</td>\n",
       "      <td>Brooklyn</td>\n",
       "      <td>45-64</td>\n",
       "      <td>F</td>\n",
       "      <td>BLACK</td>\n",
       "      <td>40.672574</td>\n",
       "      <td>-73.910176</td>\n",
       "      <td>POINT (-73.91017639799998 40.67257395100007)</td>\n",
       "      <td>0</td>\n",
       "    </tr>\n",
       "    <tr>\n",
       "      <th>4</th>\n",
       "      <td>2020-03-01</td>\n",
       "      <td>Minor</td>\n",
       "      <td>Queens</td>\n",
       "      <td>25-44</td>\n",
       "      <td>M</td>\n",
       "      <td>BLACK</td>\n",
       "      <td>40.677514</td>\n",
       "      <td>-73.789838</td>\n",
       "      <td>POINT (-73.78983757299993 40.67751412800004)</td>\n",
       "      <td>0</td>\n",
       "    </tr>\n",
       "    <tr>\n",
       "      <th>...</th>\n",
       "      <td>...</td>\n",
       "      <td>...</td>\n",
       "      <td>...</td>\n",
       "      <td>...</td>\n",
       "      <td>...</td>\n",
       "      <td>...</td>\n",
       "      <td>...</td>\n",
       "      <td>...</td>\n",
       "      <td>...</td>\n",
       "      <td>...</td>\n",
       "    </tr>\n",
       "    <tr>\n",
       "      <th>122868</th>\n",
       "      <td>2021-02-28</td>\n",
       "      <td>Severe</td>\n",
       "      <td>Manhatten</td>\n",
       "      <td>45-64</td>\n",
       "      <td>M</td>\n",
       "      <td>ASIAN / PACIFIC ISLANDER</td>\n",
       "      <td>40.736698</td>\n",
       "      <td>-73.983316</td>\n",
       "      <td>POINT (-73.98331602599995 40.736698070000045)</td>\n",
       "      <td>1</td>\n",
       "    </tr>\n",
       "    <tr>\n",
       "      <th>122869</th>\n",
       "      <td>2021-02-28</td>\n",
       "      <td>Mild</td>\n",
       "      <td>Bronx</td>\n",
       "      <td>18-24</td>\n",
       "      <td>M</td>\n",
       "      <td>BLACK</td>\n",
       "      <td>40.836950</td>\n",
       "      <td>-73.927117</td>\n",
       "      <td>POINT (-73.92711678499995 40.836949576000045)</td>\n",
       "      <td>1</td>\n",
       "    </tr>\n",
       "    <tr>\n",
       "      <th>122870</th>\n",
       "      <td>2021-02-28</td>\n",
       "      <td>Minor</td>\n",
       "      <td>Manhatten</td>\n",
       "      <td>25-44</td>\n",
       "      <td>M</td>\n",
       "      <td>BLACK</td>\n",
       "      <td>40.753875</td>\n",
       "      <td>-73.984820</td>\n",
       "      <td>POINT (-73.98482043999996 40.75387492400005)</td>\n",
       "      <td>1</td>\n",
       "    </tr>\n",
       "    <tr>\n",
       "      <th>122871</th>\n",
       "      <td>2021-02-28</td>\n",
       "      <td>Severe</td>\n",
       "      <td>Bronx</td>\n",
       "      <td>25-44</td>\n",
       "      <td>M</td>\n",
       "      <td>BLACK HISPANIC</td>\n",
       "      <td>40.823387</td>\n",
       "      <td>-73.870170</td>\n",
       "      <td>POINT (-73.87017045 40.82338729100008)</td>\n",
       "      <td>1</td>\n",
       "    </tr>\n",
       "    <tr>\n",
       "      <th>122872</th>\n",
       "      <td>2021-02-28</td>\n",
       "      <td>Minor</td>\n",
       "      <td>Manhatten</td>\n",
       "      <td>25-44</td>\n",
       "      <td>M</td>\n",
       "      <td>WHITE HISPANIC</td>\n",
       "      <td>40.715671</td>\n",
       "      <td>-73.983942</td>\n",
       "      <td>POINT (-73.98394174399994 40.71567057300007)</td>\n",
       "      <td>1</td>\n",
       "    </tr>\n",
       "  </tbody>\n",
       "</table>\n",
       "<p>122873 rows × 10 columns</p>\n",
       "</div>"
      ],
      "text/plain": [
       "       ARREST_DATE Crime Severity    ARREST_BORO AGE_GROUP PERP_SEX  \\\n",
       "0       2020-03-01         Severe       Brooklyn     18-24        M   \n",
       "1       2020-03-01          Minor  Staten Island     45-64        M   \n",
       "2       2020-03-01         Severe          Bronx     25-44        M   \n",
       "3       2020-03-01         Severe       Brooklyn     45-64        F   \n",
       "4       2020-03-01          Minor         Queens     25-44        M   \n",
       "...            ...            ...            ...       ...      ...   \n",
       "122868  2021-02-28         Severe      Manhatten     45-64        M   \n",
       "122869  2021-02-28           Mild          Bronx     18-24        M   \n",
       "122870  2021-02-28          Minor      Manhatten     25-44        M   \n",
       "122871  2021-02-28         Severe          Bronx     25-44        M   \n",
       "122872  2021-02-28          Minor      Manhatten     25-44        M   \n",
       "\n",
       "                       PERP_RACE   Latitude  Longitude  \\\n",
       "0                          BLACK  40.647951 -73.960606   \n",
       "1                 WHITE HISPANIC  40.645023 -74.077217   \n",
       "2                          BLACK  40.829510 -73.888056   \n",
       "3                          BLACK  40.672574 -73.910176   \n",
       "4                          BLACK  40.677514 -73.789838   \n",
       "...                          ...        ...        ...   \n",
       "122868  ASIAN / PACIFIC ISLANDER  40.736698 -73.983316   \n",
       "122869                     BLACK  40.836950 -73.927117   \n",
       "122870                     BLACK  40.753875 -73.984820   \n",
       "122871            BLACK HISPANIC  40.823387 -73.870170   \n",
       "122872            WHITE HISPANIC  40.715671 -73.983942   \n",
       "\n",
       "                             New Georeferenced Column  COVID_WAVE  \n",
       "0        POINT (-73.96060645599994 40.64795139700004)           0  \n",
       "1            POINT (-74.077216847 40.645022746000045)           0  \n",
       "2       POINT (-73.88805604799995 40.829510293000055)           0  \n",
       "3        POINT (-73.91017639799998 40.67257395100007)           0  \n",
       "4        POINT (-73.78983757299993 40.67751412800004)           0  \n",
       "...                                               ...         ...  \n",
       "122868  POINT (-73.98331602599995 40.736698070000045)           1  \n",
       "122869  POINT (-73.92711678499995 40.836949576000045)           1  \n",
       "122870   POINT (-73.98482043999996 40.75387492400005)           1  \n",
       "122871         POINT (-73.87017045 40.82338729100008)           1  \n",
       "122872   POINT (-73.98394174399994 40.71567057300007)           1  \n",
       "\n",
       "[122873 rows x 10 columns]"
      ]
     },
     "execution_count": 7,
     "metadata": {},
     "output_type": "execute_result"
    }
   ],
   "source": [
    "# adding COVID_WAVE column to the data\n",
    "data['COVID_WAVE'] = df_covid_wave['COVID_WAVE']\n",
    "data"
   ]
  },
  {
   "cell_type": "code",
   "execution_count": 8,
   "id": "781421e2-fc59-4b02-8c17-f03ec3468cba",
   "metadata": {},
   "outputs": [
    {
     "data": {
      "text/html": [
       "<div>\n",
       "<style scoped>\n",
       "    .dataframe tbody tr th:only-of-type {\n",
       "        vertical-align: middle;\n",
       "    }\n",
       "\n",
       "    .dataframe tbody tr th {\n",
       "        vertical-align: top;\n",
       "    }\n",
       "\n",
       "    .dataframe thead th {\n",
       "        text-align: right;\n",
       "    }\n",
       "</style>\n",
       "<table border=\"1\" class=\"dataframe\">\n",
       "  <thead>\n",
       "    <tr style=\"text-align: right;\">\n",
       "      <th></th>\n",
       "      <th>Crime Severity</th>\n",
       "      <th>ARREST_BORO</th>\n",
       "      <th>ARREST_PRECINCT</th>\n",
       "      <th>AGE_GROUP</th>\n",
       "      <th>PERP_SEX</th>\n",
       "      <th>PERP_RACE</th>\n",
       "      <th>Latitude</th>\n",
       "      <th>Longitude</th>\n",
       "      <th>COVID_WAVE</th>\n",
       "    </tr>\n",
       "  </thead>\n",
       "  <tbody>\n",
       "    <tr>\n",
       "      <th>0</th>\n",
       "      <td>2</td>\n",
       "      <td>1</td>\n",
       "      <td>70</td>\n",
       "      <td>0</td>\n",
       "      <td>1</td>\n",
       "      <td>2</td>\n",
       "      <td>40.647951</td>\n",
       "      <td>-73.960606</td>\n",
       "      <td>0</td>\n",
       "    </tr>\n",
       "    <tr>\n",
       "      <th>1</th>\n",
       "      <td>0</td>\n",
       "      <td>4</td>\n",
       "      <td>120</td>\n",
       "      <td>2</td>\n",
       "      <td>1</td>\n",
       "      <td>5</td>\n",
       "      <td>40.645023</td>\n",
       "      <td>-74.077217</td>\n",
       "      <td>0</td>\n",
       "    </tr>\n",
       "    <tr>\n",
       "      <th>2</th>\n",
       "      <td>2</td>\n",
       "      <td>0</td>\n",
       "      <td>42</td>\n",
       "      <td>1</td>\n",
       "      <td>1</td>\n",
       "      <td>2</td>\n",
       "      <td>40.829510</td>\n",
       "      <td>-73.888056</td>\n",
       "      <td>0</td>\n",
       "    </tr>\n",
       "    <tr>\n",
       "      <th>3</th>\n",
       "      <td>2</td>\n",
       "      <td>1</td>\n",
       "      <td>73</td>\n",
       "      <td>2</td>\n",
       "      <td>0</td>\n",
       "      <td>2</td>\n",
       "      <td>40.672574</td>\n",
       "      <td>-73.910176</td>\n",
       "      <td>0</td>\n",
       "    </tr>\n",
       "    <tr>\n",
       "      <th>4</th>\n",
       "      <td>0</td>\n",
       "      <td>3</td>\n",
       "      <td>113</td>\n",
       "      <td>1</td>\n",
       "      <td>1</td>\n",
       "      <td>2</td>\n",
       "      <td>40.677514</td>\n",
       "      <td>-73.789838</td>\n",
       "      <td>0</td>\n",
       "    </tr>\n",
       "    <tr>\n",
       "      <th>...</th>\n",
       "      <td>...</td>\n",
       "      <td>...</td>\n",
       "      <td>...</td>\n",
       "      <td>...</td>\n",
       "      <td>...</td>\n",
       "      <td>...</td>\n",
       "      <td>...</td>\n",
       "      <td>...</td>\n",
       "      <td>...</td>\n",
       "    </tr>\n",
       "    <tr>\n",
       "      <th>122868</th>\n",
       "      <td>2</td>\n",
       "      <td>2</td>\n",
       "      <td>13</td>\n",
       "      <td>2</td>\n",
       "      <td>1</td>\n",
       "      <td>1</td>\n",
       "      <td>40.736698</td>\n",
       "      <td>-73.983316</td>\n",
       "      <td>1</td>\n",
       "    </tr>\n",
       "    <tr>\n",
       "      <th>122869</th>\n",
       "      <td>1</td>\n",
       "      <td>0</td>\n",
       "      <td>44</td>\n",
       "      <td>0</td>\n",
       "      <td>1</td>\n",
       "      <td>2</td>\n",
       "      <td>40.836950</td>\n",
       "      <td>-73.927117</td>\n",
       "      <td>1</td>\n",
       "    </tr>\n",
       "    <tr>\n",
       "      <th>122870</th>\n",
       "      <td>0</td>\n",
       "      <td>2</td>\n",
       "      <td>14</td>\n",
       "      <td>1</td>\n",
       "      <td>1</td>\n",
       "      <td>2</td>\n",
       "      <td>40.753875</td>\n",
       "      <td>-73.984820</td>\n",
       "      <td>1</td>\n",
       "    </tr>\n",
       "    <tr>\n",
       "      <th>122871</th>\n",
       "      <td>2</td>\n",
       "      <td>0</td>\n",
       "      <td>43</td>\n",
       "      <td>1</td>\n",
       "      <td>1</td>\n",
       "      <td>3</td>\n",
       "      <td>40.823387</td>\n",
       "      <td>-73.870170</td>\n",
       "      <td>1</td>\n",
       "    </tr>\n",
       "    <tr>\n",
       "      <th>122872</th>\n",
       "      <td>0</td>\n",
       "      <td>2</td>\n",
       "      <td>7</td>\n",
       "      <td>1</td>\n",
       "      <td>1</td>\n",
       "      <td>5</td>\n",
       "      <td>40.715671</td>\n",
       "      <td>-73.983942</td>\n",
       "      <td>1</td>\n",
       "    </tr>\n",
       "  </tbody>\n",
       "</table>\n",
       "<p>122873 rows × 9 columns</p>\n",
       "</div>"
      ],
      "text/plain": [
       "        Crime Severity  ARREST_BORO  ARREST_PRECINCT  AGE_GROUP  PERP_SEX  \\\n",
       "0                    2            1               70          0         1   \n",
       "1                    0            4              120          2         1   \n",
       "2                    2            0               42          1         1   \n",
       "3                    2            1               73          2         0   \n",
       "4                    0            3              113          1         1   \n",
       "...                ...          ...              ...        ...       ...   \n",
       "122868               2            2               13          2         1   \n",
       "122869               1            0               44          0         1   \n",
       "122870               0            2               14          1         1   \n",
       "122871               2            0               43          1         1   \n",
       "122872               0            2                7          1         1   \n",
       "\n",
       "        PERP_RACE   Latitude  Longitude  COVID_WAVE  \n",
       "0               2  40.647951 -73.960606           0  \n",
       "1               5  40.645023 -74.077217           0  \n",
       "2               2  40.829510 -73.888056           0  \n",
       "3               2  40.672574 -73.910176           0  \n",
       "4               2  40.677514 -73.789838           0  \n",
       "...           ...        ...        ...         ...  \n",
       "122868          1  40.736698 -73.983316           1  \n",
       "122869          2  40.836950 -73.927117           1  \n",
       "122870          2  40.753875 -73.984820           1  \n",
       "122871          3  40.823387 -73.870170           1  \n",
       "122872          5  40.715671 -73.983942           1  \n",
       "\n",
       "[122873 rows x 9 columns]"
      ]
     },
     "execution_count": 8,
     "metadata": {},
     "output_type": "execute_result"
    }
   ],
   "source": [
    "#Let us see a quick heat correlation map\n",
    "scaler = StandardScaler()\n",
    "df2 = copy.deepcopy(df[['Crime Severity', 'ARREST_BORO', 'ARREST_PRECINCT',\n",
    "                        'AGE_GROUP','PERP_SEX', 'PERP_RACE', 'Latitude', 'Longitude', 'COVID_WAVE']])\n",
    "df2"
   ]
  },
  {
   "cell_type": "code",
   "execution_count": 9,
   "id": "2306f721-c5ed-4c3d-939d-1d704c729522",
   "metadata": {},
   "outputs": [
    {
     "data": {
      "image/png": "[encoded data removed]",
      "text/plain": [
       "<Figure size 432x288 with 2 Axes>"
      ]
     },
     "metadata": {
      "needs_background": "light"
     },
     "output_type": "display_data"
    }
   ],
   "source": [
    "scaler.fit(df2)\n",
    "matrix_corr = df2.corr()\n",
    "mask = np.triu(np.ones_like(matrix_corr, dtype=bool))\n",
    "sns.heatmap(matrix_corr, annot=True, mask = mask)\n",
    "plt.show()"
   ]
  },
  {
   "cell_type": "code",
   "execution_count": 10,
   "id": "a853537a-067d-40f0-bc95-0656906cec2f",
   "metadata": {},
   "outputs": [
    {
     "data": {
      "image/png": "[encoded data removed]",
      "text/plain": [
       "<Figure size 1296x2880 with 9 Axes>"
      ]
     },
     "metadata": {
      "needs_background": "light"
     },
     "output_type": "display_data"
    }
   ],
   "source": [
    "#Check distribution skewness\n",
    "l = df2.columns.values\n",
    "number_of_columns=9\n",
    "number_of_rows = int(len(l)-1/number_of_columns)\n",
    "\n",
    "plt.figure(figsize=(2*number_of_columns,5*number_of_rows))\n",
    "for i in range(0,len(l)):\n",
    "    plt.subplot(number_of_rows + 1,number_of_columns,i+1)\n",
    "    sns.distplot(df[l[i]],kde=True) "
   ]
  },
  {
   "cell_type": "code",
   "execution_count": 11,
   "id": "de797296-9c5e-4052-bccd-a4855ad55521",
   "metadata": {},
   "outputs": [],
   "source": [
    "#### NOTE: The second covid wave has greater crime density."
   ]
  },
  {
   "cell_type": "markdown",
   "id": "85ac1a05-ee99-4b0b-97ec-9d33559698d6",
   "metadata": {},
   "source": [
    "### Specifically looking at dates"
   ]
  },
  {
   "cell_type": "code",
   "execution_count": 12,
   "id": "7acadb67-d942-43a4-b852-d3293619a25f",
   "metadata": {},
   "outputs": [],
   "source": [
    "#add weekday and month to this table\n",
    "df['ARREST_DATE'] = pd.to_datetime(df['ARREST_DATE']) #convert column\n",
    "df['Month'] = df['ARREST_DATE'].dt.month\n",
    "df['WeekDay'] = df['ARREST_DATE'].dt.weekday"
   ]
  },
  {
   "cell_type": "code",
   "execution_count": 13,
   "id": "da9dd3e6-2d93-40e6-a7a3-188dc1166e62",
   "metadata": {},
   "outputs": [
    {
     "data": {
      "image/png": "[encoded data removed]",
      "text/plain": [
       "<Figure size 576x432 with 1 Axes>"
      ]
     },
     "metadata": {
      "needs_background": "light"
     },
     "output_type": "display_data"
    }
   ],
   "source": [
    "#Bar plot of number of offenses each Day\n",
    "plt.figure(figsize=[8,6])\n",
    "plt.plot(df['Month'].value_counts().values, color = 'red', lw = 2) #array of y values; dates\n",
    "plt.xlabel('Month', size = 12)\n",
    "plt.ylabel('Number of Crimes', size = 12)\n",
    "plt.title('Number of Crimes during Covid', size= 15)\n",
    "plt.show()"
   ]
  },
  {
   "cell_type": "code",
   "execution_count": 14,
   "id": "f54a2351-0106-42b7-b491-1c20d31404d3",
   "metadata": {},
   "outputs": [
    {
     "data": {
      "text/plain": [
       "<AxesSubplot:xlabel='Month', ylabel='Count'>"
      ]
     },
     "execution_count": 14,
     "metadata": {},
     "output_type": "execute_result"
    },
    {
     "data": {
      "image/png": "[encoded data removed]",
      "text/plain": [
       "<Figure size 432x288 with 1 Axes>"
      ]
     },
     "metadata": {
      "needs_background": "light"
     },
     "output_type": "display_data"
    }
   ],
   "source": [
    "#A histogram showing the distribution of number of crimes over date, 52 bins=52weeks #TODO: Not sure if Im doing it right\n",
    "sns.histplot(data=df, x = df['Month'], bins=52)"
   ]
  },
  {
   "cell_type": "code",
   "execution_count": 15,
   "id": "ca49aaf8-b5e2-4412-909c-49e64d0b9370",
   "metadata": {},
   "outputs": [
    {
     "data": {
      "text/plain": [
       "<AxesSubplot:ylabel='WeekDay'>"
      ]
     },
     "execution_count": 15,
     "metadata": {},
     "output_type": "execute_result"
    },
    {
     "data": {
      "image/png": "[encoded data removed]",
      "text/plain": [
       "<Figure size 432x288 with 1 Axes>"
      ]
     },
     "metadata": {
      "needs_background": "light"
     },
     "output_type": "display_data"
    }
   ],
   "source": [
    "#Bar plot showing proportion of crimes committed per age group for crime severity\n",
    "pd.crosstab(df['WeekDay'],df['Crime Severity']).plot(kind=\"barh\",stacked=True)"
   ]
  },
  {
   "cell_type": "code",
   "execution_count": 16,
   "id": "c7d0e1a2-bc70-485c-b3c3-a19f1f6de0d8",
   "metadata": {},
   "outputs": [],
   "source": [
    "# add weekday and month into data\n",
    "data['ARREST_DATE'] = pd.to_datetime(data['ARREST_DATE']) #convert column\n",
    "data['Month'] = data['ARREST_DATE'].dt.month\n",
    "data['WeekDay'] = data['ARREST_DATE'].dt.weekday"
   ]
  },
  {
   "cell_type": "markdown",
   "id": "38d07886-7ce0-489c-aa73-e48000b59e40",
   "metadata": {},
   "source": [
    "### Correlation Hypothesis Tests"
   ]
  },
  {
   "cell_type": "code",
   "execution_count": 17,
   "id": "c7a52c9a-5db2-463f-a25f-81a8654ca327",
   "metadata": {},
   "outputs": [
    {
     "name": "stdout",
     "output_type": "stream",
     "text": [
      "chi-square statistic : 589.9773453533634\n",
      "p-value : 1.4631584127367934e-118\n",
      "degrees of freedom : 12\n"
     ]
    },
    {
     "data": {
      "text/html": [
       "<div>\n",
       "<style scoped>\n",
       "    .dataframe tbody tr th:only-of-type {\n",
       "        vertical-align: middle;\n",
       "    }\n",
       "\n",
       "    .dataframe tbody tr th {\n",
       "        vertical-align: top;\n",
       "    }\n",
       "\n",
       "    .dataframe thead th {\n",
       "        text-align: right;\n",
       "    }\n",
       "</style>\n",
       "<table border=\"1\" class=\"dataframe\">\n",
       "  <thead>\n",
       "    <tr style=\"text-align: right;\">\n",
       "      <th>Crime Severity</th>\n",
       "      <th>Mild</th>\n",
       "      <th>Minor</th>\n",
       "      <th>Severe</th>\n",
       "    </tr>\n",
       "    <tr>\n",
       "      <th>WeekDay</th>\n",
       "      <th></th>\n",
       "      <th></th>\n",
       "      <th></th>\n",
       "    </tr>\n",
       "  </thead>\n",
       "  <tbody>\n",
       "    <tr>\n",
       "      <th>0</th>\n",
       "      <td>-8.195283</td>\n",
       "      <td>-0.789168</td>\n",
       "      <td>8.953683</td>\n",
       "    </tr>\n",
       "    <tr>\n",
       "      <th>1</th>\n",
       "      <td>2.922162</td>\n",
       "      <td>0.196492</td>\n",
       "      <td>-3.107337</td>\n",
       "    </tr>\n",
       "    <tr>\n",
       "      <th>2</th>\n",
       "      <td>8.483212</td>\n",
       "      <td>-0.753524</td>\n",
       "      <td>-7.691430</td>\n",
       "    </tr>\n",
       "    <tr>\n",
       "      <th>3</th>\n",
       "      <td>4.357427</td>\n",
       "      <td>1.318439</td>\n",
       "      <td>-5.663174</td>\n",
       "    </tr>\n",
       "    <tr>\n",
       "      <th>4</th>\n",
       "      <td>8.889712</td>\n",
       "      <td>-1.535581</td>\n",
       "      <td>-7.310997</td>\n",
       "    </tr>\n",
       "    <tr>\n",
       "      <th>5</th>\n",
       "      <td>-4.132969</td>\n",
       "      <td>1.369687</td>\n",
       "      <td>2.740552</td>\n",
       "    </tr>\n",
       "    <tr>\n",
       "      <th>6</th>\n",
       "      <td>-15.949226</td>\n",
       "      <td>0.227788</td>\n",
       "      <td>15.654361</td>\n",
       "    </tr>\n",
       "  </tbody>\n",
       "</table>\n",
       "</div>"
      ],
      "text/plain": [
       "Crime Severity       Mild     Minor     Severe\n",
       "WeekDay                                       \n",
       "0               -8.195283 -0.789168   8.953683\n",
       "1                2.922162  0.196492  -3.107337\n",
       "2                8.483212 -0.753524  -7.691430\n",
       "3                4.357427  1.318439  -5.663174\n",
       "4                8.889712 -1.535581  -7.310997\n",
       "5               -4.132969  1.369687   2.740552\n",
       "6              -15.949226  0.227788  15.654361"
      ]
     },
     "execution_count": 17,
     "metadata": {},
     "output_type": "execute_result"
    }
   ],
   "source": [
    "#Trying some stats\n",
    "\n",
    "#first tabulate a 2 way table with variables as days of week and level of crime\n",
    "two_way_table = pd.crosstab(index=data[\"WeekDay\"], columns=data[\"Crime Severity\"])\n",
    "\n",
    "#Calculate the chi-square test\n",
    "result_chi = stats.chi2_contingency(observed = two_way_table)\n",
    "chi2, p, dof, expected = stats.chi2_contingency(observed = two_way_table)\n",
    "\n",
    "print('chi-square statistic :', result_chi[0]) #amount of difference btw observed counts and counts expected if no relationship (low value = high corr)\n",
    "print('p-value :', result_chi[1])\n",
    "print('degrees of freedom :', result_chi[2]) #max number of logicailly independent values\n",
    "#print('expected counts : \\n', result_chi[3])\n",
    "\n",
    "table = sm.stats.Table(two_way_table)\n",
    "table.standardized_resids"
   ]
  },
  {
   "cell_type": "code",
   "execution_count": 18,
   "id": "2a9dd992-677a-40bd-9c08-0e205b6a8d45",
   "metadata": {},
   "outputs": [],
   "source": [
    "#define function to find if p exported from stats.chi_contency is significant\n",
    "\n",
    "def chi_significant(p):\n",
    "    \"\"\"\n",
    "    Function to test if the p value is significant based on the Chi2 Contingency test\n",
    "    \"\"\"\n",
    "    prob = 0.95\n",
    "    alpha = 1.0 - prob\n",
    "    print('significance=%.3f, p=%.3f' % (alpha, p))\n",
    "    \n",
    "    if p <= alpha:\n",
    "        print('Dependent (reject H0)')\n",
    "    else:\n",
    "        print('Independent (fail to reject H)')"
   ]
  },
  {
   "cell_type": "code",
   "execution_count": 19,
   "id": "8716182d-140a-4fa4-a513-f4e8892808d4",
   "metadata": {},
   "outputs": [
    {
     "name": "stdout",
     "output_type": "stream",
     "text": [
      "significance=0.050, p=0.000\n",
      "Dependent (reject H0)\n"
     ]
    }
   ],
   "source": [
    "#use chi significance function\n",
    "chi_significant(p)"
   ]
  },
  {
   "cell_type": "markdown",
   "id": "a4d494a5-0d4f-446e-849b-c5bebef2af43",
   "metadata": {},
   "source": [
    "#### The Chi-Square test above shows that there is a significant relationship on the dependency between crime severity and the day of the week, meaning there is a distribution of crime.\n",
    "\n",
    "1. Monday (0) Crimes happens slightly more than on Sunday but still overally less. Significantly more likely to be severe. \n",
    "2. Tuesday (1) The Crimes more likely to happen are mild\n",
    "3. Wednesday (2) Crimes are significantly more likely to be mild.\n",
    "4. Thursday (3) Crimes are more likely to be mild and minor.\n",
    "5. Friday (4) Crimes are significantly more likely to be mild.\n",
    "6. Saturday (5) Crimes are more likely to be severe and minor. \n",
    "7. Sunday(6) Overall less crimes happens on Sunday, and crimes are significantly more likely to be severe. Severe crimes are at peak this day. \n",
    "\n",
    "Overall:\n",
    "    \n",
    "    Monday, Saturday and Sunday is when the severe crimes significantly occur and peaks on Sunday.\n",
    "    Tuesday to Friday is when mild crimes significantly occur compared to severe crimes.\n",
    "    Friday to Sunday is when minor crimes signifcantly occur than mild crimes\n",
    "    \n",
    "Therefore, we could interpret possible patterns. Such as people are more likely to let loose are weekends or interact with others more that might lead to more severe crime."
   ]
  },
  {
   "cell_type": "code",
   "execution_count": 20,
   "id": "3eda356d-b170-44d1-afa9-a5ef3051b684",
   "metadata": {},
   "outputs": [
    {
     "data": {
      "text/plain": [
       "F_onewayResult(statistic=58822.555623153414, pvalue=0.0)"
      ]
     },
     "execution_count": 20,
     "metadata": {},
     "output_type": "execute_result"
    }
   ],
   "source": [
    "#perform one-way ANOVA - all our values are categorical, we would need quantitative variable for 2-way ANOVA\n",
    "f_oneway(df['WeekDay'], df['Crime Severity'], df['ARREST_BORO'])"
   ]
  },
  {
   "cell_type": "markdown",
   "id": "2cb39b28-3fad-4567-86b5-750a8658e1be",
   "metadata": {},
   "source": [
    "This shows that there is a significant relationship between the day of the week, crime severity and the borough"
   ]
  },
  {
   "cell_type": "code",
   "execution_count": 21,
   "id": "39e28c67-5f50-4fdd-a89b-6a129d064ad7",
   "metadata": {},
   "outputs": [
    {
     "data": {
      "text/plain": [
       "<AxesSubplot:ylabel='Month'>"
      ]
     },
     "execution_count": 21,
     "metadata": {},
     "output_type": "execute_result"
    },
    {
     "data": {
      "image/png": "[encoded data removed]",
      "text/plain": [
       "<Figure size 432x288 with 1 Axes>"
      ]
     },
     "metadata": {
      "needs_background": "light"
     },
     "output_type": "display_data"
    }
   ],
   "source": [
    "#Bar plot showing proportion of crimes committed per age group for crime severity\n",
    "pd.crosstab(df['Month'],df['AGE_GROUP']).plot(kind=\"barh\",stacked=True)"
   ]
  },
  {
   "cell_type": "code",
   "execution_count": 22,
   "id": "a8c2be28-bdfb-4800-a6aa-0b47be32fd30",
   "metadata": {},
   "outputs": [
    {
     "name": "stdout",
     "output_type": "stream",
     "text": [
      "chi-square statistic : 917.460163587361\n",
      "p-value : 6.940911893034008e-180\n",
      "degrees of freedom : 22\n"
     ]
    },
    {
     "data": {
      "text/html": [
       "<div>\n",
       "<style scoped>\n",
       "    .dataframe tbody tr th:only-of-type {\n",
       "        vertical-align: middle;\n",
       "    }\n",
       "\n",
       "    .dataframe tbody tr th {\n",
       "        vertical-align: top;\n",
       "    }\n",
       "\n",
       "    .dataframe thead th {\n",
       "        text-align: right;\n",
       "    }\n",
       "</style>\n",
       "<table border=\"1\" class=\"dataframe\">\n",
       "  <thead>\n",
       "    <tr style=\"text-align: right;\">\n",
       "      <th>Crime Severity</th>\n",
       "      <th>Mild</th>\n",
       "      <th>Minor</th>\n",
       "      <th>Severe</th>\n",
       "    </tr>\n",
       "    <tr>\n",
       "      <th>Month</th>\n",
       "      <th></th>\n",
       "      <th></th>\n",
       "      <th></th>\n",
       "    </tr>\n",
       "  </thead>\n",
       "  <tbody>\n",
       "    <tr>\n",
       "      <th>1</th>\n",
       "      <td>1.857992</td>\n",
       "      <td>6.890615</td>\n",
       "      <td>-8.769019</td>\n",
       "    </tr>\n",
       "    <tr>\n",
       "      <th>2</th>\n",
       "      <td>-1.971749</td>\n",
       "      <td>6.112418</td>\n",
       "      <td>-4.173788</td>\n",
       "    </tr>\n",
       "    <tr>\n",
       "      <th>3</th>\n",
       "      <td>-2.064993</td>\n",
       "      <td>8.924812</td>\n",
       "      <td>-6.904800</td>\n",
       "    </tr>\n",
       "    <tr>\n",
       "      <th>4</th>\n",
       "      <td>1.357670</td>\n",
       "      <td>-2.471242</td>\n",
       "      <td>1.129287</td>\n",
       "    </tr>\n",
       "    <tr>\n",
       "      <th>5</th>\n",
       "      <td>8.569637</td>\n",
       "      <td>-2.470903</td>\n",
       "      <td>-6.053110</td>\n",
       "    </tr>\n",
       "    <tr>\n",
       "      <th>6</th>\n",
       "      <td>-1.328703</td>\n",
       "      <td>-9.768803</td>\n",
       "      <td>11.131857</td>\n",
       "    </tr>\n",
       "    <tr>\n",
       "      <th>7</th>\n",
       "      <td>-11.952328</td>\n",
       "      <td>-6.423853</td>\n",
       "      <td>18.352823</td>\n",
       "    </tr>\n",
       "    <tr>\n",
       "      <th>8</th>\n",
       "      <td>-2.420424</td>\n",
       "      <td>-5.823425</td>\n",
       "      <td>8.257573</td>\n",
       "    </tr>\n",
       "    <tr>\n",
       "      <th>9</th>\n",
       "      <td>4.343931</td>\n",
       "      <td>-5.619463</td>\n",
       "      <td>1.316477</td>\n",
       "    </tr>\n",
       "    <tr>\n",
       "      <th>10</th>\n",
       "      <td>6.468094</td>\n",
       "      <td>-3.705995</td>\n",
       "      <td>-2.720151</td>\n",
       "    </tr>\n",
       "    <tr>\n",
       "      <th>11</th>\n",
       "      <td>-3.211740</td>\n",
       "      <td>4.967254</td>\n",
       "      <td>-1.789102</td>\n",
       "    </tr>\n",
       "    <tr>\n",
       "      <th>12</th>\n",
       "      <td>-2.917353</td>\n",
       "      <td>5.257880</td>\n",
       "      <td>-2.374081</td>\n",
       "    </tr>\n",
       "  </tbody>\n",
       "</table>\n",
       "</div>"
      ],
      "text/plain": [
       "Crime Severity       Mild     Minor     Severe\n",
       "Month                                         \n",
       "1                1.857992  6.890615  -8.769019\n",
       "2               -1.971749  6.112418  -4.173788\n",
       "3               -2.064993  8.924812  -6.904800\n",
       "4                1.357670 -2.471242   1.129287\n",
       "5                8.569637 -2.470903  -6.053110\n",
       "6               -1.328703 -9.768803  11.131857\n",
       "7              -11.952328 -6.423853  18.352823\n",
       "8               -2.420424 -5.823425   8.257573\n",
       "9                4.343931 -5.619463   1.316477\n",
       "10               6.468094 -3.705995  -2.720151\n",
       "11              -3.211740  4.967254  -1.789102\n",
       "12              -2.917353  5.257880  -2.374081"
      ]
     },
     "execution_count": 22,
     "metadata": {},
     "output_type": "execute_result"
    }
   ],
   "source": [
    "#first tabulate a 2 way table with variables as months and level of crime\n",
    "two_way_table = pd.crosstab(index=data[\"Month\"], columns=data[\"Crime Severity\"])\n",
    "\n",
    "#Calculate the chi-square test\n",
    "result_chi = stats.chi2_contingency(observed = two_way_table)\n",
    "chi2, p, dof, expected = stats.chi2_contingency(observed = two_way_table)\n",
    "\n",
    "print('chi-square statistic :', result_chi[0])\n",
    "print('p-value :', result_chi[1])\n",
    "print('degrees of freedom :', result_chi[2])\n",
    "#print('expected counts : \\n', result_chi[3])\n",
    "\n",
    "table = sm.stats.Table(two_way_table)\n",
    "table.standardized_resids"
   ]
  },
  {
   "cell_type": "markdown",
   "id": "053b4568-957c-4dc3-af3b-d331dfd5d22f",
   "metadata": {},
   "source": [
    "The Chi-Square test above shows that there is a significant relationship on the dependency between crime severity and the Month of the year, meaning there is a distribution of crime.\n",
    "\n",
    "1. Jan - There are significantly more mild and minor crimes, and we see signifcantly more minor\n",
    "2. Feb - It is similar to January but with significantly less mild crimes.\n",
    "3. March - Significantly more minor crimes than Feb \n",
    "4. April - Slightly Significantly, crimes more likely to be severe or mild\n",
    "5. May - Crimes are more significantly to be Minor\n",
    "6. June - Significantly, crimes more likely to severe\n",
    "7. July - Crimes are significantly more likely to be severe\n",
    "8. Aug - Significantly more likely to be severe, but less than July\n",
    "9. Sept - Crimes are significantly more likely to be mild\n",
    "10. Oct - Signifantly more likely to be mild \n",
    "11. Nov - Signifantly more likely to be minor\n",
    "12. Dec - Crimes are significantly more likely to be minor\n",
    "\n",
    "Common trends we can see:\n",
    "\n",
    "    The highest amount of severe crimes are committed in July, June, Aug and April respectively.\n",
    "    The highest amount of mild crimes are committed in May, October, September respectively and slightly in January and April.  \n",
    "    The minor crimes seem to be more likely to significantly occurring from November to March\n",
    " \n",
    "Common trends during covid waves:\n",
    "\n",
    "    For the first covid wave (March-June 2020): Severe crimes occur at the beginning and end of the wave. \n",
    "    For the second covid wave (Nov-May(Feb in dataframe) 2021): Most minor crimes occur during this wave. \n",
    "    Severe and mild crimes tend to occur mostly outside of the waves except for the beginning and end of the first wave. \n",
    " \n",
    "Therefore, mostly resources/financially related minor crimes are done during the waves like roberry etc with the exception of the beginning and end of the first wave where there was serious crimes. "
   ]
  },
  {
   "cell_type": "code",
   "execution_count": 23,
   "id": "be894988-4301-46a4-971d-80fbf39aa0f5",
   "metadata": {},
   "outputs": [
    {
     "name": "stdout",
     "output_type": "stream",
     "text": [
      "significance=0.050, p=0.000\n",
      "Dependent (reject H0)\n"
     ]
    }
   ],
   "source": [
    "#use chi significance function\n",
    "chi_significant(p)"
   ]
  },
  {
   "cell_type": "code",
   "execution_count": 24,
   "id": "409b1db5-fe85-4065-a2b8-599fa2477215",
   "metadata": {},
   "outputs": [
    {
     "data": {
      "text/plain": [
       "F_onewayResult(statistic=220165.120177804, pvalue=0.0)"
      ]
     },
     "execution_count": 24,
     "metadata": {},
     "output_type": "execute_result"
    }
   ],
   "source": [
    "#perform one-way ANOVA \n",
    "f_oneway(df['Month'], df['Crime Severity'], df['ARREST_BORO'])"
   ]
  },
  {
   "cell_type": "markdown",
   "id": "8452cdcd-daf0-4f46-bdc5-81c3dd215c61",
   "metadata": {},
   "source": [
    "Again we see that these values are significant!"
   ]
  },
  {
   "cell_type": "markdown",
   "id": "a552c665-6921-44f3-9c92-592aa5cdc6bc",
   "metadata": {},
   "source": [
    "### Relations with Borough"
   ]
  },
  {
   "cell_type": "code",
   "execution_count": 25,
   "id": "5fdd9565-7654-4e44-b824-214e41dde925",
   "metadata": {},
   "outputs": [
    {
     "data": {
      "image/png": "[encoded data removed]",
      "text/plain": [
       "<Figure size 576x432 with 1 Axes>"
      ]
     },
     "metadata": {
      "needs_background": "light"
     },
     "output_type": "display_data"
    }
   ],
   "source": [
    "#Bar plot of number of offenses in each borrow\n",
    "plt.figure(figsize=[8,6])\n",
    "plt.bar(data['ARREST_BORO'].value_counts().index.tolist(), \n",
    "        data['ARREST_BORO'].value_counts().values)\n",
    "plt.xlabel('NYC Borough', size = 12)\n",
    "plt.ylabel('Number of Crimes', size = 12)\n",
    "plt.title('Number of Crimes during Covid per Borough', size= 15)\n",
    "plt.show()"
   ]
  },
  {
   "cell_type": "code",
   "execution_count": 26,
   "id": "6ee1131a-475c-4af4-83ef-e7ad93b61971",
   "metadata": {},
   "outputs": [
    {
     "data": {
      "image/png": "[encoded data removed]",
      "text/plain": [
       "<Figure size 864x576 with 1 Axes>"
      ]
     },
     "metadata": {
      "needs_background": "light"
     },
     "output_type": "display_data"
    }
   ],
   "source": [
    "#Calculating the percentage of crime severity at each borough\n",
    "boro_name = ['Manhatten', 'Brooklyn', 'Queens', 'Bronx', 'Staten Island']\n",
    "crime_level = ['Minor', 'Mild', 'Severe']\n",
    "subtotal_boro = data.groupby('ARREST_BORO')['Crime Severity'].agg('count').sort_values(ascending=False) #total of each boro count\n",
    "fig = plt.figure(figsize=[12,8])\n",
    "ax = sns.countplot(x=\"ARREST_BORO\", hue=\"Crime Severity\", \n",
    "                   data=data[['ARREST_BORO', 'Crime Severity']], \n",
    "                   order = subtotal_boro.index,\n",
    "                  palette = \"ch:2.5,-.2,dark=.3\")\n",
    "ax.set_xlabel('NYC Borough', fontsize = 14)\n",
    "ax.set_ylabel('Number of Crimes', fontsize = 14)\n",
    "ax.set_title('Percentage of Crime Severity per NYC Borough', fontsize = 16)\n",
    "\n",
    "#calculate percentage to anntotate\n",
    "boro_num2 = [val for val in range(0, 5)]*3 #[0,1,2,3,4,0,1,2,3,4...] work for the order\n",
    "for p, i in zip(ax.patches, boro_num2):\n",
    "    percent = p.get_height()/subtotal_boro[i]\n",
    "    ax.annotate('{:.1f}%'. format(percent*100), (p.get_x()+0.138, p.get_height()+300), \n",
    "                ha='center', size=12)"
   ]
  },
  {
   "cell_type": "code",
   "execution_count": 27,
   "id": "c586a592-dd40-4dfa-91af-7805031cf26c",
   "metadata": {},
   "outputs": [
    {
     "name": "stdout",
     "output_type": "stream",
     "text": [
      "chi-square statistic : 2245.033278864423\n",
      "p-value : 0.0\n",
      "degrees of freedom : 8\n"
     ]
    },
    {
     "data": {
      "text/html": [
       "<div>\n",
       "<style scoped>\n",
       "    .dataframe tbody tr th:only-of-type {\n",
       "        vertical-align: middle;\n",
       "    }\n",
       "\n",
       "    .dataframe tbody tr th {\n",
       "        vertical-align: top;\n",
       "    }\n",
       "\n",
       "    .dataframe thead th {\n",
       "        text-align: right;\n",
       "    }\n",
       "</style>\n",
       "<table border=\"1\" class=\"dataframe\">\n",
       "  <thead>\n",
       "    <tr style=\"text-align: right;\">\n",
       "      <th>Crime Severity</th>\n",
       "      <th>Mild</th>\n",
       "      <th>Minor</th>\n",
       "      <th>Severe</th>\n",
       "    </tr>\n",
       "    <tr>\n",
       "      <th>ARREST_BORO</th>\n",
       "      <th></th>\n",
       "      <th></th>\n",
       "      <th></th>\n",
       "    </tr>\n",
       "  </thead>\n",
       "  <tbody>\n",
       "    <tr>\n",
       "      <th>Bronx</th>\n",
       "      <td>0.605347</td>\n",
       "      <td>-27.131793</td>\n",
       "      <td>26.639667</td>\n",
       "    </tr>\n",
       "    <tr>\n",
       "      <th>Brooklyn</th>\n",
       "      <td>-4.834678</td>\n",
       "      <td>9.874446</td>\n",
       "      <td>-5.100112</td>\n",
       "    </tr>\n",
       "    <tr>\n",
       "      <th>Manhatten</th>\n",
       "      <td>29.088349</td>\n",
       "      <td>-1.629082</td>\n",
       "      <td>-27.331980</td>\n",
       "    </tr>\n",
       "    <tr>\n",
       "      <th>Queens</th>\n",
       "      <td>-23.568683</td>\n",
       "      <td>12.143368</td>\n",
       "      <td>11.278018</td>\n",
       "    </tr>\n",
       "    <tr>\n",
       "      <th>Staten Island</th>\n",
       "      <td>-3.105484</td>\n",
       "      <td>13.152092</td>\n",
       "      <td>-10.113154</td>\n",
       "    </tr>\n",
       "  </tbody>\n",
       "</table>\n",
       "</div>"
      ],
      "text/plain": [
       "Crime Severity       Mild      Minor     Severe\n",
       "ARREST_BORO                                    \n",
       "Bronx            0.605347 -27.131793  26.639667\n",
       "Brooklyn        -4.834678   9.874446  -5.100112\n",
       "Manhatten       29.088349  -1.629082 -27.331980\n",
       "Queens         -23.568683  12.143368  11.278018\n",
       "Staten Island   -3.105484  13.152092 -10.113154"
      ]
     },
     "execution_count": 27,
     "metadata": {},
     "output_type": "execute_result"
    }
   ],
   "source": [
    "#Lets look at this more closely\n",
    "two_way_table = pd.crosstab(index=data[\"ARREST_BORO\"], columns=data[\"Crime Severity\"])\n",
    "\n",
    "#Calculate the chi-square test\n",
    "result_chi = stats.chi2_contingency(observed = two_way_table)\n",
    "chi2, p, dof, expected = stats.chi2_contingency(observed = two_way_table)\n",
    "\n",
    "print('chi-square statistic :', result_chi[0])\n",
    "print('p-value :', result_chi[1])\n",
    "print('degrees of freedom :', result_chi[2])\n",
    "#print('expected counts : \\n', result_chi[3])\n",
    "\n",
    "table = sm.stats.Table(two_way_table)\n",
    "table.standardized_resids"
   ]
  },
  {
   "cell_type": "code",
   "execution_count": 28,
   "id": "43ead616-4729-49d2-b637-63c98bc1a1ea",
   "metadata": {},
   "outputs": [
    {
     "name": "stdout",
     "output_type": "stream",
     "text": [
      "significance=0.050, p=0.000\n",
      "Dependent (reject H0)\n"
     ]
    }
   ],
   "source": [
    "#use chi significance function\n",
    "chi_significant(p)"
   ]
  },
  {
   "cell_type": "markdown",
   "id": "37e667fe-35a2-4acf-88e4-a8b510909aa8",
   "metadata": {},
   "source": [
    "The Chi-Square test above shows that there is a significant relationship on the dependency between crime severity and the NYC Borough, meaning there is a distribution of crime.\n",
    "\n",
    "1. Bronx (0) - Crimes are slightly more likely to be mild and significantly more severe\n",
    "2. Brooklyn (1) - Crimes are significantly more likely to be minor\n",
    "3. Manhatten (2) - Crimes are significantly more likely to be mild\n",
    "4. Queens (3) - Crimes are significantly more likely to be minor or severe\n",
    "5. Staten Island (4) - Crimes are more significantly to be minor\n",
    "\n",
    "Common trends we can see:\n",
    "\n",
    "    Crimes are signifcantly more likely to be minor (except in the Bronx and Manhattan). With mild crimes significantly more likely to occur in Manhatten. While severe crimes are significantly more likely to occur in the Bronx and Queens.\n"
   ]
  },
  {
   "cell_type": "code",
   "execution_count": 29,
   "id": "d9091bf5-3ab5-416f-a279-4220633e5735",
   "metadata": {},
   "outputs": [
    {
     "data": {
      "text/plain": [
       "F_onewayResult(statistic=403674.53265087964, pvalue=0.0)"
      ]
     },
     "execution_count": 29,
     "metadata": {},
     "output_type": "execute_result"
    }
   ],
   "source": [
    "#perform one-way ANOVA \n",
    "f_oneway(df['ARREST_BORO'], df['Crime Severity'], df['ARREST_PRECINCT'])"
   ]
  },
  {
   "cell_type": "code",
   "execution_count": 30,
   "id": "06bc8aec-6e5f-4352-ac55-1886f6f5761f",
   "metadata": {},
   "outputs": [
    {
     "data": {
      "text/plain": [
       "<AxesSubplot:xlabel='ARREST_BORO', ylabel='ARREST_PRECINCT'>"
      ]
     },
     "execution_count": 30,
     "metadata": {},
     "output_type": "execute_result"
    },
    {
     "data": {
      "image/png": "[encoded data removed]",
      "text/plain": [
       "<Figure size 432x288 with 1 Axes>"
      ]
     },
     "metadata": {
      "needs_background": "light"
     },
     "output_type": "display_data"
    }
   ],
   "source": [
    "#plot showing crime severoty when arrest precinct and boro are plotted together\n",
    "sns.scatterplot(data=df, x=df.ARREST_BORO, y=df.ARREST_PRECINCT, hue =df['Crime Severity'])"
   ]
  },
  {
   "cell_type": "code",
   "execution_count": 31,
   "id": "f0a482b1-21b6-4dde-8b75-0bf0a35a7852",
   "metadata": {},
   "outputs": [
    {
     "data": {
      "text/plain": [
       "<AxesSubplot:ylabel='ARREST_BORO'>"
      ]
     },
     "execution_count": 31,
     "metadata": {},
     "output_type": "execute_result"
    },
    {
     "data": {
      "image/png": "[encoded data removed]",
      "text/plain": [
       "<Figure size 432x288 with 1 Axes>"
      ]
     },
     "metadata": {
      "needs_background": "light"
     },
     "output_type": "display_data"
    }
   ],
   "source": [
    "#Bar plot showing proportion of crimes committed per age group at each boro\n",
    "pd.crosstab(data['ARREST_BORO'], data['AGE_GROUP']).plot(kind=\"barh\",stacked=True)"
   ]
  },
  {
   "cell_type": "code",
   "execution_count": 32,
   "id": "f84f6fbb-999a-43b6-8fc1-134ad4e53435",
   "metadata": {},
   "outputs": [
    {
     "name": "stdout",
     "output_type": "stream",
     "text": [
      "chi-square statistic : 320.2693296138679\n",
      "p-value : 1.985476663212746e-64\n",
      "degrees of freedom : 8\n"
     ]
    },
    {
     "data": {
      "text/html": [
       "<div>\n",
       "<style scoped>\n",
       "    .dataframe tbody tr th:only-of-type {\n",
       "        vertical-align: middle;\n",
       "    }\n",
       "\n",
       "    .dataframe tbody tr th {\n",
       "        vertical-align: top;\n",
       "    }\n",
       "\n",
       "    .dataframe thead th {\n",
       "        text-align: right;\n",
       "    }\n",
       "</style>\n",
       "<table border=\"1\" class=\"dataframe\">\n",
       "  <thead>\n",
       "    <tr style=\"text-align: right;\">\n",
       "      <th>AGE_GROUP</th>\n",
       "      <th>18-24</th>\n",
       "      <th>25-44</th>\n",
       "      <th>45-64</th>\n",
       "    </tr>\n",
       "    <tr>\n",
       "      <th>ARREST_BORO</th>\n",
       "      <th></th>\n",
       "      <th></th>\n",
       "      <th></th>\n",
       "    </tr>\n",
       "  </thead>\n",
       "  <tbody>\n",
       "    <tr>\n",
       "      <th>Bronx</th>\n",
       "      <td>8.096570</td>\n",
       "      <td>1.984839</td>\n",
       "      <td>-10.688969</td>\n",
       "    </tr>\n",
       "    <tr>\n",
       "      <th>Brooklyn</th>\n",
       "      <td>2.698632</td>\n",
       "      <td>0.943463</td>\n",
       "      <td>-3.908639</td>\n",
       "    </tr>\n",
       "    <tr>\n",
       "      <th>Manhatten</th>\n",
       "      <td>-10.465856</td>\n",
       "      <td>-2.305622</td>\n",
       "      <td>13.497753</td>\n",
       "    </tr>\n",
       "    <tr>\n",
       "      <th>Queens</th>\n",
       "      <td>-0.962030</td>\n",
       "      <td>1.124454</td>\n",
       "      <td>-0.399255</td>\n",
       "    </tr>\n",
       "    <tr>\n",
       "      <th>Staten Island</th>\n",
       "      <td>0.885296</td>\n",
       "      <td>-3.611335</td>\n",
       "      <td>3.529307</td>\n",
       "    </tr>\n",
       "  </tbody>\n",
       "</table>\n",
       "</div>"
      ],
      "text/plain": [
       "AGE_GROUP          18-24     25-44      45-64\n",
       "ARREST_BORO                                  \n",
       "Bronx           8.096570  1.984839 -10.688969\n",
       "Brooklyn        2.698632  0.943463  -3.908639\n",
       "Manhatten     -10.465856 -2.305622  13.497753\n",
       "Queens         -0.962030  1.124454  -0.399255\n",
       "Staten Island   0.885296 -3.611335   3.529307"
      ]
     },
     "execution_count": 32,
     "metadata": {},
     "output_type": "execute_result"
    }
   ],
   "source": [
    "#Lets do the same stats but with ARREST BORO and age group\n",
    "two_way_table = pd.crosstab(index=data[\"ARREST_BORO\"], columns=data[\"AGE_GROUP\"])\n",
    "\n",
    "#Calculate the chi-square test\n",
    "result_chi = stats.chi2_contingency(observed = two_way_table)\n",
    "chi2, p, dof, expected = stats.chi2_contingency(observed = two_way_table)\n",
    "\n",
    "print('chi-square statistic :', result_chi[0])\n",
    "print('p-value :', result_chi[1])\n",
    "print('degrees of freedom :', result_chi[2])\n",
    "#print('expected counts : \\n', result_chi[3])\n",
    "\n",
    "table = sm.stats.Table(two_way_table)\n",
    "table.standardized_resids"
   ]
  },
  {
   "cell_type": "code",
   "execution_count": 33,
   "id": "e8abcb08-2552-41d9-8ce5-699e2e925fce",
   "metadata": {},
   "outputs": [
    {
     "name": "stdout",
     "output_type": "stream",
     "text": [
      "significance=0.050, p=0.000\n",
      "Dependent (reject H0)\n"
     ]
    }
   ],
   "source": [
    "#use chi significance function\n",
    "chi_significant(p)"
   ]
  },
  {
   "cell_type": "markdown",
   "id": "e6698460-6a8b-4272-b3f0-c01d2d660276",
   "metadata": {},
   "source": [
    "The Chi-Square test above shows that there is a significant relationship on the dependency between crime severity and the age group, meaning there is a distribution of crime.\n",
    "\n",
    "1. Bronx (0) - Crimes are more likely to occur in the 18-24 and the 25-44 age groups, sig more in 18-24\n",
    "2. Brooklyn (1) - Crimes are significantly more likely to be committed byt the 18-24 age group and slightly in the 25-44 age group\n",
    "3. Manhatten (2) - Crimes are significantly more likely to be committed by the 45 to 64 age group\n",
    "4. Queens (3) - Crimes are significantly but slightly more likely to be committed by the 25-44 age group\n",
    "5. Staten Island (4) - Crimes are more significantly to be committed by the 45-64 age group, ad slightly in the 18-24 age group.\n",
    "\n",
    "Common trends we can see:\n",
    "\n",
    "    The 18-24 age group are more likely to commit crimes in Bronx and Brooklyn. While the 45 to 64 age group are more likely to do crime in Manhatten and State Island (more signigicantly than the 18-24 age group.  And the 25-44 more likely to commit crime in the Bronx, Queens and Brooklyn.\n",
    "    \n",
    "Common covid-related trends we can see:\n",
    "\n",
    "    It is interesting to note that the highest significance is in the 45 to 64 age group in Manhatten.  "
   ]
  },
  {
   "cell_type": "code",
   "execution_count": 34,
   "id": "b5dd78c3-cb59-4b85-b4c1-96223eac7a14",
   "metadata": {},
   "outputs": [
    {
     "data": {
      "text/plain": [
       "F_onewayResult(statistic=108180.4949654675, pvalue=0.0)"
      ]
     },
     "execution_count": 34,
     "metadata": {},
     "output_type": "execute_result"
    }
   ],
   "source": [
    "#perform one-way ANOVA \n",
    "f_oneway(df['ARREST_BORO'], df['AGE_GROUP'], df['PERP_RACE'])"
   ]
  },
  {
   "cell_type": "markdown",
   "id": "c3a82267-d8e3-46eb-81b0-4ee706b66f86",
   "metadata": {},
   "source": [
    "Yes we have signifcance in the boroughs with our demographics"
   ]
  },
  {
   "cell_type": "code",
   "execution_count": 36,
   "id": "751d473e-7125-4243-8b97-8dba363af52e",
   "metadata": {},
   "outputs": [
    {
     "data": {
      "text/plain": [
       "<AxesSubplot:ylabel='ARREST_BORO'>"
      ]
     },
     "execution_count": 36,
     "metadata": {},
     "output_type": "execute_result"
    },
    {
     "data": {
      "image/png": "[encoded data removed]",
      "text/plain": [
       "<Figure size 432x288 with 1 Axes>"
      ]
     },
     "metadata": {
      "needs_background": "light"
     },
     "output_type": "display_data"
    }
   ],
   "source": [
    "#Bar plot showing proportion of crimes committed per rae at each boro\n",
    "pd.crosstab(data['ARREST_BORO'], data['PERP_RACE']).plot(kind=\"barh\",stacked=True)"
   ]
  },
  {
   "cell_type": "code",
   "execution_count": 37,
   "id": "51ec1723-792e-4613-97f9-4f2ef4842a1a",
   "metadata": {},
   "outputs": [
    {
     "data": {
      "image/png": "[encoded data removed]",
      "text/plain": [
       "<Figure size 864x576 with 1 Axes>"
      ]
     },
     "metadata": {
      "needs_background": "light"
     },
     "output_type": "display_data"
    }
   ],
   "source": [
    "#Calculating the percentage of crime severity at each borough\n",
    "boro_name = ['Manhatten', 'Brooklyn', 'Queens', 'Bronx', 'Staten Island']\n",
    "race = ['AMERICAN INDIAN/ALASKAN NATIVE', 'ASIAN / PACIFIC ISLANDER', \n",
    "        'BLACK', 'BLACK HISPANIC', 'WHITE','WHITE HISPANIC']\n",
    "subtotal_boro = data.groupby('ARREST_BORO')['PERP_RACE'].agg('count').sort_values(ascending=False) #total of each boro count\n",
    "fig = plt.figure(figsize=[12,8])\n",
    "ax = sns.countplot(x=\"ARREST_BORO\", hue=\"PERP_RACE\", \n",
    "                   data=data[['ARREST_BORO', 'PERP_RACE']], \n",
    "                   order = subtotal_boro.index,\n",
    "                  palette = \"ch:2.5,-.2,dark=.3\")\n",
    "\n",
    "ax.set_xlabel('NYC Borough', fontsize = 14)\n",
    "ax.set_ylabel('Number of Crimes', fontsize = 14)\n",
    "ax.set_title('Percentage of Crime per Ethnicity in NYC Boroughs', fontsize = 16)\n",
    "#ax._legend.set_title('Ethnicity', fontsize=12)\n",
    "ax.legend(title = \"ETHNICITY\", fontsize = 11)\n",
    "\n",
    "#calculate percentage to anntotate\n",
    "boro_num2 = [val for val in range(0, 5)]*3 #[0,1,2,3,4,0,1,2,3,4...] work for the order\n",
    "for p, i in zip(ax.patches, boro_num2):\n",
    "    percent = p.get_height()/subtotal_boro[i]\n",
    "    ax.annotate('{:.1f}%'. format(percent*100), (p.get_x()+0.138, p.get_height()+300), \n",
    "                ha='center', size=12, rotation = 15)"
   ]
  },
  {
   "cell_type": "code",
   "execution_count": 38,
   "id": "9eefa52c-0d36-4817-be87-70f45ec93cdd",
   "metadata": {},
   "outputs": [
    {
     "name": "stdout",
     "output_type": "stream",
     "text": [
      "chi-square statistic : 15149.841653302996\n",
      "p-value : 0.0\n",
      "degrees of freedom : 20\n"
     ]
    },
    {
     "data": {
      "text/html": [
       "<div>\n",
       "<style scoped>\n",
       "    .dataframe tbody tr th:only-of-type {\n",
       "        vertical-align: middle;\n",
       "    }\n",
       "\n",
       "    .dataframe tbody tr th {\n",
       "        vertical-align: top;\n",
       "    }\n",
       "\n",
       "    .dataframe thead th {\n",
       "        text-align: right;\n",
       "    }\n",
       "</style>\n",
       "<table border=\"1\" class=\"dataframe\">\n",
       "  <thead>\n",
       "    <tr style=\"text-align: right;\">\n",
       "      <th>PERP_RACE</th>\n",
       "      <th>AMERICAN INDIAN/ALASKAN NATIVE</th>\n",
       "      <th>ASIAN / PACIFIC ISLANDER</th>\n",
       "      <th>BLACK</th>\n",
       "      <th>BLACK HISPANIC</th>\n",
       "      <th>WHITE</th>\n",
       "      <th>WHITE HISPANIC</th>\n",
       "    </tr>\n",
       "    <tr>\n",
       "      <th>ARREST_BORO</th>\n",
       "      <th></th>\n",
       "      <th></th>\n",
       "      <th></th>\n",
       "      <th></th>\n",
       "      <th></th>\n",
       "      <th></th>\n",
       "    </tr>\n",
       "  </thead>\n",
       "  <tbody>\n",
       "    <tr>\n",
       "      <th>Bronx</th>\n",
       "      <td>-2.469828</td>\n",
       "      <td>-32.022229</td>\n",
       "      <td>-4.844893</td>\n",
       "      <td>54.980856</td>\n",
       "      <td>-48.220679</td>\n",
       "      <td>22.286282</td>\n",
       "    </tr>\n",
       "    <tr>\n",
       "      <th>Brooklyn</th>\n",
       "      <td>-1.043089</td>\n",
       "      <td>-10.830476</td>\n",
       "      <td>39.148885</td>\n",
       "      <td>-30.221651</td>\n",
       "      <td>13.991917</td>\n",
       "      <td>-30.134400</td>\n",
       "    </tr>\n",
       "    <tr>\n",
       "      <th>Manhatten</th>\n",
       "      <td>-2.416572</td>\n",
       "      <td>-24.503219</td>\n",
       "      <td>6.332989</td>\n",
       "      <td>9.045901</td>\n",
       "      <td>4.705367</td>\n",
       "      <td>-3.622720</td>\n",
       "    </tr>\n",
       "    <tr>\n",
       "      <th>Queens</th>\n",
       "      <td>6.058497</td>\n",
       "      <td>72.641702</td>\n",
       "      <td>-36.241381</td>\n",
       "      <td>-25.856538</td>\n",
       "      <td>2.213550</td>\n",
       "      <td>18.543052</td>\n",
       "    </tr>\n",
       "    <tr>\n",
       "      <th>Staten Island</th>\n",
       "      <td>0.145703</td>\n",
       "      <td>-6.022147</td>\n",
       "      <td>-15.182051</td>\n",
       "      <td>-13.906414</td>\n",
       "      <td>53.992500</td>\n",
       "      <td>-10.006127</td>\n",
       "    </tr>\n",
       "  </tbody>\n",
       "</table>\n",
       "</div>"
      ],
      "text/plain": [
       "PERP_RACE      AMERICAN INDIAN/ALASKAN NATIVE  ASIAN / PACIFIC ISLANDER  \\\n",
       "ARREST_BORO                                                               \n",
       "Bronx                               -2.469828                -32.022229   \n",
       "Brooklyn                            -1.043089                -10.830476   \n",
       "Manhatten                           -2.416572                -24.503219   \n",
       "Queens                               6.058497                 72.641702   \n",
       "Staten Island                        0.145703                 -6.022147   \n",
       "\n",
       "PERP_RACE          BLACK  BLACK HISPANIC      WHITE  WHITE HISPANIC  \n",
       "ARREST_BORO                                                          \n",
       "Bronx          -4.844893       54.980856 -48.220679       22.286282  \n",
       "Brooklyn       39.148885      -30.221651  13.991917      -30.134400  \n",
       "Manhatten       6.332989        9.045901   4.705367       -3.622720  \n",
       "Queens        -36.241381      -25.856538   2.213550       18.543052  \n",
       "Staten Island -15.182051      -13.906414  53.992500      -10.006127  "
      ]
     },
     "execution_count": 38,
     "metadata": {},
     "output_type": "execute_result"
    }
   ],
   "source": [
    "#Lets do the same stats but with ARREST BORO and age group\n",
    "two_way_table = pd.crosstab(index=data[\"ARREST_BORO\"], columns=data[\"PERP_RACE\"])\n",
    "\n",
    "#Calculate the chi-square test\n",
    "result_chi = stats.chi2_contingency(observed = two_way_table)\n",
    "chi2, p, dof, expected = stats.chi2_contingency(observed = two_way_table)\n",
    "\n",
    "print('chi-square statistic :', result_chi[0])\n",
    "print('p-value :', result_chi[1])\n",
    "print('degrees of freedom :', result_chi[2])\n",
    "#print('expected counts : \\n', result_chi[3])\n",
    "\n",
    "table = sm.stats.Table(two_way_table)\n",
    "table.standardized_resids"
   ]
  },
  {
   "cell_type": "code",
   "execution_count": 39,
   "id": "5bf20e14-c299-44ae-b39a-e5263bb6fb19",
   "metadata": {},
   "outputs": [
    {
     "name": "stdout",
     "output_type": "stream",
     "text": [
      "significance=0.050, p=0.000\n",
      "Dependent (reject H0)\n"
     ]
    }
   ],
   "source": [
    "#use chi significance function\n",
    "chi_significant(p)"
   ]
  },
  {
   "cell_type": "markdown",
   "id": "502b19df-61d3-49a9-9ab8-2ebfff83392f",
   "metadata": {},
   "source": [
    "American Indian/Alaskan Native = 0\n",
    "ASIAN / PACIFIC ISLANDER = 1\n",
    "BLACK = 2\n",
    "BLACK HISPANIC = 3\n",
    "WHITE = 4\n",
    "WHITE HISPANIC = 5\n",
    "\n",
    "The Chi-Square test above shows that there is a significant relationship on the dependency between crime severity and the ethnicities, meaning there is a distribution of crime.\n",
    "\n",
    "1. Bronx (0) - Crimes are more likely to be committed by Black Hispanic and White Hispanics\n",
    "2. Brooklyn (1) - Crimes are significantly more likely to be committed by Black and White, sig more Black\n",
    "3. Manhatten (2) - Crimes are significantly more likely to be committed by Black, Black Hispanic & White, Sig more black hispanic\n",
    "4. Queens (3) - Crimes are significantly more likely to be committed by Asian, white hispanic, Indeginous and white (respectively), most sig more Asian\n",
    "5. Staten Island (4) - Crimes are more significantly to be committed by whites, with very slightly significant indeginous.\n",
    "\n",
    "Common trends we can see:\n",
    "\n",
    "    Trends may be tied more to economics. Queens and Staten are more expensive, so more likely to occur by Asian, white hispanic & Whites.\n",
    "    \n",
    "Common covid-related trends we can see:\n",
    "\n",
    "    There was also a BLM movement (that started May 26th) that might also affect the crimes and why we might see more increase in Black crimes. \n",
    "    "
   ]
  },
  {
   "cell_type": "markdown",
   "id": "ab9b4275-a9d0-42d5-9daa-24ce91f234aa",
   "metadata": {},
   "source": [
    "#### Relations with Crime Severity"
   ]
  },
  {
   "cell_type": "code",
   "execution_count": 42,
   "id": "1a1fe22f-81a8-4a75-9ba9-6dc7cfea5a2f",
   "metadata": {},
   "outputs": [
    {
     "data": {
      "text/plain": [
       "<AxesSubplot:ylabel='ARREST_PRECINCT'>"
      ]
     },
     "execution_count": 42,
     "metadata": {},
     "output_type": "execute_result"
    },
    {
     "data": {
      "image/png": "[encoded data removed]",
      "text/plain": [
       "<Figure size 432x288 with 1 Axes>"
      ]
     },
     "metadata": {
      "needs_background": "light"
     },
     "output_type": "display_data"
    }
   ],
   "source": [
    "#Bar plot showing proportion of crimes committed per age group at each precinct\n",
    "pd.crosstab(df['ARREST_PRECINCT'], df['Crime Severity']).plot(kind=\"barh\",stacked=True)"
   ]
  },
  {
   "cell_type": "code",
   "execution_count": 43,
   "id": "33e11b6c-7740-4f11-9c64-1996c54e757c",
   "metadata": {},
   "outputs": [],
   "source": [
    "#Seperate data into boroughs\n",
    "Bronx = df.loc[df['ARREST_BORO'] == 0]\n",
    "Brooklyn = df.loc[df['ARREST_BORO'] == 1]\n",
    "Manhatten = df.loc[df['ARREST_BORO'] == 2]\n",
    "Queens = df.loc[df['ARREST_BORO'] == 3]\n",
    "Staten = df.loc[df['ARREST_BORO'] == 4]"
   ]
  },
  {
   "cell_type": "markdown",
   "id": "aa9e75e7-a33a-4be9-b39e-af8a0d8b4b14",
   "metadata": {},
   "source": [
    "Now do each precinct in each borough"
   ]
  },
  {
   "cell_type": "code",
   "execution_count": 44,
   "id": "9fa2ba11-2464-43b5-bc5b-93d1a3033e35",
   "metadata": {},
   "outputs": [
    {
     "data": {
      "image/png": "[encoded data removed]",
      "text/plain": [
       "<Figure size 432x288 with 1 Axes>"
      ]
     },
     "metadata": {
      "needs_background": "light"
     },
     "output_type": "display_data"
    }
   ],
   "source": [
    "#plot Precints in Bronx with crime severity\n",
    "pd.crosstab(Bronx['ARREST_PRECINCT'], \n",
    "            Bronx['Crime Severity']).plot(kind=\"barh\",stacked=True)\n",
    "plt.xlabel('Number of Crimes', size = 12)\n",
    "plt.ylabel('Precinct', size = 12)\n",
    "plt.title('Number of Crimes per Precinct in Bronx', size= 15)\n",
    "plt.legend(['Minor','Mild','Severe'], title = 'Crime Severity')\n",
    "plt.show()"
   ]
  },
  {
   "cell_type": "code",
   "execution_count": 45,
   "id": "fb2995ea-a0be-4395-93eb-853aa1841fc7",
   "metadata": {},
   "outputs": [
    {
     "name": "stdout",
     "output_type": "stream",
     "text": [
      "chi-square statistic : 534.0062121328104\n",
      "p-value : 1.4149688986583054e-97\n",
      "degrees of freedom : 24\n"
     ]
    },
    {
     "data": {
      "text/html": [
       "<div>\n",
       "<style scoped>\n",
       "    .dataframe tbody tr th:only-of-type {\n",
       "        vertical-align: middle;\n",
       "    }\n",
       "\n",
       "    .dataframe tbody tr th {\n",
       "        vertical-align: top;\n",
       "    }\n",
       "\n",
       "    .dataframe thead th {\n",
       "        text-align: right;\n",
       "    }\n",
       "</style>\n",
       "<table border=\"1\" class=\"dataframe\">\n",
       "  <thead>\n",
       "    <tr style=\"text-align: right;\">\n",
       "      <th>ARREST_PRECINCT</th>\n",
       "      <th>40</th>\n",
       "      <th>41</th>\n",
       "      <th>42</th>\n",
       "      <th>43</th>\n",
       "      <th>44</th>\n",
       "      <th>45</th>\n",
       "      <th>46</th>\n",
       "      <th>47</th>\n",
       "      <th>48</th>\n",
       "      <th>49</th>\n",
       "      <th>50</th>\n",
       "      <th>52</th>\n",
       "      <th>73</th>\n",
       "    </tr>\n",
       "    <tr>\n",
       "      <th>Crime Severity</th>\n",
       "      <th></th>\n",
       "      <th></th>\n",
       "      <th></th>\n",
       "      <th></th>\n",
       "      <th></th>\n",
       "      <th></th>\n",
       "      <th></th>\n",
       "      <th></th>\n",
       "      <th></th>\n",
       "      <th></th>\n",
       "      <th></th>\n",
       "      <th></th>\n",
       "      <th></th>\n",
       "    </tr>\n",
       "  </thead>\n",
       "  <tbody>\n",
       "    <tr>\n",
       "      <th>0</th>\n",
       "      <td>-2.852009</td>\n",
       "      <td>8.229144</td>\n",
       "      <td>-2.807760</td>\n",
       "      <td>0.218010</td>\n",
       "      <td>-2.637405</td>\n",
       "      <td>2.894634</td>\n",
       "      <td>-6.636213</td>\n",
       "      <td>-4.030708</td>\n",
       "      <td>-6.192827</td>\n",
       "      <td>12.448753</td>\n",
       "      <td>7.332212</td>\n",
       "      <td>1.983606</td>\n",
       "      <td>-0.070718</td>\n",
       "    </tr>\n",
       "    <tr>\n",
       "      <th>1</th>\n",
       "      <td>6.599123</td>\n",
       "      <td>-2.021673</td>\n",
       "      <td>-1.615308</td>\n",
       "      <td>-4.186124</td>\n",
       "      <td>1.749036</td>\n",
       "      <td>-3.431664</td>\n",
       "      <td>7.087070</td>\n",
       "      <td>-3.683651</td>\n",
       "      <td>3.970761</td>\n",
       "      <td>-8.248194</td>\n",
       "      <td>-5.052199</td>\n",
       "      <td>2.734522</td>\n",
       "      <td>-0.238771</td>\n",
       "    </tr>\n",
       "    <tr>\n",
       "      <th>2</th>\n",
       "      <td>-3.741949</td>\n",
       "      <td>-5.541284</td>\n",
       "      <td>4.103520</td>\n",
       "      <td>3.820383</td>\n",
       "      <td>0.718923</td>\n",
       "      <td>0.662492</td>\n",
       "      <td>-0.769718</td>\n",
       "      <td>7.201011</td>\n",
       "      <td>1.818748</td>\n",
       "      <td>-3.400466</td>\n",
       "      <td>-1.816532</td>\n",
       "      <td>-4.428612</td>\n",
       "      <td>0.293514</td>\n",
       "    </tr>\n",
       "  </tbody>\n",
       "</table>\n",
       "</div>"
      ],
      "text/plain": [
       "ARREST_PRECINCT        40        41        42        43        44        45  \\\n",
       "Crime Severity                                                                \n",
       "0               -2.852009  8.229144 -2.807760  0.218010 -2.637405  2.894634   \n",
       "1                6.599123 -2.021673 -1.615308 -4.186124  1.749036 -3.431664   \n",
       "2               -3.741949 -5.541284  4.103520  3.820383  0.718923  0.662492   \n",
       "\n",
       "ARREST_PRECINCT        46        47        48         49        50        52  \\\n",
       "Crime Severity                                                                 \n",
       "0               -6.636213 -4.030708 -6.192827  12.448753  7.332212  1.983606   \n",
       "1                7.087070 -3.683651  3.970761  -8.248194 -5.052199  2.734522   \n",
       "2               -0.769718  7.201011  1.818748  -3.400466 -1.816532 -4.428612   \n",
       "\n",
       "ARREST_PRECINCT        73  \n",
       "Crime Severity             \n",
       "0               -0.070718  \n",
       "1               -0.238771  \n",
       "2                0.293514  "
      ]
     },
     "execution_count": 45,
     "metadata": {},
     "output_type": "execute_result"
    }
   ],
   "source": [
    "#Lets do the same stats but with ARREST BORO and age group\n",
    "two_way_table = pd.crosstab(index=Bronx[\"Crime Severity\"], columns=Bronx[\"ARREST_PRECINCT\"])\n",
    "\n",
    "#Calculate the chi-square test\n",
    "result_chi = stats.chi2_contingency(observed = two_way_table)\n",
    "chi2, p, dof, expected = stats.chi2_contingency(observed = two_way_table)\n",
    "\n",
    "print('chi-square statistic :', result_chi[0])\n",
    "print('p-value :', result_chi[1])\n",
    "print('degrees of freedom :', result_chi[2])\n",
    "#print('expected counts : \\n', result_chi[3])\n",
    "\n",
    "table = sm.stats.Table(two_way_table)\n",
    "table.standardized_resids"
   ]
  },
  {
   "cell_type": "markdown",
   "id": "5556d619-ed63-4b48-86a7-33d8eb643762",
   "metadata": {},
   "source": [
    "#### Note\n",
    "This is an example of how we can select our Precincts.\n",
    "\n",
    "If we just want to focus on severe crime then in the Bronx maybe precincts 42, 43, 47 and 48 could be something to look at.\n",
    "\n",
    "Or we can go based on the bar plot and select precincts based on crime count."
   ]
  },
  {
   "cell_type": "code",
   "execution_count": 46,
   "id": "87ae10c4-035c-44d8-a7b0-c27b17235049",
   "metadata": {},
   "outputs": [
    {
     "data": {
      "text/plain": [
       "F_onewayResult(statistic=3978727.7922203946, pvalue=0.0)"
      ]
     },
     "execution_count": 46,
     "metadata": {},
     "output_type": "execute_result"
    }
   ],
   "source": [
    "#perform one-way ANOVA \n",
    "f_oneway(Bronx['ARREST_PRECINCT'], Bronx['Crime Severity']) #significant difference between precincts with crime severity"
   ]
  },
  {
   "cell_type": "code",
   "execution_count": 47,
   "id": "2fc30887-09b6-4d83-a782-cf4cae400bc9",
   "metadata": {},
   "outputs": [
    {
     "data": {
      "image/png": "[encoded data removed]",
      "text/plain": [
       "<Figure size 432x288 with 1 Axes>"
      ]
     },
     "metadata": {
      "needs_background": "light"
     },
     "output_type": "display_data"
    }
   ],
   "source": [
    "#plot Precints in Brooklyn with crime severity\n",
    "pd.crosstab(Brooklyn['ARREST_PRECINCT'], \n",
    "            Brooklyn['Crime Severity']).plot(kind=\"barh\",stacked=True)\n",
    "plt.xlabel('Number of Crimes', size = 12)\n",
    "plt.ylabel('Precinct', size = 12)\n",
    "plt.title('Number of Crimes per Precinct in Brooklyn', size= 15)\n",
    "plt.legend(['Minor','Mild','Severe'], title = 'Crime Severity')\n",
    "plt.show()"
   ]
  },
  {
   "cell_type": "code",
   "execution_count": 48,
   "id": "bf5f1579-7f33-4143-a68d-e6f4984a5091",
   "metadata": {},
   "outputs": [
    {
     "data": {
      "text/plain": [
       "F_onewayResult(statistic=2551941.3687700187, pvalue=0.0)"
      ]
     },
     "execution_count": 48,
     "metadata": {},
     "output_type": "execute_result"
    }
   ],
   "source": [
    "#perform one-way ANOVA \n",
    "f_oneway(Brooklyn['ARREST_PRECINCT'], Brooklyn['Crime Severity']) #significant difference between precincts with crime severity"
   ]
  },
  {
   "cell_type": "code",
   "execution_count": 49,
   "id": "7e4e564e-5f2f-4d5a-a3cf-c06ab867e6f2",
   "metadata": {},
   "outputs": [
    {
     "data": {
      "image/png": "[encoded data removed]",
      "text/plain": [
       "<Figure size 432x288 with 1 Axes>"
      ]
     },
     "metadata": {
      "needs_background": "light"
     },
     "output_type": "display_data"
    }
   ],
   "source": [
    "#plot Precints in Manhatten with crime severity\n",
    "pd.crosstab(Manhatten['ARREST_PRECINCT'], \n",
    "            Manhatten['Crime Severity']).plot(kind=\"barh\",stacked=True)\n",
    "plt.xlabel('Number of Crimes', size = 12)\n",
    "plt.ylabel('Precinct', size = 12)\n",
    "plt.title('Number of Crimes per Precinct in Manhatten', size= 15)\n",
    "plt.legend(['Minor','Mild','Severe'], title = 'Crime Severity')\n",
    "plt.show()"
   ]
  },
  {
   "cell_type": "code",
   "execution_count": 50,
   "id": "3a62a46a-c3fd-427c-809d-e717be2dfa85",
   "metadata": {},
   "outputs": [
    {
     "data": {
      "text/plain": [
       "F_onewayResult(statistic=91230.71791835951, pvalue=0.0)"
      ]
     },
     "execution_count": 50,
     "metadata": {},
     "output_type": "execute_result"
    }
   ],
   "source": [
    "#perform one-way ANOVA \n",
    "f_oneway(Manhatten['ARREST_PRECINCT'], Manhatten['Crime Severity']) #significant difference between precincts with crime severity"
   ]
  },
  {
   "cell_type": "code",
   "execution_count": 51,
   "id": "34ab95e7-c2bd-4ff1-bd35-4c10ae2e253d",
   "metadata": {},
   "outputs": [
    {
     "data": {
      "image/png": "[encoded data removed]",
      "text/plain": [
       "<Figure size 432x288 with 1 Axes>"
      ]
     },
     "metadata": {
      "needs_background": "light"
     },
     "output_type": "display_data"
    }
   ],
   "source": [
    "#plot Precints in Queens with crime severity\n",
    "pd.crosstab(Queens['ARREST_PRECINCT'], \n",
    "            Queens['Crime Severity']).plot(kind=\"barh\",stacked=True)\n",
    "plt.xlabel('Number of Crimes', size = 12)\n",
    "plt.ylabel('Precinct', size = 12)\n",
    "plt.title('Number of Crimes per Precinct in Queens', size= 15)\n",
    "plt.legend(['Minor','Mild','Severe'], title = 'Crime Severity')\n",
    "plt.show()"
   ]
  },
  {
   "cell_type": "code",
   "execution_count": 52,
   "id": "aae73433-0840-4e63-9fe3-76a5c3a9cc77",
   "metadata": {},
   "outputs": [
    {
     "data": {
      "text/plain": [
       "F_onewayResult(statistic=13235959.554685911, pvalue=0.0)"
      ]
     },
     "execution_count": 52,
     "metadata": {},
     "output_type": "execute_result"
    }
   ],
   "source": [
    "#perform one-way ANOVA \n",
    "f_oneway(Queens['ARREST_PRECINCT'], Queens['Crime Severity']) #significant difference between precincts with crime severity"
   ]
  },
  {
   "cell_type": "code",
   "execution_count": 53,
   "id": "53064855-270d-4734-a450-e6ebbfe73642",
   "metadata": {},
   "outputs": [
    {
     "data": {
      "image/png": "[encoded data removed]",
      "text/plain": [
       "<Figure size 432x288 with 1 Axes>"
      ]
     },
     "metadata": {
      "needs_background": "light"
     },
     "output_type": "display_data"
    }
   ],
   "source": [
    "#plot Precints on Staten Island with crime severity\n",
    "pd.crosstab(Staten['ARREST_PRECINCT'], \n",
    "            Staten['Crime Severity']).plot(kind=\"barh\",stacked=True)\n",
    "plt.xlabel('Number of Crimes', size = 12)\n",
    "plt.ylabel('Precinct', size = 12)\n",
    "plt.title('Number of Crimes per Precinct on Staten Island', size= 15)\n",
    "plt.legend(['Minor','Mild','Severe'], title = 'Crime Severity')\n",
    "plt.show()"
   ]
  },
  {
   "cell_type": "code",
   "execution_count": 54,
   "id": "97494cf7-b0ba-4923-b02f-193bab9ec433",
   "metadata": {},
   "outputs": [
    {
     "data": {
      "text/plain": [
       "F_onewayResult(statistic=46742904.69876357, pvalue=0.0)"
      ]
     },
     "execution_count": 54,
     "metadata": {},
     "output_type": "execute_result"
    }
   ],
   "source": [
    "#perform one-way ANOVA \n",
    "f_oneway(Staten['ARREST_PRECINCT'], Staten['Crime Severity']) #significant difference between precincts with crime severity"
   ]
  },
  {
   "cell_type": "markdown",
   "id": "a5b4b517-7415-4373-a98d-b5ad51f7b7ec",
   "metadata": {},
   "source": [
    "In all boroughs, there is a significant difference with the number of crimes per precinct and crime severity"
   ]
  },
  {
   "cell_type": "code",
   "execution_count": 56,
   "id": "d43f9717-4410-437b-a571-b96edd732ea3",
   "metadata": {},
   "outputs": [],
   "source": [
    "### Relations with demographic factors"
   ]
  },
  {
   "cell_type": "markdown",
   "id": "11406cff-9f33-4656-adaa-ef39c916e1eb",
   "metadata": {},
   "source": [
    "We aren't focusing too much on demographics for this assignment, so I will just do some basic one-way ANOVAS"
   ]
  },
  {
   "cell_type": "code",
   "execution_count": 57,
   "id": "2dc3661c-596f-4d0e-aedd-51adb793c0ec",
   "metadata": {},
   "outputs": [
    {
     "data": {
      "image/png": "[encoded data removed]",
      "text/plain": [
       "<Figure size 432x288 with 1 Axes>"
      ]
     },
     "metadata": {
      "needs_background": "light"
     },
     "output_type": "display_data"
    }
   ],
   "source": [
    "#plot gender by Age group\n",
    "pd.crosstab(data['AGE_GROUP'], \n",
    "            data['PERP_SEX']).plot(kind=\"barh\",stacked=True)\n",
    "plt.xlabel('Number of Crimes', size = 12)\n",
    "plt.ylabel('Age Group', size = 12)\n",
    "plt.title('Number of Crimes per Age Group', size= 15)\n",
    "plt.legend(['Female','Male'], title = 'Gender')\n",
    "plt.show()"
   ]
  },
  {
   "cell_type": "code",
   "execution_count": 58,
   "id": "0a3ca9ef-58d2-4ad2-9a07-88063233e520",
   "metadata": {},
   "outputs": [
    {
     "data": {
      "text/plain": [
       "F_onewayResult(statistic=5478.377280457816, pvalue=0.0)"
      ]
     },
     "execution_count": 58,
     "metadata": {},
     "output_type": "execute_result"
    }
   ],
   "source": [
    "#perform one-way ANOVA \n",
    "f_oneway(df['AGE_GROUP'], df['PERP_SEX']) #significant difference between age and sex"
   ]
  },
  {
   "cell_type": "code",
   "execution_count": 59,
   "id": "1a86793f-ce08-4418-b95c-58365209ee7f",
   "metadata": {},
   "outputs": [
    {
     "data": {
      "image/png": "[encoded data removed]",
      "text/plain": [
       "<Figure size 432x288 with 1 Axes>"
      ]
     },
     "metadata": {
      "needs_background": "light"
     },
     "output_type": "display_data"
    }
   ],
   "source": [
    "#plot ethnicity by sex\n",
    "pd.crosstab(data['PERP_RACE'], \n",
    "            data['AGE_GROUP']).plot(kind=\"barh\",stacked=True)\n",
    "plt.xlabel('Number of Crimes', size = 12)\n",
    "plt.ylabel('Ethnicity', size = 12)\n",
    "plt.title('Number of Crimes per Ethnicity', size= 15)\n",
    "plt.legend(['18-24','25-44','45-64'], title = 'Age Group')\n",
    "plt.show()"
   ]
  },
  {
   "cell_type": "code",
   "execution_count": 60,
   "id": "94bc3581-18b0-4547-9f19-2d0056851297",
   "metadata": {},
   "outputs": [
    {
     "data": {
      "text/plain": [
       "F_onewayResult(statistic=221146.3968998617, pvalue=0.0)"
      ]
     },
     "execution_count": 60,
     "metadata": {},
     "output_type": "execute_result"
    }
   ],
   "source": [
    "#perform one-way ANOVA \n",
    "f_oneway(df['AGE_GROUP'], df['PERP_RACE']) #significant difference between age and race"
   ]
  },
  {
   "cell_type": "code",
   "execution_count": 61,
   "id": "56548280-8d83-4bf8-8b09-4c6c922a9416",
   "metadata": {},
   "outputs": [
    {
     "data": {
      "image/png": "[encoded data removed]",
      "text/plain": [
       "<Figure size 432x288 with 1 Axes>"
      ]
     },
     "metadata": {
      "needs_background": "light"
     },
     "output_type": "display_data"
    }
   ],
   "source": [
    "#plot ethnicity by sex\n",
    "pd.crosstab(data['PERP_RACE'], \n",
    "            data['PERP_SEX']).plot(kind=\"barh\",stacked=True)\n",
    "plt.xlabel('Number of Crimes', size = 12)\n",
    "plt.ylabel('Ethnicity', size = 12)\n",
    "plt.title('Number of Crimes per Ethnicity', size= 15)\n",
    "plt.legend(['Female','Male'], title = 'Gender')\n",
    "plt.show()"
   ]
  },
  {
   "cell_type": "code",
   "execution_count": 62,
   "id": "9f6d1ff7-1c95-494d-889a-871521efb066",
   "metadata": {},
   "outputs": [
    {
     "data": {
      "text/plain": [
       "F_onewayResult(statistic=292497.9194363878, pvalue=0.0)"
      ]
     },
     "execution_count": 62,
     "metadata": {},
     "output_type": "execute_result"
    }
   ],
   "source": [
    "#perform one-way ANOVA \n",
    "f_oneway(df['PERP_RACE'], df['PERP_SEX']) #significant difference between race and sex"
   ]
  },
  {
   "cell_type": "code",
   "execution_count": 63,
   "id": "87a711fe-5cd4-4409-8d27-b66b6e915f53",
   "metadata": {},
   "outputs": [
    {
     "data": {
      "image/png": "[encoded data removed]",
      "text/plain": [
       "<Figure size 432x288 with 1 Axes>"
      ]
     },
     "metadata": {
      "needs_background": "light"
     },
     "output_type": "display_data"
    }
   ],
   "source": [
    "#plot ethnicity by crime severity\n",
    "pd.crosstab(data['PERP_RACE'], \n",
    "            data['Crime Severity']).plot(kind=\"barh\",stacked=True)\n",
    "plt.xlabel('Number of Crimes', size = 12)\n",
    "plt.ylabel('Ethnicity', size = 12)\n",
    "plt.title('Number of Crimes per Ethnicity', size= 15)\n",
    "plt.legend(['Minor','Mild','Severe'], title = 'Crime Severity')\n",
    "plt.show()"
   ]
  },
  {
   "cell_type": "code",
   "execution_count": 64,
   "id": "37a4bc43-a664-4fb8-94cd-964f73471da2",
   "metadata": {},
   "outputs": [
    {
     "data": {
      "text/plain": [
       "F_onewayResult(statistic=197512.65504866964, pvalue=0.0)"
      ]
     },
     "execution_count": 64,
     "metadata": {},
     "output_type": "execute_result"
    }
   ],
   "source": [
    "#perform one-way ANOVA \n",
    "f_oneway(df['PERP_RACE'], df['Crime Severity']) #significant difference between race and crime severity"
   ]
  },
  {
   "cell_type": "code",
   "execution_count": null,
   "id": "a8250a85-7c45-425f-b4f1-cc983e77c5de",
   "metadata": {},
   "outputs": [],
   "source": []
  }
 ],
 "metadata": {
  "kernelspec": {
   "display_name": "LHLBootcamp",
   "language": "python",
   "name": "lhlbootcamp"
  },
  "language_info": {
   "codemirror_mode": {
    "name": "ipython",
    "version": 3
   },
   "file_extension": ".py",
   "mimetype": "text/x-python",
   "name": "python",
   "nbconvert_exporter": "python",
   "pygments_lexer": "ipython3",
   "version": "3.6.10"
  }
 },
 "nbformat": 4,
 "nbformat_minor": 5
}
